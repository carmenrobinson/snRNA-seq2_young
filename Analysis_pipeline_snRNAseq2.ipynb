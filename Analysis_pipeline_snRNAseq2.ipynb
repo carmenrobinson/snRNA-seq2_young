{
 "cells": [
  {
   "cell_type": "markdown",
   "metadata": {},
   "source": [
    "# Analysis of snRNA-seq2 data from young healthy mice"
   ]
  },
  {
   "cell_type": "markdown",
   "metadata": {},
   "source": [
    "## Library and data import"
   ]
  },
  {
   "cell_type": "code",
   "execution_count": null,
   "metadata": {},
   "outputs": [],
   "source": [
    "import scanpy as sc\n",
    "import numpy as np\n",
    "import pandas as pd\n",
    "import anndata as ad\n",
    "import seaborn as sns\n",
    "import matplotlib.pyplot as plt\n",
    "from matplotlib import colors\n",
    "from matplotlib import rcParams\n",
    "from gprofiler import gprofiler\n",
    "import os\n",
    "from scipy import stats\n",
    "from venn import venn\n",
    "import custom_functions as cf"
   ]
  },
  {
   "cell_type": "markdown",
   "metadata": {},
   "source": [
    "#### Figure parameters"
   ]
  },
  {
   "cell_type": "code",
   "execution_count": null,
   "metadata": {},
   "outputs": [],
   "source": [
    "sc.settings.set_figure_params(dpi=80)\n",
    "\n",
    "sc.set_figure_params(scanpy=True, dpi=80, dpi_save=500,\n",
    "                     frameon=True, vector_friendly=True,\n",
    "                     color_map=\"YlGnBu\", format='pdf', transparent=False,\n",
    "                     ipython_format='png2x')"
   ]
  },
  {
   "cell_type": "markdown",
   "metadata": {},
   "source": [
    "#### Load raw count matrix"
   ]
  },
  {
   "cell_type": "code",
   "execution_count": null,
   "metadata": {},
   "outputs": [],
   "source": [
    "adata = ad.read(\"/home/maria/projects/mouse/polyploidy_healthy_young/data/matrices/snRNAseq_mouse_hepatocytes_young_jan21_raw_with_metadata.h5ad\")"
   ]
  },
  {
   "cell_type": "code",
   "execution_count": null,
   "metadata": {},
   "outputs": [],
   "source": [
    "# remove the \"\\n\" in the last column of the sample annotation and make the column numeric\n",
    "annot = []\n",
    "for elem in adata.obs[\"percentERCC\\n\"]:\n",
    "    annot.append(elem[:-1])\n",
    "adata.obs[\"percentERCC\"] = annot\n",
    "del adata.obs[\"percentERCC\\n\"]\n",
    "del annot\n",
    "adata.obs[\"percentERCC\"] = pd.to_numeric(adata.obs[\"percentERCC\"]) "
   ]
  },
  {
   "cell_type": "code",
   "execution_count": null,
   "metadata": {},
   "outputs": [],
   "source": [
    "# remove the additional output from htseq-count from the matrix\n",
    "amb = []\n",
    "for i in adata.var_names:\n",
    "    if i[0:2] != \"__\":\n",
    "        amb.append(i)\n",
    "        \n",
    "adata = adata[:,amb].copy()"
   ]
  },
  {
   "cell_type": "code",
   "execution_count": null,
   "metadata": {},
   "outputs": [],
   "source": [
    "# split ERCC counts into a different object\n",
    "ERCC = []\n",
    "for i in adata.var_names:\n",
    "    if i[0:3] != \"ENS\" and i[0:2] != \"__\":\n",
    "        ERCC.append(i)\n",
    "        \n",
    "adataERCC = adata[:,ERCC].copy()"
   ]
  },
  {
   "cell_type": "code",
   "execution_count": null,
   "metadata": {},
   "outputs": [],
   "source": [
    "# split endogenous transcript counts into a different object\n",
    "transc = []\n",
    "for i in adata.var_names:\n",
    "    if i[0:3] == \"ENS\":\n",
    "        transc.append(i)\n",
    "\n",
    "adataT = adata[:,transc].copy()"
   ]
  },
  {
   "cell_type": "code",
   "execution_count": null,
   "metadata": {},
   "outputs": [],
   "source": [
    "adata.obs['n_counts_raw'] = adata.X.sum(axis=1) # endogeneous transcripts + ERCCs\n",
    "adata.obs[\"n_counts_transcripts\"] = np.sum(adataT.X, axis=1) # endogenous transcripts only\n",
    "adata.obs[\"n_counts_ERCC\"] = np.sum(adataERCC.X, axis=1) # ERCCs only"
   ]
  },
  {
   "cell_type": "markdown",
   "metadata": {},
   "source": [
    "#### Create Figure 1B: mean number of features (transcripts, introns, exons, rRNA) as bar plot"
   ]
  },
  {
   "cell_type": "code",
   "execution_count": null,
   "metadata": {},
   "outputs": [],
   "source": [
    "t = np.mean(adata.obs[\"n_counts_transcripts\"])\n",
    "i = np.mean(adata.obs[\"intron_counts\"])\n",
    "e = np.mean(adata.obs[\"exon_counts\"])\n",
    "r = np.mean(adata.obs[\"rrna\"])\n",
    "\n",
    "x = np.arange(4)\n",
    "variable = [t, i , e, r]\n",
    "\n",
    "fig, ax = plt.subplots()\n",
    "plt.bar(x, variable)\n",
    "plt.xticks(x, ('transcripts', 'introns', 'exons', 'rRNA'))\n",
    "ax.set_xticklabels(ax.get_xticklabels(), rotation=45, horizontalalignment='right')\n",
    "plt.show()"
   ]
  },
  {
   "cell_type": "markdown",
   "metadata": {},
   "source": [
    "#### Save number of genes per nucleus and number of detected protein coding genes as .csv for comparison to other methods"
   ]
  },
  {
   "cell_type": "code",
   "execution_count": null,
   "metadata": {},
   "outputs": [],
   "source": [
    "# remove cells that have no genes expressed in order to better visualize the cutoffs\n",
    "sc.pp.filter_cells(adata, min_genes=1)\n",
    "sc.pp.filter_cells(adata, min_counts=1)"
   ]
  },
  {
   "cell_type": "code",
   "execution_count": null,
   "metadata": {},
   "outputs": [],
   "source": [
    "# number of genes per cell for comarison to other methods\n",
    "df = pd.DataFrame()\n",
    "df[\"n_genes\"] = adata.obs[\"n_genes\"]\n",
    "df[\"dataset\"] = \"snRNAseq2\"\n",
    "df.to_csv(\"comparing_datasets/snRNAseq2.csv\")"
   ]
  },
  {
   "cell_type": "code",
   "execution_count": null,
   "metadata": {},
   "outputs": [],
   "source": [
    "# load all the csvs and concatenate for violin plot\n",
    "dire = \"/home/maria/projects/mouse/polyploidy_healthy_young/github/\"\n",
    "bahar2017 = pd.read_csv(dire+\"comparing_datasets/bahar_2017_MARSseq.csv\")\n",
    "tm2018_10x = pd.read_csv(dire+\"comparing_datasets/tabula_muris_2018_10X.csv\")\n",
    "tm2018_ss2 = pd.read_csv(dire+\"comparing_datasets/tabula_muris_2018_smartseq.csv\")\n",
    "aizarani2019 = pd.read_csv(dire+\"comparing_datasets/aizarani_human_liver_2019_CELLseq.csv\")\n",
    "nault2020 = pd.read_csv(dire+\"comparing_datasets/nault_2020_10X.csv\")\n",
    "snRNAseq2 = pd.read_csv(dire+\"comparing_datasets/snRNAseq2.csv\")\n",
    "own10X = pd.read_csv(dire+\"comparing_datasets/own_data_10X_cruk.csv\")\n",
    "own10X_LB2 = pd.read_csv(dire+\"comparing_datasets/own_data_10X_cruk_LB2.csv\")\n",
    "snRNAseq = pd.read_csv(dire+\"comparing_datasets/own_data_no_LB2.csv\")"
   ]
  },
  {
   "cell_type": "code",
   "execution_count": null,
   "metadata": {},
   "outputs": [],
   "source": [
    "x = snRNAseq2.append(bahar2017, ignore_index=True)\n",
    "y = x.append(tm2018_10x, ignore_index = True) \n",
    "z = y.append(tm2018_ss2, ignore_index = True) \n",
    "u = z.append(aizarani2019, ignore_index=True)\n",
    "t = u.append(nault2020, ignore_index=True)"
   ]
  },
  {
   "cell_type": "code",
   "execution_count": null,
   "metadata": {},
   "outputs": [],
   "source": [
    "cols = {\"snRNAseq2\":\"#1f77b4\", \"bahar_2017\":\"#82a6d1\", \"tabula_muris_2018\":\"#efd7a9\",\n",
    "        \"tabula_muris_2018_smatseq2\":\"#82a6d1\", \"human_liver_2019\":\"#82a6d1\",\n",
    "        \"nault_2020\":\"#efd7a9\"}\n",
    "\n",
    "ax = sns.violinplot(x=\"dataset\", y=\"n_genes\", data=t, palette=cols, scale=\"width\", cut=0)\n",
    "ax.set_xticklabels(ax.get_xticklabels(), rotation=45, horizontalalignment='right')\n",
    "box = ax.get_position()\n",
    "ax.set_position([box.x0, box.y0, box.width * 1.5, box.height * 1.2])"
   ]
  },
  {
   "cell_type": "code",
   "execution_count": null,
   "metadata": {},
   "outputs": [],
   "source": [
    "adata2 = adata[:,adata.var[\"biotype\"] == \"protein_coding\"]"
   ]
  },
  {
   "cell_type": "code",
   "execution_count": null,
   "metadata": {},
   "outputs": [],
   "source": [
    "df = pd.DataFrame()\n",
    "df[\"gene_name\"] = adata2.var[\"gene_name\"].tolist()\n",
    "df[\"gene_id\"] = adata2.var_names.tolist()\n",
    "df[\"dataset\"] = \"snRNAseq2\"\n",
    "df.to_csv(\"comparing_datasets/snRNAseq2_protein_coding_genes.csv\")"
   ]
  },
  {
   "cell_type": "code",
   "execution_count": null,
   "metadata": {},
   "outputs": [],
   "source": [
    "snRNAseq2 = pd.read_csv(\"comparing_datasets/snRNAseq2_protein_coding_genes.csv\")\n",
    "snRNAseq = pd.read_csv(\"comparing_datasets/own_data_no_LB2_protein_coding_genes.csv\")\n",
    "own10X = pd.read_csv(\"comparing_datasets/own_data_10X_cruk_genes.csv\")\n",
    "own10X_LB2 = pd.read_csv(\"comparing_datasets/own_data_10X_cruk_LB2_genes.csv\")"
   ]
  },
  {
   "cell_type": "code",
   "execution_count": null,
   "metadata": {},
   "outputs": [],
   "source": [
    "genes = {snRNAseq2[\"dataset\"][0]:set(snRNAseq2[\"gene_name\"]),\n",
    "         snRNAseq[\"dataset\"][0]:set(snRNAseq[\"gene_name\"]),\n",
    "         own10X[\"dataset\"][0]:set(own10X[\"gene_name\"]),\n",
    "         own10X_LB2[\"dataset\"][0]:set(own10X_LB2[\"gene_name\"])}"
   ]
  },
  {
   "cell_type": "code",
   "execution_count": null,
   "metadata": {},
   "outputs": [],
   "source": [
    "venn(genes, legend_loc=\"upper left\", fmt=\"{percentage:.1f}%\", fontsize=8.5, \n",
    "     cmap=[\"#1e3271\",\"#82a6d1\",\"#c09e63\",\"#c95942\"])"
   ]
  },
  {
   "cell_type": "markdown",
   "metadata": {},
   "source": [
    "## Filtering"
   ]
  },
  {
   "cell_type": "code",
   "execution_count": null,
   "metadata": {},
   "outputs": [],
   "source": [
    "# visualize cutoffs for filtering cells based on their percentage of ERCC reads\n",
    "p = plt.hist(adata.obs[\"percentERCC\"], bins=100, color='c', edgecolor='k', alpha=0.65)\n",
    "plt.axvline(0.9, color='k', linestyle='dashed', linewidth=1)\n",
    "plt.axvline(0.05, color='k', linestyle='dashed', linewidth=1)"
   ]
  },
  {
   "cell_type": "code",
   "execution_count": null,
   "metadata": {},
   "outputs": [],
   "source": [
    "# visualize lower cutoff for filtering cells based on the number of genes\n",
    "p = plt.hist(adata.obs[\"n_genes\"], bins=100, color='c', edgecolor='k', alpha=0.65)\n",
    "plt.axvline(1000, color='k', linestyle='dashed', linewidth=1)"
   ]
  },
  {
   "cell_type": "code",
   "execution_count": null,
   "metadata": {},
   "outputs": [],
   "source": [
    "adata_new = adata[adata.obs[\"percentERCC\"] <= 0.9,:].copy()\n",
    "adata_new = adata_new[adata_new.obs[\"percentERCC\"] > 0.05,:].copy()\n",
    "\n",
    "sc.pp.filter_cells(adata_new, min_genes=1000) \n",
    "sc.pp.filter_genes(adata_new, min_cells=25) # roughly 1% of the population\n",
    "sc.pp.filter_genes(adata_new, min_counts=250)"
   ]
  },
  {
   "cell_type": "code",
   "execution_count": null,
   "metadata": {},
   "outputs": [],
   "source": [
    "## further filtering: \n",
    "adata2 = adata_new.copy()\n",
    "\n",
    "# remove cells with 2x2n and - ploidy (doublets and empty wells from FACS failure)\n",
    "adata2 = adata2[adata2.obs['Ploidy'] != '2-2n', :]\n",
    "adata2 = adata2[adata2.obs['Ploidy'] != '-', :]\n",
    "\n",
    "# remove cells with more than 7000 genes covered\n",
    "adata2 = adata2[adata2.obs['n_genes'] < 7000, :]\n",
    "\n",
    "# remove cells with less than 10,000 transcript counts\n",
    "adata2 = adata2[adata2.obs['n_counts_transcripts'] > 10000, :]\n",
    "# remove cells with more than 300,000 transcript counts\n",
    "adata2 = adata2[adata2.obs['n_counts_transcripts'] < 300000, :]"
   ]
  },
  {
   "cell_type": "code",
   "execution_count": null,
   "metadata": {},
   "outputs": [],
   "source": [
    "adata2"
   ]
  },
  {
   "cell_type": "code",
   "execution_count": null,
   "metadata": {},
   "outputs": [],
   "source": [
    "sc.pl.violin(adata2, ['n_genes', 'n_counts_raw', 'percentERCC', \"n_counts_ERCC\", \"n_counts_transcripts\"], jitter=0.4, multi_panel=True)"
   ]
  },
  {
   "cell_type": "code",
   "execution_count": null,
   "metadata": {},
   "outputs": [],
   "source": [
    "sc.pl.violin(adata2, \"n_genes\", groupby=\"Ploidy\")"
   ]
  },
  {
   "cell_type": "markdown",
   "metadata": {},
   "source": [
    "## Normalisation"
   ]
  },
  {
   "cell_type": "markdown",
   "metadata": {},
   "source": [
    "#### Calculate ERCC size factors"
   ]
  },
  {
   "cell_type": "code",
   "execution_count": null,
   "metadata": {},
   "outputs": [],
   "source": [
    "ERCC = []\n",
    "for i in adata2.var_names:\n",
    "    if i[0:3] != \"ENS\" and i[0:2] != \"__\":\n",
    "        ERCC.append(i)"
   ]
  },
  {
   "cell_type": "code",
   "execution_count": null,
   "metadata": {},
   "outputs": [],
   "source": [
    "# separate the matrix into the 2 dilutions and calculate the ERCC size factor separately \n",
    "adataHD = adata2[adata2.obs[\"ERCC.dilution\"] == \"1 in 300.000\",:].copy()\n",
    "adataLD = adata2[adata2.obs[\"ERCC.dilution\"] == \"1 in 100.000\",:].copy()\n",
    "adataHD.obs[\"ERCC_size_factor\"] = np.sum(adataHD[:,ERCC].X, axis=1)/np.mean(np.sum(adataHD[:,ERCC].X, axis=1))\n",
    "adataLD.obs[\"ERCC_size_factor\"] = np.sum(adataLD[:,ERCC].X, axis=1)/np.mean(np.sum(adataLD[:,ERCC].X, axis=1))"
   ]
  },
  {
   "cell_type": "code",
   "execution_count": null,
   "metadata": {},
   "outputs": [],
   "source": [
    "adata2 = ad.AnnData.concatenate(adataLD, adataHD)\n",
    "new_names = adataLD.obs_names.append(adataHD.obs_names)\n",
    "adata2.obs_names= new_names"
   ]
  },
  {
   "cell_type": "markdown",
   "metadata": {},
   "source": [
    "#### Remove ERCC reads from the count matrix"
   ]
  },
  {
   "cell_type": "code",
   "execution_count": null,
   "metadata": {},
   "outputs": [],
   "source": [
    "red_trans = []\n",
    "for i in adata2.var_names:\n",
    "    if i[0:3] == \"ENS\":\n",
    "        red_trans.append(i) # endogeneous transcripts\n",
    "        \n",
    "adata2 = adata2[:,red_trans].copy()  "
   ]
  },
  {
   "cell_type": "markdown",
   "metadata": {},
   "source": [
    "#### Store raw counts as layer in the AnnData object"
   ]
  },
  {
   "cell_type": "code",
   "execution_count": null,
   "metadata": {},
   "outputs": [],
   "source": [
    "adata2.layers[\"counts\"] = adata2.X.copy()"
   ]
  },
  {
   "cell_type": "markdown",
   "metadata": {},
   "source": [
    "#### Normalise by gene length and size factor"
   ]
  },
  {
   "cell_type": "code",
   "execution_count": null,
   "metadata": {},
   "outputs": [],
   "source": [
    "# divide each column by transcript length (per 1kb)\n",
    "for j in range(0, len(adata2.var)):\n",
    "    adata2.X[:,j] = adata2.X[:,j]/(adata2.var[\"length\"][j]/1000) \n",
    "\n",
    "adata2.obs['n_counts_TPM'] = adata2.X.sum(axis=1)\n",
    "\n",
    "# sum the gene length-corrected counts per cell and divide by 10,000 times the ERCC size factor\n",
    "adata2.obs['RPK_factor'] = adata2.obs['n_counts_TPM']/(adata2.obs['ERCC_size_factor']*10000)\n",
    "\n",
    "# divide each row (i.e. nucleus) by the size factor\n",
    "for i in range(0,len(adata2)):\n",
    "     adata2.X[i,:] = adata2.X[i,:]/adata2.obs[\"RPK_factor\"][i]\n",
    "adata2.obs['n_counts_TPM_norm'] = adata2.X.sum(axis=1)"
   ]
  },
  {
   "cell_type": "code",
   "execution_count": null,
   "metadata": {},
   "outputs": [],
   "source": [
    "# plotting the normalized counts per cell\n",
    "p = plt.hist(adata2.obs[\"n_counts_TPM_norm\"], bins=100, color='c', edgecolor='k', alpha=0.65)"
   ]
  },
  {
   "cell_type": "markdown",
   "metadata": {},
   "source": [
    "#### Store normalised counts as layer in the AnnData object"
   ]
  },
  {
   "cell_type": "code",
   "execution_count": null,
   "metadata": {},
   "outputs": [],
   "source": [
    "adata2.layers[\"norm_counts\"] = adata2.X.copy()"
   ]
  },
  {
   "cell_type": "code",
   "execution_count": null,
   "metadata": {},
   "outputs": [],
   "source": [
    "sc.pl.violin(adata2, ['n_genes', 'n_counts_TPM'], jitter=.4, multi_panel=True)"
   ]
  },
  {
   "cell_type": "markdown",
   "metadata": {},
   "source": [
    "#### Post-normalisation filtering: remove nuclei with > 50,000 length-normalized counts"
   ]
  },
  {
   "cell_type": "code",
   "execution_count": null,
   "metadata": {},
   "outputs": [],
   "source": [
    "adata2 = adata2[adata2.obs[\"n_counts_TPM\"] <= 50000,:].copy()"
   ]
  },
  {
   "cell_type": "markdown",
   "metadata": {},
   "source": [
    "#### Remove technical replicates"
   ]
  },
  {
   "cell_type": "code",
   "execution_count": null,
   "metadata": {},
   "outputs": [],
   "source": [
    "adata2 = adata2[adata2.obs[\"exp.\"] != \"SNI-234(R2)\",:].copy()\n",
    "adata2 = adata2[adata2.obs[\"exp.\"] != \"SNI-235(R2)\",:].copy()"
   ]
  },
  {
   "cell_type": "code",
   "execution_count": null,
   "metadata": {},
   "outputs": [],
   "source": [
    "# mean and median transcript count after filtering and normalization\n",
    "adata2.obs[\"mean_transcript_count_TPM\"] = np.mean(adata2.X, axis=1)\n",
    "adata2.var[\"mean_exp_TPM\"] = np.mean(adata2.X, axis=0)\n",
    "adata2.var[\"median_exp_TPM\"] = np.median(adata2.X, axis=0)"
   ]
  },
  {
   "cell_type": "markdown",
   "metadata": {},
   "source": [
    "#### Logarithmize the count matrix and store as .raw and as additional layer"
   ]
  },
  {
   "cell_type": "code",
   "execution_count": null,
   "metadata": {},
   "outputs": [],
   "source": [
    "sc.pp.log1p(adata2)"
   ]
  },
  {
   "cell_type": "code",
   "execution_count": null,
   "metadata": {},
   "outputs": [],
   "source": [
    "adata2.raw = adata2\n",
    "adata2.layers[\"raw\"] = adata2.X"
   ]
  },
  {
   "cell_type": "markdown",
   "metadata": {},
   "source": [
    "#### Store binarized matrix as additional layer"
   ]
  },
  {
   "cell_type": "code",
   "execution_count": null,
   "metadata": {},
   "outputs": [],
   "source": [
    "adata3 = adata2.copy()\n",
    "adata3.X[adata3.X != 0] = 1\n",
    "adata2.layers[\"raw_bin\"] = adata3.X"
   ]
  },
  {
   "cell_type": "markdown",
   "metadata": {},
   "source": [
    "## Batch correction using combat (plates as covariate)"
   ]
  },
  {
   "cell_type": "code",
   "execution_count": null,
   "metadata": {},
   "outputs": [],
   "source": [
    "sc.pp.combat(adata2, key=\"exp.\")"
   ]
  },
  {
   "cell_type": "markdown",
   "metadata": {},
   "source": [
    "## Visualisation"
   ]
  },
  {
   "cell_type": "code",
   "execution_count": null,
   "metadata": {},
   "outputs": [],
   "source": [
    "sc.pp.pca(adata2)\n",
    "sc.pp.neighbors(adata2)\n",
    "sc.tl.umap(adata2)"
   ]
  },
  {
   "cell_type": "code",
   "execution_count": null,
   "metadata": {},
   "outputs": [],
   "source": [
    "# PCA\n",
    "sc.pl.pca_scatter(adata2, color=[\"Ploidy\",\"n_genes\", \"ERCC.dilution\", \"exp.\"], wspace=0.4)"
   ]
  },
  {
   "cell_type": "code",
   "execution_count": null,
   "metadata": {},
   "outputs": [],
   "source": [
    "# change colors for the ERCC dilution for the figures in the paper\n",
    "adata2.uns[\"ERCC.dilution_colors\"] = [\"#054a41\", \"#c9bd6b\"]"
   ]
  },
  {
   "cell_type": "code",
   "execution_count": null,
   "metadata": {},
   "outputs": [],
   "source": [
    "# harmonize animal IDs\n",
    "annot = []\n",
    "for elem in adata2.obs[\"ID.Individual\"]:\n",
    "    if elem in [\"16/036335\",\"16/036335 (SNI-13)\"]:\n",
    "        annot.append(\"16/036335\")\n",
    "    elif elem in [\"18/011304 (SNI-184)\\xa0\",\"AN18CUK011304\"]:\n",
    "        annot.append(\"18/011304\")\n",
    "    elif elem == \"18/011303 (SNI-183)\":\n",
    "        annot.append(\"18/011303\")\n",
    "    elif elem in [\"16/000798 (SNI-83)\",\"16/000798 (SNI-83) \",\"AN16CUK000798\"]:\n",
    "        annot.append(\"16/000708\")\n",
    "    else:\n",
    "        annot.append(elem)\n",
    "adata2.obs[\"animal\"] = annot"
   ]
  },
  {
   "cell_type": "code",
   "execution_count": null,
   "metadata": {},
   "outputs": [],
   "source": [
    "# t-SNE\n",
    "sc.tl.tsne(adata2, perplexity=30, n_pcs=15)\n",
    "sc.pl.pca(adata2, color=[\"Ploidy\", \"n_genes\", \"exp.\", \"ERCC.dilution\", \"percentERCC\", \"n_counts_transcripts\",\n",
    "                         \"n_counts_TPM_norm\", \"animal\"],\n",
    "           title=[\"Ploidy\", \"#genes\", \"Experiment\", \"ERCC dilution\", \"% of ERCC reads\", \n",
    "                  \"#raw transcript counts\", \"#normalized transcript counts\",\"mouse_ID\"],\n",
    "           wspace=0.4)#, save=\"_SupplFig1_A_metadata.pdf\")"
   ]
  },
  {
   "cell_type": "markdown",
   "metadata": {},
   "source": [
    "## Save and load AnnData object for downstream analyses"
   ]
  },
  {
   "cell_type": "code",
   "execution_count": null,
   "metadata": {},
   "outputs": [],
   "source": [
    "adata2.write('snRNAseq_mouse_hepatocytes_young_filtered_TPM_dec20.h5ad')"
   ]
  },
  {
   "cell_type": "code",
   "execution_count": null,
   "metadata": {},
   "outputs": [],
   "source": [
    "adata = ad.read('snRNAseq_mouse_hepatocytes_young_filtered_TPM_dec20.h5ad')"
   ]
  },
  {
   "cell_type": "code",
   "execution_count": null,
   "metadata": {},
   "outputs": [],
   "source": [
    "adata"
   ]
  },
  {
   "cell_type": "markdown",
   "metadata": {},
   "source": [
    "## Cell type identification"
   ]
  },
  {
   "cell_type": "code",
   "execution_count": null,
   "metadata": {},
   "outputs": [],
   "source": [
    "sc.tl.louvain(adata, resolution=1, key_added='louvainr1')\n",
    "sc.pl.pca(adata, wspace=0.4, color=[\"louvainr1\", \"Ploidy\",\"exp.\"])\n",
    "sc.pl.tsne(adata, wspace=0.4, color=[\"louvainr1\", \"Ploidy\",\"exp.\"])"
   ]
  },
  {
   "cell_type": "code",
   "execution_count": null,
   "metadata": {},
   "outputs": [],
   "source": [
    "sc.tl.louvain(adata, resolution=0.5, key_added='louvainr05')"
   ]
  },
  {
   "cell_type": "code",
   "execution_count": null,
   "metadata": {},
   "outputs": [],
   "source": [
    "# low resolution louvain clustering to separate hepatocytes from non-parenchymal cells\n",
    "sc.tl.louvain(adata, resolution=0.2, key_added='louvainr02')\n",
    "sc.pl.pca(adata, wspace=0.4, color=[\"louvainr05\", \"Ploidy\",\"exp.\"])\n",
    "sc.pl.tsne(adata, wspace=0.4, color=[\"louvainr02\", \"Ploidy\",\"exp.\"])"
   ]
  },
  {
   "cell_type": "code",
   "execution_count": null,
   "metadata": {},
   "outputs": [],
   "source": [
    "annot = []\n",
    "for n in adata.obs['louvainr02']:\n",
    "    if n == '0':\n",
    "        annot.append('0')\n",
    "    elif n == '1':\n",
    "        annot.append('1')\n",
    "adata.obs['low_res_ct'] = annot\n",
    "del annot"
   ]
  },
  {
   "cell_type": "code",
   "execution_count": null,
   "metadata": {},
   "outputs": [],
   "source": [
    "adata.uns[\"low_res_ct_colors\"] = [\"#686868\", \"#a9a9a9\"]"
   ]
  },
  {
   "cell_type": "code",
   "execution_count": null,
   "metadata": {},
   "outputs": [],
   "source": [
    "sc.pl.tsne(adata, color=[\"Ploidy\",\"low_res_ct\"])"
   ]
  },
  {
   "cell_type": "markdown",
   "metadata": {},
   "source": [
    "#### Annotate the 4n that fall into the non-hepatocyte cluster"
   ]
  },
  {
   "cell_type": "code",
   "execution_count": null,
   "metadata": {},
   "outputs": [],
   "source": [
    "missorted = []\n",
    "for i in range(0, len(adata)):\n",
    "    if adata.obs[\"low_res_ct\"][i] == \"0\" and adata.obs[\"Ploidy\"][i] == \"2n\":    \n",
    "        missorted.append(\"2n_hepatocytes\")\n",
    "    elif adata.obs[\"low_res_ct\"][i] == \"0\" and adata.obs[\"Ploidy\"][i] == \"4n\":    \n",
    "        missorted.append(\"4n_hepatocytes\")\n",
    "    elif adata.obs[\"low_res_ct\"][i] == \"1\" and adata.obs[\"Ploidy\"][i] == \"2n\": \n",
    "        missorted.append(\"2n_other_cluster\")\n",
    "    elif adata.obs[\"low_res_ct\"][i] == \"1\" and adata.obs[\"Ploidy\"][i] == \"4n\": \n",
    "        missorted.append(\"4n_other_cluster\")\n",
    "    else:\n",
    "        missorted.append(\"2-2n\")\n",
    "adata.obs[\"clusters\"] = missorted"
   ]
  },
  {
   "cell_type": "markdown",
   "metadata": {},
   "source": [
    "#### Temporarily remove the hepatocytes from the matrix to cluster and annotate the non-parenchymal cells"
   ]
  },
  {
   "cell_type": "code",
   "execution_count": null,
   "metadata": {},
   "outputs": [],
   "source": [
    "adata2 = adata[adata.obs[\"low_res_ct\"] == \"1\",:].copy()"
   ]
  },
  {
   "cell_type": "code",
   "execution_count": null,
   "metadata": {},
   "outputs": [],
   "source": [
    "sc.pp.pca(adata2)\n",
    "sc.pp.neighbors(adata2, n_neighbors=10, n_pcs=25)\n",
    "sc.tl.tsne(adata2, perplexity=20, n_pcs=15)"
   ]
  },
  {
   "cell_type": "code",
   "execution_count": null,
   "metadata": {},
   "outputs": [],
   "source": [
    "sc.tl.louvain(adata2, resolution=1)"
   ]
  },
  {
   "cell_type": "code",
   "execution_count": null,
   "metadata": {},
   "outputs": [],
   "source": [
    "sc.pl.tsne(adata2, color=\"louvain\")"
   ]
  },
  {
   "cell_type": "code",
   "execution_count": null,
   "metadata": {},
   "outputs": [],
   "source": [
    "marker_names_all = []\n",
    "cell_type_list = []\n",
    "with open(\"cell_type_ID/final_markers.txt\") as f:\n",
    "    head = f.readline()\n",
    "    for line in f:\n",
    "        line = line.split(\"\\t\")\n",
    "        marker_names_all.append(line[1][:-1])\n",
    "        cell_type_list.append(line[0])      \n",
    "cell_type_dict = {}\n",
    "for name in list(set(cell_type_list)):\n",
    "    cell_type_dict[name] = []\n",
    "for i in range(0, len(cell_type_list)):\n",
    "    cell_type_dict[cell_type_list[i]].append(marker_names_all[i])\n",
    "gene_name_dict = {}\n",
    "for i in range(0, len(adata.var)):\n",
    "    gene_name_dict[adata2.var[\"gene_name\"][i]] = adata2.var_names[i]\n",
    "cell_type_id_dict = {}\n",
    "for name in list(set(cell_type_list)):\n",
    "    cell_type_id_dict[name] = []\n",
    "cell_type_name_dict = {}\n",
    "for name in list(set(cell_type_list)):\n",
    "    cell_type_name_dict[name] = []\n",
    "for name in list(set(cell_type_list)):\n",
    "    item = cell_type_dict[name]\n",
    "    for elem in item:\n",
    "        if elem in gene_name_dict.keys():\n",
    "            cell_type_id_dict[name].append(gene_name_dict[elem])\n",
    "            cell_type_name_dict[name].append(elem) "
   ]
  },
  {
   "cell_type": "code",
   "execution_count": null,
   "metadata": {},
   "outputs": [],
   "source": [
    "cell_type_dict"
   ]
  },
  {
   "cell_type": "code",
   "execution_count": null,
   "metadata": {},
   "outputs": [],
   "source": [
    "new_dict = {}\n",
    "new_dict[\"Lymphocytes\"] = []\n",
    "for k, v in cell_type_id_dict.items():    \n",
    "    if k in ['T-cells','B-cells','Plasma B-cells']:\n",
    "        new_dict['Lymphocytes'].append(cell_type_id_dict[k])\n",
    "    else:\n",
    "        new_dict[k] = cell_type_id_dict[k]"
   ]
  },
  {
   "cell_type": "code",
   "execution_count": null,
   "metadata": {},
   "outputs": [],
   "source": [
    "new_dict[\"Lymphocytes\"] = [item for sublist in new_dict[\"Lymphocytes\"] for item in sublist]"
   ]
  },
  {
   "cell_type": "code",
   "execution_count": null,
   "metadata": {},
   "outputs": [],
   "source": [
    "new_dict"
   ]
  },
  {
   "cell_type": "code",
   "execution_count": null,
   "metadata": {},
   "outputs": [],
   "source": [
    "# Endothelial cells\n",
    "endothelial_id = cell_type_id_dict[\"Endothelial cells\"]\n",
    "endothelial_name = cell_type_name_dict[\"Endothelial cells\"]\n",
    "sc.pl.tsne(adata2, color=endothelial_id, title=endothelial_name, use_raw=True)"
   ]
  },
  {
   "cell_type": "code",
   "execution_count": null,
   "metadata": {},
   "outputs": [],
   "source": [
    "# B-cells\n",
    "bcell_id = cell_type_id_dict['B-cells']\n",
    "bcell_name = cell_type_name_dict['B-cells']\n",
    "sc.pl.tsne(adata2, color=bcell_id, title=bcell_name, use_raw=True)"
   ]
  },
  {
   "cell_type": "code",
   "execution_count": null,
   "metadata": {},
   "outputs": [],
   "source": [
    "# Hepatobiliary cells\n",
    "hepatob_id = cell_type_id_dict['Hepatobiliary cells']\n",
    "hepatob_name = cell_type_name_dict['Hepatobiliary cells']\n",
    "sc.pl.tsne(adata2, color=hepatob_id, title=hepatob_name, use_raw=True)"
   ]
  },
  {
   "cell_type": "code",
   "execution_count": null,
   "metadata": {},
   "outputs": [],
   "source": [
    "# Kupffer and dendritic\n",
    "kupffer_id = cell_type_id_dict['Kupffer and dendritic cells']\n",
    "kupffer_name = cell_type_name_dict['Kupffer and dendritic cells']\n",
    "sc.pl.tsne(adata2, color=kupffer_id, title=kupffer_name, use_raw=True)"
   ]
  },
  {
   "cell_type": "code",
   "execution_count": null,
   "metadata": {},
   "outputs": [],
   "source": [
    "# Plasma B-cells\n",
    "plasma_id = cell_type_id_dict['Plasma B-cells']\n",
    "plasma_name = cell_type_name_dict['Plasma B-cells']\n",
    "sc.pl.tsne(adata2, color=plasma_id, title=plasma_name, use_raw=True)"
   ]
  },
  {
   "cell_type": "code",
   "execution_count": null,
   "metadata": {},
   "outputs": [],
   "source": [
    "# Stellate cells\n",
    "stellate_id = cell_type_id_dict[\"Stellate cells\"]\n",
    "stellate_name = cell_type_name_dict[\"Stellate cells\"]\n",
    "sc.pl.tsne(adata2, color=stellate_id, title=stellate_name, use_raw=False)"
   ]
  },
  {
   "cell_type": "code",
   "execution_count": null,
   "metadata": {},
   "outputs": [],
   "source": [
    "# T-cells\n",
    "tcell_id = cell_type_id_dict[\"T-cells\"]\n",
    "tcell_name = cell_type_name_dict[\"T-cells\"]\n",
    "sc.pl.tsne(adata2, color=tcell_id, title=tcell_name, use_raw=False)"
   ]
  },
  {
   "cell_type": "markdown",
   "metadata": {},
   "source": [
    "#### Overlap between marker genes and differentially expressed genes"
   ]
  },
  {
   "cell_type": "code",
   "execution_count": null,
   "metadata": {},
   "outputs": [],
   "source": [
    "sc.tl.rank_genes_groups(adata2, groupby=\"louvain\", n_genes=50)"
   ]
  },
  {
   "cell_type": "code",
   "execution_count": null,
   "metadata": {},
   "outputs": [],
   "source": [
    "reduced_dict = new_dict.copy()\n",
    "del reduced_dict[\"Hepatocytes\"]"
   ]
  },
  {
   "cell_type": "code",
   "execution_count": null,
   "metadata": {},
   "outputs": [],
   "source": [
    "import collections\n",
    "od = collections.OrderedDict(sorted(reduced_dict.items()))"
   ]
  },
  {
   "cell_type": "code",
   "execution_count": null,
   "metadata": {},
   "outputs": [],
   "source": [
    "df = sc.tl.marker_gene_overlap(adata2, reference_markers=od)"
   ]
  },
  {
   "cell_type": "code",
   "execution_count": null,
   "metadata": {},
   "outputs": [],
   "source": [
    "df"
   ]
  },
  {
   "cell_type": "code",
   "execution_count": null,
   "metadata": {},
   "outputs": [],
   "source": [
    "sns.heatmap(df, cmap=sns.cubehelix_palette(37, start=.4, rot=-.75))"
   ]
  },
  {
   "cell_type": "markdown",
   "metadata": {},
   "source": [
    "#### Annotate the cell types based on marker gene overlap:\n",
    "- 0: Endothelial cells  \n",
    "- 1: Plasma B-cells  \n",
    "- 2, 6, 7: Hepatobiliary cells  \n",
    "- 3: Expresses some lymphocyte markers (e.g. Herpud1) --> B-cells  \n",
    "- 4: Kupffer and dendritic cells  \n",
    "- 5: Expression of Bcl2 and Skap1 --> T-cells  \n",
    "- 8: Stellate cells  \n",
    "  \n",
    "Epcam+ epithelial cells are defined by their expression of Epcam"
   ]
  },
  {
   "cell_type": "code",
   "execution_count": null,
   "metadata": {},
   "outputs": [],
   "source": [
    "annot = []\n",
    "for i in range(0, len(adata2)):\n",
    "    if adata2[i,adata2.var[\"gene_name\"]==\"Epcam\"].layers[\"counts\"] > 50:\n",
    "        annot.append(\"Epcam+ epithelial cells\") \n",
    "    elif adata2.obs[\"louvain\"][i] == \"0\":\n",
    "        annot.append(\"Endothelial cells\")\n",
    "    elif adata2.obs[\"louvain\"][i] == \"1\":\n",
    "        annot.append(\"Plasma B-cells\") \n",
    "    elif adata2.obs[\"louvain\"][i] == \"2\":\n",
    "        annot.append(\"Hepatobiliary cells\") \n",
    "    elif adata2.obs[\"louvain\"][i] == \"3\":\n",
    "        annot.append(\"B-cells\") \n",
    "    elif adata2.obs[\"louvain\"][i] == \"4\":\n",
    "        annot.append(\"Kupffer and dendritic cells\")  \n",
    "    elif adata2.obs[\"louvain\"][i] == \"5\":\n",
    "        annot.append(\"T-cells\")   \n",
    "    elif adata2.obs[\"louvain\"][i] == \"6\":\n",
    "        annot.append(\"Hepatobiliary cells\")   \n",
    "    elif adata2.obs[\"louvain\"][i] == \"7\":\n",
    "        annot.append(\"Hepatobiliary cells\")    \n",
    "    else:\n",
    "        annot.append(\"Stellate cells\")\n",
    "adata2.obs[\"cell_type\"] = annot         "
   ]
  },
  {
   "cell_type": "code",
   "execution_count": null,
   "metadata": {},
   "outputs": [],
   "source": [
    "annot = []\n",
    "for i in range(0, len(adata2)):\n",
    "    if adata2[i,adata2.var[\"gene_name\"]==\"Epcam\"].layers[\"counts\"] > 50:\n",
    "        annot.append(\"Hepatobiliary cells\") \n",
    "    elif adata2.obs[\"louvain\"][i] == \"0\":\n",
    "        annot.append(\"Endothelial cells\")\n",
    "    elif adata2.obs[\"louvain\"][i] == \"1\":\n",
    "        annot.append(\"Lymphocytes\") \n",
    "    elif adata2.obs[\"louvain\"][i] == \"2\":\n",
    "        annot.append(\"Hepatobiliary cells\") \n",
    "    elif adata2.obs[\"louvain\"][i] == \"3\":\n",
    "        annot.append(\"Lymphocytes\") \n",
    "    elif adata2.obs[\"louvain\"][i] == \"4\":\n",
    "        annot.append(\"Kupffer and dendritic cells\")  \n",
    "    elif adata2.obs[\"louvain\"][i] == \"5\":\n",
    "        annot.append(\"Lymphocytes\")   \n",
    "    elif adata2.obs[\"louvain\"][i] == \"6\":\n",
    "        annot.append(\"Hepatobiliary cells\")   \n",
    "    elif adata2.obs[\"louvain\"][i] == \"7\":\n",
    "        annot.append(\"Hepatobiliary cells\")    \n",
    "    else:\n",
    "        annot.append(\"Stellate cells\")\n",
    "adata2.obs[\"broad_cell_type\"] = annot       "
   ]
  },
  {
   "cell_type": "markdown",
   "metadata": {},
   "source": [
    "#### Add the hepatocytes again"
   ]
  },
  {
   "cell_type": "code",
   "execution_count": null,
   "metadata": {},
   "outputs": [],
   "source": [
    "annot = []\n",
    "for elem in adata.obs_names.tolist():\n",
    "    if elem in adata2.obs_names:\n",
    "        annot.append(adata2[elem,:].obs[\"cell_type\"][0])\n",
    "    else:\n",
    "        annot.append(\"Hepatocytes\")\n",
    "adata.obs[\"cell_type\"] = annot"
   ]
  },
  {
   "cell_type": "code",
   "execution_count": null,
   "metadata": {},
   "outputs": [],
   "source": [
    "annot = []\n",
    "for elem in adata.obs_names.tolist():\n",
    "    if elem in adata2.obs_names:\n",
    "        annot.append(adata2[elem,:].obs[\"broad_cell_type\"][0])\n",
    "    else:\n",
    "        annot.append(\"Hepatocytes\")\n",
    "adata.obs[\"broad_cell_type\"] = annot"
   ]
  },
  {
   "cell_type": "code",
   "execution_count": null,
   "metadata": {},
   "outputs": [],
   "source": [
    "annot = []\n",
    "for idx, elem in enumerate(adata.obs[\"cell_type\"]):\n",
    "    if elem == \"Hepatocytes\" and adata.obs[\"Ploidy\"][idx] == \"2n\":\n",
    "        annot.append(\"2n Hepatocytes\")\n",
    "    elif elem == \"Hepatocytes\" and adata.obs[\"Ploidy\"][idx] == \"4n\":\n",
    "        annot.append(\"4n Hepatocytes\")\n",
    "    else:\n",
    "        annot.append(elem)\n",
    "adata.obs[\"cell_type1\"] = annot        "
   ]
  },
  {
   "cell_type": "code",
   "execution_count": null,
   "metadata": {},
   "outputs": [],
   "source": [
    "annot = []\n",
    "for idx, elem in enumerate(adata.obs[\"broad_cell_type\"]):\n",
    "    if elem == \"Hepatocytes\" and adata.obs[\"Ploidy\"][idx] == \"2n\":\n",
    "        annot.append(\"2n Hepatocytes\")\n",
    "    elif elem == \"Hepatocytes\" and adata.obs[\"Ploidy\"][idx] == \"4n\":\n",
    "        annot.append(\"4n Hepatocytes\")\n",
    "    else:\n",
    "        annot.append(elem)\n",
    "adata.obs[\"broad_cell_type1\"] = annot    "
   ]
  },
  {
   "cell_type": "code",
   "execution_count": null,
   "metadata": {},
   "outputs": [],
   "source": [
    "sc.pl.tsne(adata, color=\"broad_cell_type1\")"
   ]
  },
  {
   "cell_type": "code",
   "execution_count": null,
   "metadata": {},
   "outputs": [],
   "source": [
    "small_marker_dict = {\"B-cells\":[\"Ildr1\",\"Ebf1\"],\n",
    "                    \"Endothelial cells\":[\"Ptprb\",\"Plekhg1\",\"Stab2\"],\n",
    "                    \"Epcam+ epithelial cells\":[\"Epcam\",\"Id3\"],\n",
    "                    \"Hepatobiliary cells\":[\"Ces3a\",\"Filip1l\",\"Sspn\"], \n",
    "                    \"Hepatocytes\":[\"Cyp27a1\",\"Ppara\",\"Pck1\"], \n",
    "                    \"Kupffer and dentritic cells\":[\"Clec4f\",\"Cd5l\",\"Slc40a1\"],\n",
    "                    \"Plasma B-cells\":[\"Mcmdc2\",\"Hsf5\"],\n",
    "                    \"Stellate cells\":[\"Reln\",\"Ecm1\"],\n",
    "                    \"T-cells\":[\"Bcl2\",\"Gimap3\"]}\n",
    "\n",
    "small_marker_dict2 = {\"Endothelial cells\":[\"Plekhg1\",\"Stab2\",\"Ptprb\"],\n",
    "                    #\"Epcam+ epithelial cells\":[\"Epcam\",\"Id3\"],\n",
    "                    \"Hepatobiliary cells\":[\"Cmss1\",\"Sspn\",\"Ces3a\"], \n",
    "                    \"Hepatocytes\":[\"Cyp27a1\",\"Ppara\",\"Pck1\"], \n",
    "                    \"Kupffer and dentritic cells\":[\"Clec4f\",\"Cd5l\",\"Slc40a1\"],\n",
    "                    \"Lymphocytes\":[\"Gata3\",\"Skap1\",\"Bcl2\"],\n",
    "                    \"Stellate cells\":[\"Colec11\",\"Reln\",\"Ecm1\"]}\n",
    "\n",
    "small_marker_dict2 = {\"Hepatocytes\":[\"Cyp27a1\",\"Ppara\",\"Pck1\"],\n",
    "                      \"Hepatobiliary cells\":[\"Cmss1\",\"Sspn\",\"Epcam\"],\n",
    "                      \"Endothelial cells\":[\"Plekhg1\",\"Stab2\",\"Ptprb\"],\n",
    "                      \"Kupffer and dentritic cells\":[\"Clec4f\",\"Cd5l\",\"Slc40a1\"],\n",
    "                      \"Lymphocytes\":[\"Skap1\",\"Bcl2\",\"Gata3\"],\n",
    "                      \"Stellate cells\":[\"Reln\",\"Ecm1\",\"Ldb2\"]}\n",
    "\n",
    "cols = ['#17becf','#aec7e8','#4EB265','#DC050C','#aa40fc','#8c564b','#332288','#FFAABB','#b5bd61']\n",
    "cols = ['#ade8e3','#17becf','#332288','#8c564b','#DC050C','#FFAABB']\n",
    "\n",
    "sc.pl.stacked_violin(adata, gene_symbols=\"gene_name\", groupby=\"broad_cell_type2\", var_names=small_marker_dict2,\n",
    "                    row_palette=cols, standard_scale=\"var\", layer=\"raw\", log=False, scale=\"count\",\n",
    "                    save=\"_Figure1_D_new_aggregated_20210309.pdf\")"
   ]
  },
  {
   "cell_type": "code",
   "execution_count": null,
   "metadata": {},
   "outputs": [],
   "source": [
    "adata.uns[\"broad_cell_type_colors\"] = [\"#DC050C\",\"#8c564b\",\"#332288\",\"#FFAABB\",\"#ade8e3\",\"#17becf\"]\n",
    "adata.uns[\"broad_cell_type2_colors\"] = [\"#332288\",\"#8c564b\",\"#DC050C\",\"#FFAABB\",\"#ade8e3\",\"#17becf\"]"
   ]
  },
  {
   "cell_type": "code",
   "execution_count": null,
   "metadata": {},
   "outputs": [],
   "source": [
    "sc.pl.tsne(adata, color=\"broad_cell_type2\", save=\"_Figure1_D_new_aggregated_20210309.pdf\")"
   ]
  },
  {
   "cell_type": "code",
   "execution_count": null,
   "metadata": {},
   "outputs": [],
   "source": [
    "sc.pl.tsne(adata, color=[\"Cyp27a1\",\"Cmss1\",\"Stab2\",\"Clec4f\",\"Skap1\",\"Reln\",\n",
    "                         \"Pck1\",\"Sspn\",\"Ptprb\",\"Cd5l\",\"Bcl2\",\"Ecm1\",\n",
    "                         \"Ppara\",\"Epcam\",\"Plekhg1\",\"Slc40a1\",\"Gata3\",\"Ldb2\"], gene_symbols=\"gene_name\",\n",
    "          ncols=6, save=\"_Figure1_E_new_aggregated_markers_20210309.pdf\")"
   ]
  },
  {
   "cell_type": "code",
   "execution_count": null,
   "metadata": {},
   "outputs": [],
   "source": [
    "cf.cell_compo_table(adata, \"broad_cell_type\", \"broad_cell_type\")"
   ]
  },
  {
   "cell_type": "code",
   "execution_count": null,
   "metadata": {},
   "outputs": [],
   "source": [
    "86/1649"
   ]
  },
  {
   "cell_type": "code",
   "execution_count": null,
   "metadata": {},
   "outputs": [],
   "source": [
    "179/1649"
   ]
  },
  {
   "cell_type": "code",
   "execution_count": null,
   "metadata": {},
   "outputs": [],
   "source": [
    "69/1649"
   ]
  },
  {
   "cell_type": "code",
   "execution_count": null,
   "metadata": {},
   "outputs": [],
   "source": [
    "216/1649"
   ]
  },
  {
   "cell_type": "code",
   "execution_count": null,
   "metadata": {},
   "outputs": [],
   "source": [
    "38/1649"
   ]
  },
  {
   "cell_type": "code",
   "execution_count": null,
   "metadata": {},
   "outputs": [],
   "source": [
    "adata3 = adata.copy()\n",
    "adata3.var_names = adata.var[\"gene_name\"]\n",
    "adata3.raw = adata3"
   ]
  },
  {
   "cell_type": "code",
   "execution_count": null,
   "metadata": {},
   "outputs": [],
   "source": [
    "sc.tl.rank_genes_groups(adata3, groupby=\"broad_cell_type\")"
   ]
  },
  {
   "cell_type": "code",
   "execution_count": null,
   "metadata": {},
   "outputs": [],
   "source": [
    "adata3.uns[\"rank_genes_groups\"]"
   ]
  },
  {
   "cell_type": "code",
   "execution_count": null,
   "metadata": {},
   "outputs": [],
   "source": [
    "annot = []\n",
    "for elem in adata.obs[\"broad_cell_type\"]:\n",
    "    if elem == \"Hepatocytes\":\n",
    "        annot.append(\"01 Hepatocytes\")\n",
    "    elif elem == \"Lymphocytes\":\n",
    "        annot.append(\"05 Lymphocytes\")\n",
    "    elif elem == \"Endothelial cells\":\n",
    "        annot.append(\"03 Endothelial cells\")\n",
    "    elif elem == \"Hepatobiliary cells\":\n",
    "        annot.append(\"02 Hepatobiliary cells\")\n",
    "    elif elem == \"Kupffer and dendritic cells\":\n",
    "        annot.append(\"04 Kupffer and dendritic cells\")\n",
    "    elif elem == \"Stellate cells\":\n",
    "        annot.append(\"06 Stellate cells\")\n",
    "adata.obs[\"broad_cell_type2\"] = annot"
   ]
  },
  {
   "cell_type": "code",
   "execution_count": null,
   "metadata": {},
   "outputs": [],
   "source": [
    "annot = []\n",
    "for elem in adata.obs[\"cell_type\"]:\n",
    "    if elem == \"Hepatocytes\":\n",
    "        annot.append(\"01 Hepatocytes\")\n",
    "    elif elem == \"B-cells\":\n",
    "        annot.append(\"09 B-cells\")\n",
    "    elif elem == \"Endothelial cells\":\n",
    "        annot.append(\"03 Endothelial cells\")\n",
    "    elif elem == \"Epcam+ epithelial cells\":\n",
    "        annot.append(\"04 Epcam+ epithelial cells\")\n",
    "    elif elem == \"Hepatobiliary cells\":\n",
    "        annot.append(\"02 Hepatobiliary cells\")\n",
    "    elif elem == \"Kupffer and dendritic cells\":\n",
    "        annot.append(\"05 Kupffer and dendritic cells\")\n",
    "    elif elem == \"Plasma B-cells\":\n",
    "        annot.append(\"07 Plasma B-cells\")\n",
    "    elif elem == \"Stellate cells\":\n",
    "        annot.append(\"06 Stellate cells\")\n",
    "    else:\n",
    "        annot.append(\"08 T-cells\")\n",
    "adata.obs[\"cell_type2\"] = annot"
   ]
  },
  {
   "cell_type": "code",
   "execution_count": null,
   "metadata": {},
   "outputs": [],
   "source": [
    "# Data\n",
    "df = cf.cell_compo_table(adata,\"broad_cell_type2\", \"broad_cell_type2\")"
   ]
  },
  {
   "cell_type": "code",
   "execution_count": null,
   "metadata": {},
   "outputs": [],
   "source": [
    "df1 = [i / 1649 * 100 for i in df['All']]"
   ]
  },
  {
   "cell_type": "code",
   "execution_count": null,
   "metadata": {},
   "outputs": [],
   "source": [
    "df2 = pd.DataFrame()\n",
    "df2[\"values\"] = df1[:-1]\n",
    "df2.index = df.index[:-1]"
   ]
  },
  {
   "cell_type": "code",
   "execution_count": null,
   "metadata": {},
   "outputs": [],
   "source": [
    "color = ['#332288', '#8c564b', '#DC050C', '#FFAABB', '#ade8e3',\n",
    "       '#17becf']\n",
    "df2.T.plot(kind='bar', stacked=True, color=color)\n",
    "plt.xticks(np.arange(1), \"\")\n",
    "plt.xlabel(\"Percentage cell types\")\n",
    "\n",
    "plt.legend(loc='upper left', bbox_to_anchor=(1,1), ncol=1)\n",
    "plt.savefig(\"barplot_percentages_Figure1_D_new_aggregated_20210309.pdf\", bbox_inches=\"tight\")"
   ]
  },
  {
   "cell_type": "markdown",
   "metadata": {},
   "source": [
    "#### Preprocessing for the heatmap in R"
   ]
  },
  {
   "cell_type": "code",
   "execution_count": null,
   "metadata": {},
   "outputs": [],
   "source": [
    "adatar = ad.read(\"adata_rRNA.h5ad\")"
   ]
  },
  {
   "cell_type": "code",
   "execution_count": null,
   "metadata": {},
   "outputs": [],
   "source": [
    "rrna = []\n",
    "for elem in adata.var_names.tolist():\n",
    "    if elem in adatar.var_names.tolist():\n",
    "        rrna.append(\"yes\")\n",
    "    else:\n",
    "        rrna.append(\"no\")\n",
    "adata.var[\"rrna\"] = rrna   "
   ]
  },
  {
   "cell_type": "code",
   "execution_count": null,
   "metadata": {},
   "outputs": [],
   "source": [
    "adatam = adata[:,adata.var[\"rrna\"] == \"no\"]"
   ]
  },
  {
   "cell_type": "code",
   "execution_count": null,
   "metadata": {},
   "outputs": [],
   "source": [
    "adata1 = adatam[adatam.obs[\"cell_type\"] == \"Hepatocytes\",:].copy()\n",
    "sc.pp.subsample(adata1, n_obs=40, random_state=1)\n",
    "adata2 = adatam[adatam.obs[\"cell_type\"] == \"Hepatobiliary cells\",:].copy()\n",
    "sc.pp.subsample(adata2, n_obs=40, random_state=1)\n",
    "adata3 = adatam[adatam.obs[\"cell_type\"] == \"Endothelial cells\",:].copy()\n",
    "sc.pp.subsample(adata3, n_obs=40, random_state=1)\n",
    "adata4 = adatam[adatam.obs[\"cell_type\"] == \"Kupffer and dendritic cells\",:].copy()\n",
    "sc.pp.subsample(adata4, n_obs=40, random_state=1)\n",
    "adata5 = adatam[adatam.obs[\"cell_type\"] == \"B-cells\",:].copy()\n",
    "sc.pp.subsample(adata5, n_obs=40, random_state=1)\n",
    "adata6 = adatam[adatam.obs[\"cell_type\"] == \"Plasma B-cells\",:].copy()\n",
    "sc.pp.subsample(adata6, n_obs=40, random_state=1)\n",
    "adata7 = adatam[adatam.obs[\"cell_type\"] == \"T-cells\",:].copy()\n",
    "sc.pp.subsample(adata7, n_obs=40, random_state=1)\n",
    "adata8 = adatam[adatam.obs[\"cell_type\"] == \"Epcam+ epithelial cells\",:].copy()\n",
    "sc.pp.subsample(adata8, n_obs=12, random_state=1)\n",
    "adata9 = adatam[adatam.obs[\"cell_type\"] == \"Stellate cells\",:].copy()\n",
    "sc.pp.subsample(adata9, n_obs=38, random_state=1)"
   ]
  },
  {
   "cell_type": "code",
   "execution_count": null,
   "metadata": {},
   "outputs": [],
   "source": [
    "adata1 = adatam[adatam.obs[\"broad_cell_type2\"] == \"01 Hepatocytes\",:].copy()\n",
    "sc.pp.subsample(adata1, n_obs=40, random_state=1)\n",
    "adata2 = adatam[adatam.obs[\"broad_cell_type2\"] == \"02 Hepatobiliary cells\",:].copy()\n",
    "sc.pp.subsample(adata2, n_obs=40, random_state=1)\n",
    "adata3 = adatam[adatam.obs[\"broad_cell_type2\"] == \"03 Endothelial cells\",:].copy()\n",
    "sc.pp.subsample(adata3, n_obs=40, random_state=1)\n",
    "adata4 = adatam[adatam.obs[\"broad_cell_type2\"] == \"04 Kupffer and dendritic cells\",:].copy()\n",
    "sc.pp.subsample(adata4, n_obs=40, random_state=1)\n",
    "adata5 = adatam[adatam.obs[\"broad_cell_type2\"] == \"05 Lymphocytes\",:].copy()\n",
    "sc.pp.subsample(adata5, n_obs=40, random_state=1)\n",
    "adata9 = adatam[adatam.obs[\"broad_cell_type2\"] == \"06 Stellate cells\",:].copy()\n",
    "sc.pp.subsample(adata9, n_obs=38, random_state=1)"
   ]
  },
  {
   "cell_type": "code",
   "execution_count": null,
   "metadata": {},
   "outputs": [],
   "source": [
    "adataS = adata1.concatenate(adata2, adata3, adata4, adata5, adata9)"
   ]
  },
  {
   "cell_type": "code",
   "execution_count": null,
   "metadata": {},
   "outputs": [],
   "source": [
    "sc.tl.rank_genes_groups(adataS, groupby=\"broad_cell_type2\", n_genes=20, layer=\"raw\", use_raw=False)"
   ]
  },
  {
   "cell_type": "code",
   "execution_count": null,
   "metadata": {},
   "outputs": [],
   "source": [
    "unsup_markers = []\n",
    "for elem in list(adataS.uns[\"rank_genes_groups\"][\"names\"]['01 Hepatocytes'])[0:12]:\n",
    "    unsup_markers.append(elem)\n",
    "for elem in list(adataS.uns[\"rank_genes_groups\"][\"names\"]['02 Hepatobiliary cells'])[0:12]:\n",
    "    unsup_markers.append(elem)\n",
    "for elem in list(adataS.uns[\"rank_genes_groups\"][\"names\"]['03 Endothelial cells'])[0:12]:\n",
    "    unsup_markers.append(elem)\n",
    "for elem in list(adataS.uns[\"rank_genes_groups\"][\"names\"]['04 Kupffer and dendritic cells'])[0:12]:\n",
    "    unsup_markers.append(elem)\n",
    "for elem in list(adataS.uns[\"rank_genes_groups\"][\"names\"]['05 Lymphocytes'])[0:12]:\n",
    "    unsup_markers.append(elem)    \n",
    "for elem in list(adataS.uns[\"rank_genes_groups\"][\"names\"]['06 Stellate cells'])[0:12]:\n",
    "    unsup_markers.append(elem)    "
   ]
  },
  {
   "cell_type": "code",
   "execution_count": null,
   "metadata": {},
   "outputs": [],
   "source": [
    "adatax = adataS[:,unsup_markers]"
   ]
  },
  {
   "cell_type": "code",
   "execution_count": null,
   "metadata": {},
   "outputs": [],
   "source": [
    "np.savetxt(\"ct_mat_unsup_markers_for_heatmap_in_R.txt\", adatax.layers[\"raw\"], delimiter=\"\\t\", fmt='%.8f')\n",
    "adatax.write_csvs(\"metadata_for_heatmap_in_R/\")"
   ]
  },
  {
   "cell_type": "markdown",
   "metadata": {},
   "source": [
    "## Cell cycle analysis"
   ]
  },
  {
   "cell_type": "code",
   "execution_count": null,
   "metadata": {},
   "outputs": [],
   "source": [
    "import rpy2.rinterface\n",
    "import logging\n",
    "\n",
    "from rpy2.robjects import pandas2ri\n",
    "import anndata2ri\n",
    "%load_ext rpy2.ipython\n",
    "anndata2ri.activate()"
   ]
  },
  {
   "cell_type": "code",
   "execution_count": null,
   "metadata": {},
   "outputs": [],
   "source": [
    "data_mat = adata.X.T\n",
    "gnames = adata.var_names.tolist()\n",
    "cnames = adata.obs_names.tolist()"
   ]
  },
  {
   "cell_type": "code",
   "execution_count": null,
   "metadata": {},
   "outputs": [],
   "source": [
    "%%R\n",
    ".libPaths( c( .libPaths(), \"/home/maria/R/x86_64-pc-linux-gnu-library/4.0\") )\n",
    "library(scran)"
   ]
  },
  {
   "cell_type": "code",
   "execution_count": null,
   "metadata": {},
   "outputs": [],
   "source": [
    "%%R -i data_mat -i gnames -i cnames -o phases -o scores\n",
    "\n",
    "# cell cycle analysis using cyclone\n",
    "mm.pairs <- readRDS(system.file(\"exdata\", \"mouse_cycle_markers.rds\", package=\"scran\"))\n",
    "\n",
    "rownames(data_mat) <- gnames\n",
    "colnames(data_mat) <- cnames\n",
    "\n",
    "score_list <- cyclone(data_mat, mm.pairs, gene.names=rownames(data_mat), iter=1000, min.iter=100, min.pairs=50)#,  BPPARAM=bpparam(), verbose=FALSE)\n",
    "\n",
    "phases <- score_list$phases\n",
    "scores <- score_list$scores"
   ]
  },
  {
   "cell_type": "code",
   "execution_count": null,
   "metadata": {},
   "outputs": [],
   "source": [
    "adata.obs[\"cyclone_phases\"] = phases\n",
    "adata.obs[\"score_G1\"] = scores[\"G1\"].tolist()\n",
    "adata.obs[\"score_S\"] = scores[\"S\"].tolist()\n",
    "adata.obs[\"score_G2M\"] = scores[\"G2M\"].tolist()"
   ]
  },
  {
   "cell_type": "code",
   "execution_count": null,
   "metadata": {},
   "outputs": [],
   "source": [
    "adata.uns[\"cyclone_phases_colors\"] = ['#505050', '#bc086b', '#0af9ea']"
   ]
  },
  {
   "cell_type": "code",
   "execution_count": null,
   "metadata": {},
   "outputs": [],
   "source": [
    "sc.pl.tsne(adata, color=[\"cyclone_phases\",\"Ploidy\", \"score_S\", \"score_G1\", \"score_G2M\"])"
   ]
  },
  {
   "cell_type": "code",
   "execution_count": null,
   "metadata": {},
   "outputs": [],
   "source": [
    "cf.cell_compo_table(adata, \"clusters\", \"cyclone_phases\")"
   ]
  },
  {
   "cell_type": "code",
   "execution_count": null,
   "metadata": {},
   "outputs": [],
   "source": [
    "cf.cell_compo_table(adata,\"cell_type\", \"cyclone_phases\")"
   ]
  },
  {
   "cell_type": "code",
   "execution_count": null,
   "metadata": {},
   "outputs": [],
   "source": [
    "# Data\n",
    "df = cf.cell_compo_table(adata,\"cyclone_phases\", \"cell_type\")\n",
    "r = np.arange(10)\n",
    " \n",
    "# From raw value to percentage\n",
    "totals = [i+j+k for i,j,k in zip(df['G1'], df['G2M'], df['S'])]\n",
    "\n",
    "G1 = [i / j * 100 for i,j in zip(df['G1'], totals)]\n",
    "G2M = [i / j * 100 for i,j in zip(df['G2M'], totals)]\n",
    "S = [i / j * 100 for i,j in zip(df['S'], totals)]\n",
    "\n",
    "# plot\n",
    "barWidth = 0.85\n",
    "names = ('Hepatocytes', 'B-cells', 'Endothelial cells', 'Epcam+ epithelial cells',\n",
    "         'Hepatobiliary cells', 'Kupffer and dendritic cells', 'Plasma B-cells',\n",
    "         'Stellate cells', 'T-cells')\n",
    "\n",
    "# Create bars\n",
    "plt.bar(r, G1, width=barWidth, label=\"G1\", color=(\"#505050\"))\n",
    "plt.bar(r, G2M, bottom=G1, width=barWidth, label=\"G2M\", color=(\"#bc086b\"))\n",
    "plt.bar(r, S, bottom=[i+j for i,j in zip(G1, G2M)], width=barWidth, label=\"S\", color=(\"#0af9ea\"))\n",
    "\n",
    "\n",
    "    \n",
    "# Custom x axis\n",
    "plt.xticks(r, names)\n",
    "#plt.xlabel(\"group\")\n",
    "plt.xticks(rotation=90)\n",
    "plt.legend(loc='upper left', bbox_to_anchor=(1,1), ncol=1)\n",
    "\n",
    "# Show graphic\n",
    "plt.show()"
   ]
  },
  {
   "cell_type": "markdown",
   "metadata": {},
   "source": [
    "## Plotting transcription factors and disease markers"
   ]
  },
  {
   "cell_type": "code",
   "execution_count": null,
   "metadata": {},
   "outputs": [],
   "source": [
    "adata1 = adata[adata.obs[\"cell_type\"] == \"Hepatocytes\"]"
   ]
  },
  {
   "cell_type": "code",
   "execution_count": null,
   "metadata": {},
   "outputs": [],
   "source": [
    "# transcription factors\n",
    "tf = [\"Hnf4a\", \"Ppara\", \"Mlxipl\", \"Cebpa\", \"Rxra\", \"Nr1i2\", \"Nr1i3\", \"Nr1h4\"]\n",
    "\n",
    "tf_name = []\n",
    "tf_id = []\n",
    "index = 0\n",
    "for n in adata.var[\"gene_name\"].tolist():\n",
    "    if n in tf:\n",
    "        tf_name.append(n)\n",
    "        tf_id.append(adata.var_names[index])\n",
    "    index += 1\n",
    "#adata2 = adata[:,nmarker_id].copy()  \n",
    "sc.pl.tsne(adata, color=tf_id, title=tf_name)"
   ]
  },
  {
   "cell_type": "code",
   "execution_count": null,
   "metadata": {},
   "outputs": [],
   "source": [
    "sc.pl.dotplot(adata1, var_names=tf_name, gene_symbols=\"gene_name\", groupby=\"cell_type1\",\n",
    "              color_map=\"Reds\", mean_only_expressed=True, layer=\"raw\",\n",
    "              dot_min=0, dot_max=0.5)"
   ]
  },
  {
   "cell_type": "code",
   "execution_count": null,
   "metadata": {},
   "outputs": [],
   "source": [
    "disease_markers = [\"Akr1d1\",\"Vegfa\",\"Lifr\",\"Yap1\",\"Tead1\",\"Nrp1\",\"Igfbp1\",\"Fstl1\",\"Serpinc1\",\"Bicc1\"]\n",
    "\n",
    "marker_name = []\n",
    "marker_id = []\n",
    "index = 0\n",
    "for n in adata.var[\"gene_name\"].tolist():\n",
    "    if n in disease_markers:\n",
    "        marker_name.append(n)\n",
    "        marker_id.append(adata.var_names[index])\n",
    "    index += 1"
   ]
  },
  {
   "cell_type": "code",
   "execution_count": null,
   "metadata": {
    "scrolled": true
   },
   "outputs": [],
   "source": [
    "sc.pl.tsne(adata, color=marker_name, gene_symbols=\"gene_name\")"
   ]
  },
  {
   "cell_type": "code",
   "execution_count": null,
   "metadata": {},
   "outputs": [],
   "source": [
    "sc.pl.dotplot(adata, var_names=marker_name, gene_symbols=\"gene_name\", groupby=\"broad_cell_type1\",\n",
    "              color_map=\"coolwarm\", mean_only_expressed=True, layer=\"raw\",\n",
    "              dot_min=0, dot_max=1, save=\"_Figure2_F_disease_markers_new_aggregated_20210309.pdf\")"
   ]
  },
  {
   "cell_type": "code",
   "execution_count": null,
   "metadata": {},
   "outputs": [],
   "source": [
    "sc.pl.stacked_violin(adata, var_names=marker_name, gene_symbols=\"gene_name\", groupby=\"broad_cell_type1\",\n",
    "                     swap_axes=True, standard_scale=\"var\", figsize=(5,5),\n",
    "                     save=\"_SupplFig_5_disease_markers_new_aggregated_20210309.pdf\")"
   ]
  },
  {
   "cell_type": "markdown",
   "metadata": {},
   "source": [
    "## Differential expression analysis"
   ]
  },
  {
   "cell_type": "markdown",
   "metadata": {},
   "source": [
    "#### Between cell types"
   ]
  },
  {
   "cell_type": "code",
   "execution_count": null,
   "metadata": {},
   "outputs": [],
   "source": [
    "sc.tl.rank_genes_groups(adata, groupby=\"cell_type\", n_genes=19258, method=\"t-test\")"
   ]
  },
  {
   "cell_type": "code",
   "execution_count": null,
   "metadata": {},
   "outputs": [],
   "source": [
    "dict_genes = adata.uns[\"rank_genes_groups\"].copy()"
   ]
  },
  {
   "cell_type": "code",
   "execution_count": null,
   "metadata": {},
   "outputs": [],
   "source": [
    "df = {}\n",
    "for idx, elem in enumerate(list(dict_genes[\"names\"].dtype.names)):\n",
    "    print(idx, elem)\n",
    "    df[elem+\"_gene\"] = []\n",
    "    df[elem+\"_logfoldchange\"] = []\n",
    "    df[elem+\"_pval_adj\"] = []\n",
    "    for j in range(0, len(adata.var)):\n",
    "        df[elem+\"_gene\"].append(dict_genes[\"names\"][j][idx])\n",
    "        df[elem+\"_logfoldchange\"].append(dict_genes[\"logfoldchanges\"][j][idx])\n",
    "        df[elem+\"_pval_adj\"].append(dict_genes[\"pvals_adj\"][j][idx])\n",
    "\n",
    "dataframe = pd.DataFrame(df)        \n",
    "for idx, elem in enumerate(list(dict_genes[\"names\"].dtype.names)):\n",
    "    adata.var[elem+\"_mean\"] = np.mean(adata[adata.obs[\"cell_type\"] == elem,:].layers[\"norm_counts\"], axis=0)\n",
    "    adata.var[elem+\"_n_cells\"] = np.sum(adata[adata.obs[\"cell_type\"] == elem,:].layers[\"norm_counts\"] > 0, axis=0)\n",
    "    dataframe.index = dataframe[elem+\"_gene\"]\n",
    "    adata.var[elem+\"_log2FC\"] = dataframe[elem+\"_logfoldchange\"]\n",
    "    adata.var[elem+\"_pvals_adj\"] = dataframe[elem+\"_pval_adj\"]"
   ]
  },
  {
   "cell_type": "code",
   "execution_count": null,
   "metadata": {},
   "outputs": [],
   "source": [
    "changes = []\n",
    "for j in range(0, len(adata.var)):\n",
    "    if adata.var[\"Hepatocytes_log2FC\"][j] > 0.5 and adata.var[\"Hepatocytes_pvals_adj\"][j] < 0.05:\n",
    "        changes.append(\"up_Hepatocytes\")\n",
    "    elif adata.var[\"Hepatobiliary cells_log2FC\"][j] > 0.5 and adata.var[\"Hepatobiliary cells_pvals_adj\"][j] < 0.05:\n",
    "        changes.append(\"up_Hepatobiliary\")    \n",
    "    elif adata.var[\"Endothelial cells_log2FC\"][j] > 0.5 and adata.var[\"Endothelial cells_pvals_adj\"][j] < 0.05:\n",
    "        changes.append(\"up_Endothelial\")\n",
    "    elif adata.var[\"Endothelial cells_log2FC\"][j] > 0.5 and adata.var[\"Endothelial cells_pvals_adj\"][j] < 0.05:\n",
    "        changes.append(\"up_Endothelial\")\n",
    "    elif adata.var[\"Kupffer and dendritic cells_log2FC\"][j] > 0.5 and adata.var[\"Kupffer and dendritic cells_pvals_adj\"][j] < 0.05:\n",
    "        changes.append(\"up_Kupffer\")\n",
    "    elif adata.var[\"B-cells_log2FC\"][j] > 0.5 and adata.var[\"B-cells_pvals_adj\"][j] < 0.05:\n",
    "        changes.append(\"up_Bcell\")    \n",
    "    elif adata.var[\"Epcam+ epithelial cells_log2FC\"][j] > 0.5 and adata.var[\"Epcam+ epithelial cells_pvals_adj\"][j] < 0.05:\n",
    "        changes.append(\"up_EpcamEpithelial\") \n",
    "    elif adata.var[\"Plasma B-cells_log2FC\"][j] > 0.5 and adata.var[\"Plasma B-cells_pvals_adj\"][j] < 0.05:\n",
    "        changes.append(\"up_PlasmaBcell\")   \n",
    "    elif adata.var[\"Stellate cells_log2FC\"][j] > 0.5 and adata.var[\"Stellate cells_pvals_adj\"][j] < 0.05:\n",
    "        changes.append(\"up_Stellate\")\n",
    "    elif adata.var[\"T-cells_log2FC\"][j] > 0.5 and adata.var[\"T-cells_pvals_adj\"][j] < 0.05:\n",
    "        changes.append(\"up_Tcell\")      \n",
    "    else:\n",
    "        changes.append(\"none\")\n",
    "        \n",
    "adata.var[\"changes_cell_types\"] = changes "
   ]
  },
  {
   "cell_type": "markdown",
   "metadata": {},
   "source": [
    "#### Between 2n and 4n hepatocytes"
   ]
  },
  {
   "cell_type": "code",
   "execution_count": null,
   "metadata": {},
   "outputs": [],
   "source": [
    "adata1 = adata[adata.obs[\"cell_type\"] == \"Hepatocytes\",:].copy()"
   ]
  },
  {
   "cell_type": "code",
   "execution_count": null,
   "metadata": {},
   "outputs": [],
   "source": [
    "sc.pl.violin(adata1, \"n_genes\", groupby=\"Ploidy\")"
   ]
  },
  {
   "cell_type": "code",
   "execution_count": null,
   "metadata": {},
   "outputs": [],
   "source": [
    "np.median(adata1[adata1.obs[\"Ploidy\"] == \"4n\"].obs[\"n_genes\"])/np.median(adata1[adata1.obs[\"Ploidy\"] == \"2n\"].obs[\"n_genes\"])"
   ]
  },
  {
   "cell_type": "code",
   "execution_count": null,
   "metadata": {},
   "outputs": [],
   "source": [
    "sc.pl.scatter(adata1, x='n_counts_TPM', y='n_genes', color='Ploidy')"
   ]
  },
  {
   "cell_type": "code",
   "execution_count": null,
   "metadata": {},
   "outputs": [],
   "source": [
    "sc.tl.rank_genes_groups(adata1, groupby=\"cell_type1\", n_genes=19258, method=\"t-test\")"
   ]
  },
  {
   "cell_type": "code",
   "execution_count": null,
   "metadata": {},
   "outputs": [],
   "source": [
    "dict_genes = adata1.uns[\"rank_genes_groups\"].copy()"
   ]
  },
  {
   "cell_type": "code",
   "execution_count": null,
   "metadata": {},
   "outputs": [],
   "source": [
    "df = {}\n",
    "for idx, elem in enumerate(list(dict_genes[\"names\"].dtype.names)):\n",
    "    print(idx, elem)\n",
    "    df[elem+\"_gene\"] = []\n",
    "    df[elem+\"_logfoldchange\"] = []\n",
    "    df[elem+\"_pval_adj\"] = []\n",
    "    for j in range(0, len(adata.var)):\n",
    "        df[elem+\"_gene\"].append(dict_genes[\"names\"][j][idx])\n",
    "        df[elem+\"_logfoldchange\"].append(dict_genes[\"logfoldchanges\"][j][idx])\n",
    "        df[elem+\"_pval_adj\"].append(dict_genes[\"pvals_adj\"][j][idx])\n",
    "\n",
    "dataframe = pd.DataFrame(df)        \n",
    "for idx, elem in enumerate(list(dict_genes[\"names\"].dtype.names)):\n",
    "    adata.var[elem+\"_mean\"] = np.mean(adata[adata.obs[\"cell_type1\"] == elem,:].layers[\"norm_counts\"], axis=0)\n",
    "    #adata.var[elem+\"_sum\"] = np.sum(adata[adata.obs[\"cell_type\"] == elem,:].layers[\"norm_counts\"], axis=0)\n",
    "    adata.var[elem+\"_n_cells\"] = np.sum(adata[adata.obs[\"cell_type1\"] == elem,:].layers[\"norm_counts\"] > 0, axis=0)\n",
    "    dataframe.index = dataframe[elem+\"_gene\"]\n",
    "    adata.var[elem+\"_log2FC\"] = dataframe[elem+\"_logfoldchange\"]\n",
    "    adata.var[elem+\"_pvals_adj\"] = dataframe[elem+\"_pval_adj\"]"
   ]
  },
  {
   "cell_type": "code",
   "execution_count": null,
   "metadata": {},
   "outputs": [],
   "source": [
    "changes = []\n",
    "for j in range(0, len(adata.var)):\n",
    "    if adata.var[\"2n Hepatocytes_log2FC\"][j] > 0.5 and adata.var[\"2n Hepatocytes_pvals_adj\"][j] < 0.05:\n",
    "        changes.append(\"up_2n\")\n",
    "    elif adata.var[\"4n Hepatocytes_log2FC\"][j] > 0.5 and adata.var[\"4n Hepatocytes_pvals_adj\"][j] < 0.05:\n",
    "        changes.append(\"up_4n\")\n",
    "    else:\n",
    "        changes.append(\"none\")\n",
    "        \n",
    "adata.var[\"changes_hep\"] = changes      "
   ]
  },
  {
   "cell_type": "code",
   "execution_count": null,
   "metadata": {},
   "outputs": [],
   "source": [
    "DE_dict = {}\n",
    "for elem in list(set(adata.obs[\"cell_type\"])): # to get the 2n and 4n hepatocytes, re-run with \"cell_type1\"\n",
    "    DE_dict[elem+\"_up\"] = 0\n",
    "    DE_dict[elem+\"_down\"] = 0\n",
    "    outfile_up = open(\"differential_expression/up_\"+elem, \"w\")\n",
    "    outfile_down = open(\"differential_expression/down_\"+elem, \"w\")\n",
    "    for j in range(0,len(adata.var)):\n",
    "        if adata.var[elem+\"_log2FC\"][j] > 0.5 and adata.var[elem+\"_pvals_adj\"][j] < 0.05:\n",
    "            DE_dict[elem+\"_up\"] += 1\n",
    "            outfile_up.write(adata.var_names[j])\n",
    "            outfile_up.write(\"\\n\")\n",
    "        elif adata.var[elem+\"_log2FC\"][j] < -0.5 and adata.var[elem+\"_pvals_adj\"][j] < 0.05:\n",
    "            DE_dict[elem+\"_down\"] += 1\n",
    "            outfile_down.write(adata.var_names[j])\n",
    "            outfile_down.write(\"\\n\")\n",
    "    outfile_up.close()\n",
    "    outfile_down.close()"
   ]
  },
  {
   "cell_type": "markdown",
   "metadata": {},
   "source": [
    "#### Where does the higher number of genes in 4n come from?"
   ]
  },
  {
   "cell_type": "code",
   "execution_count": null,
   "metadata": {},
   "outputs": [],
   "source": [
    "# look for genes that are detected in 4n but not expressed in 2n\n",
    "varannot= []\n",
    "for i in range(0, len(adata.var)):\n",
    "    if adata.var[\"4n Hepatocytes_mean\"][i] > 0 and adata.var[\"2n Hepatocytes_n_cells\"][i] == 0:\n",
    "        varannot.append(\"not detected\")\n",
    "    else:\n",
    "        varannot.append(\"detected\")  \n",
    "adata1.var[\"detected\"] = varannot"
   ]
  },
  {
   "cell_type": "code",
   "execution_count": null,
   "metadata": {},
   "outputs": [],
   "source": [
    "df = pd.DataFrame()\n",
    "df[\"Mean expression\"] = adata.var[\"4n Hepatocytes_mean\"]\n",
    "df[\"status\"] = varannot\n",
    "df[\"genes\"] = \" \""
   ]
  },
  {
   "cell_type": "code",
   "execution_count": null,
   "metadata": {},
   "outputs": [],
   "source": [
    "df = df[df[\"Mean expression\"] != 0] # remove the 1 gene that is neither in 2n nor 4n"
   ]
  },
  {
   "cell_type": "code",
   "execution_count": null,
   "metadata": {},
   "outputs": [],
   "source": [
    "cols = {\"detected\" : '0.9', \"not detected\" : '#be073f'}\n",
    "g = sns.catplot(data=df.sort_values(\"status\"), x=\"genes\", y=\"Mean expression\", hue=\"status\", palette=cols, kind=\"strip\", \n",
    "                 alpha=0.5, dodge=False, marker=\"X\")\n",
    "plt.yscale(\"log\")"
   ]
  },
  {
   "cell_type": "markdown",
   "metadata": {},
   "source": [
    "#### Plotting DEGs between 2n and 4n"
   ]
  },
  {
   "cell_type": "code",
   "execution_count": null,
   "metadata": {},
   "outputs": [],
   "source": [
    "cols = []\n",
    "for elem in adata.var[\"changes_hep\"]:\n",
    "    if elem == \"up_2n\":\n",
    "        cols.append(\"#1f77b4\")\n",
    "    elif elem == \"up_4n\":\n",
    "        cols.append(\"#ff7f0e\")\n",
    "    else:\n",
    "        cols.append(\"0.75\")"
   ]
  },
  {
   "cell_type": "code",
   "execution_count": null,
   "metadata": {},
   "outputs": [],
   "source": [
    "# number of genes per ploidy level\n",
    "genes2n = pd.DataFrame()\n",
    "genes4n = pd.DataFrame()\n",
    "adata2n = adata[adata.obs[\"cell_type\"] == \"2n Hepatocytes\"].copy()\n",
    "adata4n = adata[adata.obs[\"cell_type\"] == \"4n Hepatocytes\"].copy()\n",
    "\n",
    "genes2n[\"n_genes_2n\"] = adata2n.obs[\"n_genes\"]\n",
    "genes4n[\"n_genes_4n\"] = adata4n.obs[\"n_genes\"]"
   ]
  },
  {
   "cell_type": "code",
   "execution_count": null,
   "metadata": {},
   "outputs": [],
   "source": [
    "# small data frame with means and number of cells in which a gene is expressed\n",
    "df = pd.DataFrame()\n",
    "df[\"mean_2n\"] = adata.var[\"2n Hepatocytes_mean\"]\n",
    "df[\"mean_4n\"] = adata.var[\"4n Hepatocytes_mean\"]\n",
    "df[\"mean_hep\"] = adata.var[\"Hepatocytes_mean\"]\n",
    "df[\"logFC_2n\"] = adata.var[\"2n Hepatocytes_log2FC\"]\n",
    "df[\"logFC_4n\"] = adata.var[\"4n Hepatocytes_log2FC\"]\n",
    "df[\"cells_2n\"] = adata.var[\"2n Hepatocytes_n_cells\"]\n",
    "df[\"cells_4n\"] = adata.var[\"4n Hepatocytes_n_cells\"]\n",
    "df[\"changes\"] = adata.var[\"changes_hep\"]\n",
    "df.index = adata.var.index"
   ]
  },
  {
   "cell_type": "code",
   "execution_count": null,
   "metadata": {},
   "outputs": [],
   "source": [
    "# for better visualisation, remove lowly and highly expressed genes\n",
    "df1 = df[df[\"mean_2n\"] > 0.1]\n",
    "df1 = df1[df1[\"mean_2n\"] < 100]\n",
    "df2 = df1[df1[\"mean_4n\"] > 0.1]\n",
    "df2 = df2[df2[\"mean_4n\"] < 100]"
   ]
  },
  {
   "cell_type": "code",
   "execution_count": null,
   "metadata": {},
   "outputs": [],
   "source": [
    "cols = {\"none\" : '0.8', \"up_2n\" : '#1f77b4', \"up_4n\" : \"#ff7f0e\"}\n",
    "for i, j in df2.groupby('changes'):\n",
    "    print(i)\n",
    "    plt.scatter(j['mean_hep'], j['logFC_2n'], c=cols[i], alpha=0.2, marker=\"x\")\n",
    "    plt.scatter(j['mean_hep'], j['logFC_2n'], c=cols[i], alpha=0.2, marker=\"x\")\n",
    "    plt.scatter(j['mean_hep'], j['logFC_2n'], c=cols[i], alpha=0.2, marker=\"x\")\n",
    "    plt.xscale(\"log\")"
   ]
  },
  {
   "cell_type": "code",
   "execution_count": null,
   "metadata": {},
   "outputs": [],
   "source": [
    "up2n = df[df[\"changes\"] == \"up_2n\"]\n",
    "up4n = df[df[\"changes\"] == \"up_4n\"]"
   ]
  },
  {
   "cell_type": "code",
   "execution_count": null,
   "metadata": {},
   "outputs": [],
   "source": [
    "df3 = df2[df2[\"changes\"] != \"none\"]"
   ]
  },
  {
   "cell_type": "code",
   "execution_count": null,
   "metadata": {},
   "outputs": [],
   "source": [
    "from scipy.stats import gaussian_kde\n",
    "\n",
    "# colors for scatter plot\n",
    "cols = []\n",
    "for elem in df3[\"changes\"]:\n",
    "    if elem == \"up_2n\":\n",
    "        cols.append(\"#1f77b4\")\n",
    "    elif elem == \"up_4n\":\n",
    "        cols.append(\"#ff7f0e\")\n",
    "    else:\n",
    "        cols.append(\"0.85\")\n",
    "\n",
    "# definitions for the axes\n",
    "left, width = 0.1, 0.65\n",
    "bottom, height = 0.1, 0.65\n",
    "spacing = 0.02\n",
    "\n",
    "\n",
    "rect_scatter = [left, bottom, width, height]\n",
    "rect_histx = [left, bottom + height + spacing, width, 0.2]\n",
    "rect_histy = [left + width + spacing, bottom, 0.22, height]\n",
    "\n",
    "\n",
    "# start with a rectangular Figure\n",
    "plt.figure(figsize=(8, 8))\n",
    "\n",
    "ax_scatter = plt.axes(rect_scatter)\n",
    "\n",
    "ax_scatter.tick_params(direction='in', top=True, right=True)\n",
    "ax_histx = plt.axes(rect_histx)\n",
    "ax_histx.tick_params(direction='in', labelbottom=False)\n",
    "ax_x = plt.axvline(up2n[\"cells_2n\"].mean(), color='k', linestyle='dashed', linewidth=1.5)\n",
    "ax_histy = plt.axes(rect_histy)\n",
    "ax_histy.tick_params(direction='in', labelleft=False)\n",
    "ax_y = plt.axhline(up4n[\"cells_4n\"].mean(), color='k', linestyle='dashed', linewidth=1.5)\n",
    "\n",
    "\n",
    "# the scatter plot:\n",
    "ax_scatter.scatter(x=df3[\"cells_2n\"], y=df3[\"cells_4n\"], c=cols, alpha=0.5, marker=\"x\")\n",
    "\n",
    "# now determine nice limits by hand:\n",
    "binwidth = 10\n",
    "lim = np.ceil(np.abs([df3[\"cells_2n\"], df3[\"cells_4n\"]]).max() / binwidth) * binwidth\n",
    "ax_scatter.set_xlim((0, lim))\n",
    "ax_scatter.set_ylim((0, lim))\n",
    "\n",
    "bins = np.arange(0, lim + binwidth, binwidth)\n",
    "dist_space = np.linspace(0, lim, 1000)\n",
    "\n",
    "# using gaussian_kde to get a density plot instead of histogram\n",
    "density2n = gaussian_kde(up2n[\"cells_2n\"])\n",
    "density4n = gaussian_kde(up4n[\"cells_4n\"], bw_method=.1)\n",
    "\n",
    "\n",
    "ax_histx.plot(dist_space, density2n(dist_space), c=\"#1f77b4\")\n",
    "ax_x\n",
    "ax_histy.plot(density4n(dist_space), dist_space, c=\"#ff7f0e\")\n",
    "ax_y\n",
    "\n",
    "ax_histx.set_xlim(ax_scatter.get_xlim())\n",
    "ax_histy.set_ylim(ax_scatter.get_ylim())\n",
    "ax_histy.set_xlim(ax_histx.get_ylim())\n",
    "ax_histy.set_xticks(ticks=[0.000,0.002,0.004,0.006])\n",
    "ax_histy.set_xticklabels(labels=[0.000,None,None,0.006])"
   ]
  },
  {
   "cell_type": "markdown",
   "metadata": {},
   "source": [
    "#### Gene set enrichment analysis on top 100 DEGs"
   ]
  },
  {
   "cell_type": "code",
   "execution_count": null,
   "metadata": {},
   "outputs": [],
   "source": [
    "sc.tl.rank_genes_groups(adata, groupby='cell_type1', n_genes=100, use_raw=True, \n",
    "                        groups=[\"4n Hepatocytes\"], reference='2n Hepatocytes', method=\"t-test\")"
   ]
  },
  {
   "cell_type": "code",
   "execution_count": null,
   "metadata": {},
   "outputs": [],
   "source": [
    "plt.rcParams['figure.figsize']=(10,8) #rescale figures\n",
    "genes = adata.uns[\"rank_genes_groups\"][\"names\"][\"4n Hepatocytes\"].tolist()   \n",
    "\n",
    "    \n",
    "#Interpretation of differentially expressed genes in paneth cells - g:profiler\n",
    "gp = gprofiler(genes, organism='mmusculus')\n",
    "gp = gp[gp[\"domain\"] == \"BP\"]\n",
    "\n",
    "gp_enrichment = gp.sort_values('p.value').iloc[:,[2,3,5,6,11]]\n",
    "gp_enrichment['name']= gp_enrichment['term.name'].copy()\n",
    "gp_enrichment['p_value']= gp_enrichment['p.value'].copy()\n",
    "gp_enrichment['intersection_size']= gp_enrichment['overlap.size'].copy()\n",
    "del gp_enrichment['term.name'], gp_enrichment['overlap.size'], gp_enrichment['p.value']\n",
    "cf.plot_enrich(gp_enrichment, save='GO_4n_vs_2n_top100.pdf')"
   ]
  },
  {
   "cell_type": "code",
   "execution_count": null,
   "metadata": {},
   "outputs": [],
   "source": [
    "sc.tl.rank_genes_groups(adata, groupby='cell_type1', n_genes=100, use_raw=True, \n",
    "                        groups=[\"2n Hepatocytes\"], reference='4n Hepatocytes', method=\"t-test\")"
   ]
  },
  {
   "cell_type": "code",
   "execution_count": null,
   "metadata": {},
   "outputs": [],
   "source": [
    "plt.rcParams['figure.figsize']=(10,8) #rescale figures\n",
    "genes = adata.uns[\"rank_genes_groups\"][\"names\"][\"2n Hepatocytes\"].tolist()   \n",
    "\n",
    "    \n",
    "#Interpretation of differentially expressed genes in paneth cells - g:profiler\n",
    "gp = gprofiler(genes, organism='mmusculus')\n",
    "gp = gp[gp[\"domain\"] == \"BP\"]\n",
    "\n",
    "gp_enrichment = gp.sort_values('p.value').iloc[:,[2,3,5,6,11]]\n",
    "gp_enrichment['name']= gp_enrichment['term.name'].copy()\n",
    "gp_enrichment['p_value']= gp_enrichment['p.value'].copy()\n",
    "gp_enrichment['intersection_size']= gp_enrichment['overlap.size'].copy()\n",
    "del gp_enrichment['term.name'], gp_enrichment['overlap.size'], gp_enrichment['p.value']\n",
    "cf.plot_enrich(gp_enrichment, save='GO_2n_vs_4n_top100.pdf')"
   ]
  },
  {
   "cell_type": "markdown",
   "metadata": {},
   "source": [
    "## Violin plots for metabolic marker genes"
   ]
  },
  {
   "cell_type": "code",
   "execution_count": null,
   "metadata": {},
   "outputs": [],
   "source": [
    "markers = [\"Cyp2d26\", \"Cyp2d9\", \"Cyp3a25\", \"Cyp2e1\",\"Cyp27a1\"]\n",
    "sc.pl.stacked_violin(adata1, var_names=markers, gene_symbols=\"gene_name\", groupby=\"Ploidy\",\n",
    "                     figsize=(1.5,4),\n",
    "                     swap_axes=True,\n",
    "                     cmap=\"Blues\",\n",
    "                     standard_scale=\"var\")"
   ]
  },
  {
   "cell_type": "markdown",
   "metadata": {},
   "source": [
    "## Coefficient of variation"
   ]
  },
  {
   "cell_type": "code",
   "execution_count": null,
   "metadata": {},
   "outputs": [],
   "source": [
    "# change the figure configurations back to the initial settings\n",
    "sc.settings.set_figure_params(dpi=80)\n",
    "\n",
    "sc.set_figure_params(scanpy=True, dpi=80, dpi_save=250,\n",
    "                     frameon=True, vector_friendly=True,\n",
    "                     color_map=\"YlGnBu\", format='pdf', transparent=False,\n",
    "                     ipython_format='png2x')"
   ]
  },
  {
   "cell_type": "code",
   "execution_count": null,
   "metadata": {},
   "outputs": [],
   "source": [
    "adata1 = adata.copy()"
   ]
  },
  {
   "cell_type": "code",
   "execution_count": null,
   "metadata": {},
   "outputs": [],
   "source": [
    "adata1.var[\"mean_norm_counts\"] = np.mean(adata1.layers[\"raw\"], axis=0)\n",
    "adata1.var[\"mean_norm_counts_log\"] = np.mean(adata1.X, axis=0)"
   ]
  },
  {
   "cell_type": "code",
   "execution_count": null,
   "metadata": {},
   "outputs": [],
   "source": [
    "#adata1 = adata1[:,adata1.var[\"changes_hep\"] == \"none\"]"
   ]
  },
  {
   "cell_type": "code",
   "execution_count": null,
   "metadata": {},
   "outputs": [],
   "source": [
    "# remove genes with low mean expression\n",
    "adata1 = adata1[:,adata1.var[\"mean_norm_counts\"] > 0.25].copy()"
   ]
  },
  {
   "cell_type": "code",
   "execution_count": null,
   "metadata": {},
   "outputs": [],
   "source": [
    "#df = pd.DataFrame()\n",
    "#df2 = pd.DataFrame()\n",
    "#df3 = pd.DataFrame()\n",
    "#for elem in list(set(adata.obs[\"cell_type\"])):\n",
    "#    print(elem)\n",
    "#    adata1.var[\"mean_\"+elem] = np.mean(adata1[adata1.obs[\"cell_type\"] == elem,:].layers[\"norm_counts\"], axis=0)\n",
    "#    adata1.var[\"CV_\"+elem] = np.sqrt(np.exp(np.std(adata1[adata1.obs[\"cell_type\"] == elem,:].X, axis=0)**2)-1)\n",
    "#    df[\"CV_\"+elem] = np.sqrt(np.exp(np.std(adata1[adata1.obs[\"cell_type\"] == elem,:].X, axis=0)**2)-1)\n",
    "#    print(np.median(df[\"CV_\"+elem]))\n",
    "#    df3[\"CV_\"+elem] = np.std(adata1[adata1.obs[\"cell_type\"] == elem,:].layers[\"counts\"], axis=0)/np.mean(adata1[adata1.obs[\"cell_type\"] == elem,:].layers[\"counts\"], axis=0)\n",
    "#    df2[\"mean_\"+elem] = np.mean(adata1[adata1.obs[\"cell_type\"] == elem,:].layers[\"raw\"], axis=0)"
   ]
  },
  {
   "cell_type": "code",
   "execution_count": null,
   "metadata": {},
   "outputs": [],
   "source": [
    "#df1 = df.unstack().reset_index() "
   ]
  },
  {
   "cell_type": "code",
   "execution_count": null,
   "metadata": {},
   "outputs": [],
   "source": [
    "# use same colors as in the tSNE\n",
    "#cols = {\"CV_Hepatocytes\":'#332288', \"CV_B-cells\":'#4EB265', \"CV_Endothelial cells\":'#DC050C', \n",
    "#        \"CV_Epcam+ epithelial cells\":'#aa40fc', \"CV_Hepatobiliary cells\":'#8c564b',\n",
    "#        \"CV_Kupffer and dendritic cells\":'#FFAABB', \"CV_Plasma B-cells\":'#b5bd61', \n",
    "#        \"CV_Stellate cells\":'#17becf', \"CV_T-cells\":'#aec7e8'}\n",
    "#p = sns.boxplot(x=\"level_0\", y=0, data=df1, palette=cols)\n",
    "#p.set_xticklabels(p.get_xticklabels(), rotation=45, horizontalalignment='right')\n",
    "#box = p.get_position()\n",
    "#p.set_position([box.x0, box.y0, box.width * 1.5, box.height * 1.2])\n",
    "#plt.yscale(\"log\")"
   ]
  },
  {
   "cell_type": "markdown",
   "metadata": {},
   "source": [
    "#### CV between 2n and 4n hepatocytes"
   ]
  },
  {
   "cell_type": "code",
   "execution_count": null,
   "metadata": {},
   "outputs": [],
   "source": [
    "df = pd.DataFrame()\n",
    "df2 = pd.DataFrame()\n",
    "#df3 = pd.DataFrame()\n",
    "for elem in ['2n Hepatocytes', '4n Hepatocytes']:\n",
    "    adata1.var[\"mean_\"+elem] = np.mean(adata1[adata1.obs[\"cell_type1\"] == elem,:].layers[\"norm_counts\"], axis=0)\n",
    "    adata1.var[\"CV_\"+elem] = np.sqrt(np.exp(np.std(adata1[adata1.obs[\"cell_type1\"] == elem,:].X, axis=0)**2)-1)\n",
    "    df[\"CV_\"+elem] = np.sqrt(np.exp(np.std(adata1[adata1.obs[\"cell_type1\"] == elem,:].X, axis=0)**2)-1)\n",
    "    #df3[\"CV_\"+elem] = np.std(adata1[adata1.obs[\"cell_type1\"] == elem,:].X, axis=0)/np.mean(adata1[adata1.obs[\"cell_type1\"] == elem,:].X, axis=0)\n",
    "    df2[\"mean_\"+elem] = np.mean(adata1[adata1.obs[\"cell_type1\"] == elem,:].layers[\"raw\"], axis=0)"
   ]
  },
  {
   "cell_type": "code",
   "execution_count": null,
   "metadata": {},
   "outputs": [],
   "source": [
    "df1 = df.unstack().reset_index() "
   ]
  },
  {
   "cell_type": "code",
   "execution_count": null,
   "metadata": {},
   "outputs": [],
   "source": [
    "cols = {\"CV_2n Hepatocytes\":'#1f77b4', \"CV_4n Hepatocytes\":'#ff7f0e'}\n",
    "ax = sns.boxplot(x=\"level_0\", y=0, data=df1, palette=cols)\n",
    "ax.set_xticklabels(ax.get_xticklabels(), rotation=45, horizontalalignment='right')\n",
    "# use same y-ayis as in the previous plot\n",
    "#ax.set_ylim(p.get_ylim())\n",
    "box = ax.get_position()\n",
    "ax.set_position([box.x0, box.y0, box.width * 2/9*1.5, box.height * 1.2])\n",
    "plt.yscale(\"log\")"
   ]
  },
  {
   "cell_type": "code",
   "execution_count": null,
   "metadata": {},
   "outputs": [],
   "source": [
    "stats.mannwhitneyu(df[\"CV_2n Hepatocytes\"].dropna(), df[\"CV_4n Hepatocytes\"].dropna())"
   ]
  },
  {
   "cell_type": "code",
   "execution_count": null,
   "metadata": {},
   "outputs": [],
   "source": [
    "np.median(df[\"CV_2n Hepatocytes\"])/np.median(df[\"CV_4n Hepatocytes\"])"
   ]
  },
  {
   "cell_type": "code",
   "execution_count": null,
   "metadata": {},
   "outputs": [],
   "source": [
    "HVG = []\n",
    "for idx, value in enumerate(adata1.var[\"CV_Hepatocytes\"].tolist()):\n",
    "    if value > 1.7:\n",
    "        HVG.append(\"yes\")\n",
    "    else:\n",
    "        HVG.append(\"no\")"
   ]
  },
  {
   "cell_type": "code",
   "execution_count": null,
   "metadata": {},
   "outputs": [],
   "source": [
    "cols = []\n",
    "for elem in HVG:\n",
    "    if elem == \"yes\":\n",
    "        cols.append(\"#1f77b4\")\n",
    "    else:\n",
    "        cols.append(\"0.85\")"
   ]
  },
  {
   "cell_type": "code",
   "execution_count": null,
   "metadata": {},
   "outputs": [],
   "source": [
    "# plot number of HVGs that are non-DE in 2n and 4n"
   ]
  },
  {
   "cell_type": "code",
   "execution_count": null,
   "metadata": {},
   "outputs": [],
   "source": [
    "x = 0\n",
    "for idx, elem in enumerate(adata1.var[\"changes_hep\"]):\n",
    "    if elem == \"none\" and adata1.var[\"CV_2n Hepatocytes\"][idx] > 1.7:\n",
    "        x += 1"
   ]
  },
  {
   "cell_type": "code",
   "execution_count": null,
   "metadata": {},
   "outputs": [],
   "source": [
    "x"
   ]
  },
  {
   "cell_type": "code",
   "execution_count": null,
   "metadata": {},
   "outputs": [],
   "source": [
    "x = np.arange(2)\n",
    "variable = [192, 105]\n",
    "\n",
    "fig, ax = plt.subplots()\n",
    "plt.bar(x, variable)\n",
    "plt.xticks(x, ('#HVG 2n', '#HVG 4n'))\n",
    "ax.set_xticklabels(ax.get_xticklabels(), rotation=45, horizontalalignment='right')\n",
    "plt.show()"
   ]
  },
  {
   "cell_type": "markdown",
   "metadata": {},
   "source": [
    "#### Save highly variable genes in 2n and 4n hepatocytes to file"
   ]
  },
  {
   "cell_type": "code",
   "execution_count": null,
   "metadata": {},
   "outputs": [],
   "source": [
    "for elem in ['2n Hepatocytes', '4n Hepatocytes']:\n",
    "    outfile=open(\"differential_variability/high_CV_\"+elem+\".txt\",\"w\")\n",
    "    for idx, value in enumerate(adata1.var[\"CV_\"+elem].tolist()):\n",
    "        if value > 1.7:\n",
    "            outfile.write(adata1.var_names.tolist()[idx])\n",
    "            outfile.write(\"\\n\")\n",
    "    outfile.close()"
   ]
  },
  {
   "cell_type": "markdown",
   "metadata": {},
   "source": [
    "## Stem cell marker gene expression"
   ]
  },
  {
   "cell_type": "code",
   "execution_count": null,
   "metadata": {},
   "outputs": [],
   "source": [
    "adata1 = adata[adata.obs[\"cell_type\"] == \"Hepatocytes\"]"
   ]
  },
  {
   "cell_type": "code",
   "execution_count": null,
   "metadata": {},
   "outputs": [],
   "source": [
    "HSC_name = []\n",
    "HSC_id = []\n",
    "index = 0\n",
    "for n in adata1.var[\"gene_name\"]:\n",
    "    if n in [\"Afp\",\"Epcam\",\"Icam1\",\"Itga6\",\"Lgr5\",\"Notch2\",\"Prom1\",\"Sox9\",\"Tbx3\",\"Tert\", \"Axin2\"] :\n",
    "        HSC_name.append(n)\n",
    "        HSC_id.append(adata1.var_names[index])\n",
    "    index += 1\n",
    "sc.pl.heatmap(adata1, groupby=\"clusters\", var_names=HSC_id, use_raw=False, show_gene_labels=True,\n",
    "              standard_scale=\"obs\",swap_axes=True)"
   ]
  },
  {
   "cell_type": "code",
   "execution_count": null,
   "metadata": {},
   "outputs": [],
   "source": [
    "adata3 = adata1[:,HSC_id].copy()"
   ]
  },
  {
   "cell_type": "code",
   "execution_count": null,
   "metadata": {},
   "outputs": [],
   "source": [
    "sc.pp.filter_cells(adata3, min_counts=1)"
   ]
  },
  {
   "cell_type": "code",
   "execution_count": null,
   "metadata": {},
   "outputs": [],
   "source": [
    "adata3.X = adata3.layers[\"raw_bin\"]"
   ]
  },
  {
   "cell_type": "code",
   "execution_count": null,
   "metadata": {},
   "outputs": [],
   "source": [
    "sc.pl.clustermap(adata3, use_raw=False, obs_keys=\"Ploidy\", cmap=sns.cubehelix_palette(20), figsize=(15,15), \n",
    "                 method=\"average\", metric=\"jaccard\", standard_scale=0)"
   ]
  },
  {
   "cell_type": "code",
   "execution_count": null,
   "metadata": {},
   "outputs": [],
   "source": [
    "adata4 = adata3[adata3.obs[\"Ploidy\"] == \"2n\",:].copy()\n",
    "adata5 = adata3[adata3.obs[\"Ploidy\"] == \"4n\",:].copy()"
   ]
  },
  {
   "cell_type": "code",
   "execution_count": null,
   "metadata": {},
   "outputs": [],
   "source": [
    "from scipy.cluster.hierarchy import linkage\n",
    "df = pd.DataFrame(adata3.layers[\"raw_bin\"].T) # genes are rows, cells are columns now\n",
    "df.index = adata3.var[\"gene_name\"] # add gene names as row names\n",
    "df.columns = adata3.obs.index # add cell names as column names\n",
    "\n",
    "lut = dict(zip(adata3.obs[\"Ploidy\"], \"b\"))\n",
    "col_colors = adata3.obs[\"Ploidy\"].map(lut)\n",
    "\n",
    "gene_link = linkage(df, metric=\"jaccard\")\n",
    "cell_link = linkage(df.transpose(), metric=\"jaccard\")\n",
    "\n",
    "gene_link.shape\n",
    "\n",
    "g = sns.clustermap(df, col_colors=col_colors, col_linkage=cell_link, row_linkage=gene_link, \n",
    "                   cmap=sns.cubehelix_palette(20), standard_scale=1, figsize=(15,15))"
   ]
  },
  {
   "cell_type": "code",
   "execution_count": null,
   "metadata": {},
   "outputs": [],
   "source": [
    "df = pd.DataFrame(adata4.layers[\"raw_bin\"].T) # genes are rows, cells are columns now\n",
    "df.index = adata4.var[\"gene_name\"] # add gene names as row names\n",
    "df.columns = adata4.obs.index # add cell names as column names\n",
    "\n",
    "lut = dict(zip(adata3.obs[\"Ploidy\"], \"b\"))\n",
    "col_colors = adata3.obs[\"Ploidy\"].map(lut)\n",
    "\n",
    "gene_link = linkage(df, metric=\"jaccard\")\n",
    "cell_link = linkage(df.transpose(), metric=\"jaccard\")\n",
    "\n",
    "gene_link.shape\n",
    "\n",
    "g = sns.clustermap(df, col_colors=col_colors, col_linkage=cell_link, row_linkage=gene_link,\n",
    "                   cmap=sns.cubehelix_palette(20), standard_scale=1, figsize=(15,15))"
   ]
  },
  {
   "cell_type": "code",
   "execution_count": null,
   "metadata": {},
   "outputs": [],
   "source": [
    "df = pd.DataFrame(adata5.layers[\"raw_bin\"].T) # genes are rows, cells are columns now\n",
    "df.index = adata5.var[\"gene_name\"] # add gene names as row names\n",
    "df.columns = adata5.obs.index # add cell names as column names\n",
    "\n",
    "lut = dict(zip(adata3.obs[\"Ploidy\"], \"b\"))\n",
    "col_colors = adata3.obs[\"Ploidy\"].map(lut)\n",
    "\n",
    "gene_link = linkage(df, metric=\"jaccard\")\n",
    "cell_link = linkage(df.transpose(), metric=\"jaccard\")\n",
    "\n",
    "gene_link.shape\n",
    "\n",
    "g = sns.clustermap(df, col_colors=col_colors, col_linkage=cell_link, row_linkage=gene_link,\n",
    "                   cmap=sns.cubehelix_palette(20), standard_scale=1, figsize=(15,15))"
   ]
  },
  {
   "cell_type": "code",
   "execution_count": null,
   "metadata": {},
   "outputs": [],
   "source": [
    "def seriation(Z,N,cur_index):\n",
    "    '''\n",
    "        input:\n",
    "            - Z is a hierarchical tree (dendrogram)\n",
    "            - N is the number of points given to the clustering process\n",
    "            - cur_index is the position in the tree for the recursive traversal\n",
    "        output:\n",
    "            - order implied by the hierarchical tree Z\n",
    "            \n",
    "        seriation computes the order implied by a hierarchical tree (dendrogram)\n",
    "    '''\n",
    "    if cur_index < N:\n",
    "        return [cur_index]\n",
    "    else:\n",
    "        left = int(Z[cur_index-N,0])\n",
    "        right = int(Z[cur_index-N,1])\n",
    "        return (seriation(Z,N,left) + seriation(Z,N,right))\n",
    "    \n",
    "def compute_serial_matrix(dist_mat,method=\"ward\"):\n",
    "    '''\n",
    "        input:\n",
    "            - dist_mat is a distance matrix\n",
    "            - method = [\"ward\",\"single\",\"average\",\"complete\"]\n",
    "        output:\n",
    "            - seriated_dist is the input dist_mat,\n",
    "              but with re-ordered rows and columns\n",
    "              according to the seriation, i.e. the\n",
    "              order implied by the hierarchical tree\n",
    "            - res_order is the order implied by\n",
    "              the hierarhical tree\n",
    "            - res_linkage is the hierarhical tree (dendrogram)\n",
    "        \n",
    "        compute_serial_matrix transforms a distance matrix into \n",
    "        a sorted distance matrix according to the order implied \n",
    "        by the hierarchical tree (dendrogram)\n",
    "    '''\n",
    "    N = len(dist_mat)\n",
    "    flat_dist_mat = squareform(dist_mat)\n",
    "    res_linkage = linkage(flat_dist_mat, method=method)\n",
    "    res_order = seriation(res_linkage, N, N + N-2)\n",
    "    seriated_dist = np.zeros((N,N))\n",
    "    a,b = np.triu_indices(N,k=1)\n",
    "    seriated_dist[a,b] = dist_mat[ [res_order[i] for i in a], [res_order[j] for j in b]]\n",
    "    seriated_dist[b,a] = seriated_dist[a,b]\n",
    "    \n",
    "    return seriated_dist, res_order, res_linkage"
   ]
  },
  {
   "cell_type": "code",
   "execution_count": null,
   "metadata": {},
   "outputs": [],
   "source": [
    "df = pd.DataFrame(adata3.layers[\"raw_bin\"].T)\n",
    "df.index = adata3.var[\"gene_name\"]\n",
    "df.columns = adata3.obs.index"
   ]
  },
  {
   "cell_type": "code",
   "execution_count": null,
   "metadata": {},
   "outputs": [],
   "source": [
    "from scipy.spatial.distance import pdist, squareform"
   ]
  },
  {
   "cell_type": "code",
   "execution_count": null,
   "metadata": {},
   "outputs": [],
   "source": [
    "x = pdist(df, metric=\"jaccard\")\n",
    "x2 = squareform(x)"
   ]
  },
  {
   "cell_type": "code",
   "execution_count": null,
   "metadata": {},
   "outputs": [],
   "source": [
    "ordered_dist_mat, res_order, res_linkage = compute_serial_matrix(x2,\"ward\")"
   ]
  },
  {
   "cell_type": "code",
   "execution_count": null,
   "metadata": {},
   "outputs": [],
   "source": [
    "df = pd.DataFrame(ordered_dist_mat)\n",
    "df.index = adata3.var[\"gene_name\"][res_order]\n",
    "df.columns = adata3.var[\"gene_name\"][res_order]\n",
    "mask = np.triu(np.ones_like(df, dtype=np.bool))\n",
    "sns.heatmap(df, cmap=\"RdBu\")#, mask=mask)"
   ]
  },
  {
   "cell_type": "markdown",
   "metadata": {},
   "source": [
    "## Pseudospatial ordering based on zonation markers"
   ]
  },
  {
   "cell_type": "code",
   "execution_count": null,
   "metadata": {},
   "outputs": [],
   "source": [
    "adata1 = adata[adata.obs[\"cell_type\"] == \"Hepatocytes\"]"
   ]
  },
  {
   "cell_type": "code",
   "execution_count": null,
   "metadata": {},
   "outputs": [],
   "source": [
    "sc.tl.tsne(adata1, perplexity=15, n_pcs=15)\n",
    "sc.pl.tsne(adata1, color=\"Ploidy\")"
   ]
  },
  {
   "cell_type": "code",
   "execution_count": null,
   "metadata": {},
   "outputs": [],
   "source": [
    "df = pd.read_csv('zonation_markers.txt', sep='\\t')\n",
    "zonation_markers = []\n",
    "for marker in df.MouseGeneID.tolist():\n",
    "    if ';' in marker:\n",
    "        zonation_markers += marker.split(';')\n",
    "    else:\n",
    "        zonation_markers.append(marker)"
   ]
  },
  {
   "cell_type": "code",
   "execution_count": null,
   "metadata": {},
   "outputs": [],
   "source": [
    "df = pd.read_csv('zonation_markers_new.txt', sep='\\n')\n",
    "zonation_markers1 = []\n",
    "for marker in df.MouseGeneID.tolist():\n",
    "    if ';' in marker:\n",
    "        zonation_markers1 += marker.split(';')\n",
    "    else:\n",
    "        zonation_markers1.append(marker)"
   ]
  },
  {
   "cell_type": "code",
   "execution_count": null,
   "metadata": {},
   "outputs": [],
   "source": [
    "zonation_markers_all = zonation_markers+zonation_markers1"
   ]
  },
  {
   "cell_type": "code",
   "execution_count": null,
   "metadata": {},
   "outputs": [],
   "source": [
    "zonation_markers2 = []\n",
    "for idx,gene in enumerate(list(adata1.var['gene_name'])):\n",
    "    if gene in zonation_markers_all:\n",
    "        zonation_markers2.append(list(adata1.var_names)[idx])"
   ]
  },
  {
   "cell_type": "code",
   "execution_count": null,
   "metadata": {},
   "outputs": [],
   "source": [
    "adata2 = adata1[:,zonation_markers2].copy()\n",
    "adata2"
   ]
  },
  {
   "cell_type": "code",
   "execution_count": null,
   "metadata": {},
   "outputs": [],
   "source": [
    "sc.pp.pca(adata2)\n",
    "sc.pp.neighbors(adata2)\n",
    "sc.tl.umap(adata2)\n",
    "sc.tl.diffmap(adata2)"
   ]
  },
  {
   "cell_type": "code",
   "execution_count": null,
   "metadata": {},
   "outputs": [],
   "source": [
    "sc.tl.louvain(adata2, resolution=0.7)"
   ]
  },
  {
   "cell_type": "code",
   "execution_count": null,
   "metadata": {},
   "outputs": [],
   "source": [
    "sc.pl.umap(adata2, color='Ploidy')\n",
    "sc.pl.diffmap(adata2, color=['Ploidy',\"louvain\", \"n_genes\"])"
   ]
  },
  {
   "cell_type": "code",
   "execution_count": null,
   "metadata": {},
   "outputs": [],
   "source": [
    "adata2.uns[\"louvain_colors\"] = ['#283891', '#ef3aa0', '#027dfe']"
   ]
  },
  {
   "cell_type": "code",
   "execution_count": null,
   "metadata": {},
   "outputs": [],
   "source": [
    "sc.pl.diffmap(adata2, color=[\"louvain\",\"Ploidy\",\"n_counts_transcripts\"])"
   ]
  },
  {
   "cell_type": "code",
   "execution_count": null,
   "metadata": {},
   "outputs": [],
   "source": [
    "sc.pl.diffmap(adata2, color=[\"Hamp\",\"Cyp2e1\",\"Alb\"], gene_symbols=\"gene_name\")"
   ]
  },
  {
   "cell_type": "code",
   "execution_count": null,
   "metadata": {},
   "outputs": [],
   "source": [
    "annot = []\n",
    "for elem in adata2.obs[\"louvain\"]:\n",
    "    if elem in [\"0\",\"2\"]:\n",
    "        annot.append(\"periportal\")\n",
    "    else:\n",
    "        annot.append(\"pericentral\")\n",
    "adata2.obs[\"pseudospace\"] = annot   "
   ]
  },
  {
   "cell_type": "code",
   "execution_count": null,
   "metadata": {},
   "outputs": [],
   "source": [
    "adata2.uns[\"pseudospace_colors\"] = ['#6e0451', '#2498e2']"
   ]
  },
  {
   "cell_type": "code",
   "execution_count": null,
   "metadata": {},
   "outputs": [],
   "source": [
    "sc.pl.diffmap(adata2, color=[\"pseudospace\", 'Ploidy'], wspace=0.4)"
   ]
  },
  {
   "cell_type": "code",
   "execution_count": null,
   "metadata": {},
   "outputs": [],
   "source": [
    "# Data\n",
    "df = cf.cell_compo_table(adata2, \"Ploidy\", \"pseudospace\")\n",
    "r = np.arange(3)\n",
    " \n",
    "# From raw value to percentage\n",
    "totals = [i+j for i,j in zip(df['2n'], df['4n'])]\n",
    "hep2n = [i / j * 100 for i,j in zip(df['2n'], totals)]\n",
    "hep4n = [i / j * 100 for i,j in zip(df['4n'], totals)]\n",
    "\n",
    "# plot\n",
    "barWidth = 0.85\n",
    "names = ('pericentral', 'periportal')\n",
    "\n",
    "# Create bars\n",
    "plt.bar(r, hep2n, width=barWidth, label=\"2n\")\n",
    "plt.bar(r, hep4n, bottom=hep2n, width=barWidth, label=\"4n\")\n",
    "\n",
    "    \n",
    "# Custom x axis\n",
    "plt.xticks(r, names)\n",
    "#plt.xlabel(\"group\")\n",
    "plt.xticks(rotation=90)\n",
    "plt.legend(loc='upper left', bbox_to_anchor=(1,1), ncol=1)\n",
    "\n",
    "# Show graphic\n",
    "plt.show()"
   ]
  },
  {
   "cell_type": "code",
   "execution_count": null,
   "metadata": {},
   "outputs": [],
   "source": [
    "adata2.uns['iroot'] = 561\n",
    "sc.tl.dpt(adata2)\n",
    "sc.tl.paga(adata2, groups=\"pseudospace\")"
   ]
  },
  {
   "cell_type": "code",
   "execution_count": null,
   "metadata": {},
   "outputs": [],
   "source": [
    "genes = []\n",
    "for gene in [\"Hnf4a\",\"Cyp2e1\",\"Alb\",\"Ces3a\",\"Gsta3\",\"Cyp2f2\",\"Hamp\",\n",
    "             \"Cyp27a1\",\"Asl\",\"Cyp3a25\",\"Mup17\",\"Gls2\"]:\n",
    "    if gene in adata2.var[\"gene_name\"].tolist():\n",
    "        genes.append(gene)"
   ]
  },
  {
   "cell_type": "code",
   "execution_count": null,
   "metadata": {},
   "outputs": [],
   "source": [
    "sc.pl.diffmap(adata2, color=genes, gene_symbols=\"gene_name\", ncols=3)"
   ]
  },
  {
   "cell_type": "code",
   "execution_count": null,
   "metadata": {},
   "outputs": [],
   "source": [
    "for gene in genes:\n",
    "    df = pd.DataFrame()\n",
    "    df[\"dpt\"] = adata2.obs[\"dpt_pseudotime\"]\n",
    "    df[\"expression\"] = np.array(adata2[:,adata2.var[\"gene_name\"]==gene].X)\n",
    "    bins = [0, 0.1, 0.2, 0.3, 0.4, 0.5, 0.6, 0.7, 0.8, 0.9, 1]\n",
    "    labels = [0,0.2,0.3,0.4,0.5,0.6,0.7,0.8,0.9,1]\n",
    "    df['zones'] = pd.cut(df['dpt'], bins=bins, labels=labels)\n",
    "    df2 = df.groupby(df[\"zones\"]).mean()     \n",
    "    \n",
    "    plt.figure()\n",
    "    plt.plot(df2.index.tolist(), df2[\"expression\"])\n",
    "    plt.ylabel('mean_expression')\n",
    "    plt.title(gene)\n",
    "    plt.xlabel('pseudospace_bins')"
   ]
  },
  {
   "cell_type": "code",
   "execution_count": null,
   "metadata": {},
   "outputs": [],
   "source": [
    "sc.tl.rank_genes_groups(adata2, groupby=\"pseudospace\")"
   ]
  },
  {
   "cell_type": "code",
   "execution_count": null,
   "metadata": {},
   "outputs": [],
   "source": [
    "unsup_markers = []\n",
    "for elem in list(adata2.uns[\"rank_genes_groups\"][\"names\"]['pericentral'])[0:30]:\n",
    "    unsup_markers.append(elem)\n",
    "for elem in list(adata2.uns[\"rank_genes_groups\"][\"names\"]['periportal'])[0:30]:\n",
    "    unsup_markers.append(elem)"
   ]
  },
  {
   "cell_type": "code",
   "execution_count": null,
   "metadata": {},
   "outputs": [],
   "source": [
    "dict_genes = adata2.uns[\"rank_genes_groups\"].copy()\n",
    "df = {}\n",
    "for idx, elem in enumerate(list(dict_genes[\"names\"].dtype.names)):\n",
    "    print(idx, elem)\n",
    "    df[elem+\"_gene\"] = []\n",
    "    df[elem+\"_logfoldchange\"] = []\n",
    "    df[elem+\"_pval_adj\"] = []\n",
    "    for j in range(0, len(adata2.var)):\n",
    "        df[elem+\"_gene\"].append(dict_genes[\"names\"][j][idx])\n",
    "        df[elem+\"_logfoldchange\"].append(dict_genes[\"logfoldchanges\"][j][idx])\n",
    "        df[elem+\"_pval_adj\"].append(dict_genes[\"pvals_adj\"][j][idx])\n",
    "\n",
    "dataframe = pd.DataFrame(df) \n",
    "       \n",
    "for idx, elem in enumerate(list(dict_genes[\"names\"].dtype.names)):\n",
    "    adata2.var[elem+\"_mean\"] = np.mean(adata2[adata2.obs[\"pseudospace\"] == elem,:].layers[\"norm_counts\"], axis=0)\n",
    "    adata2.var[elem+\"_n_cells\"] = np.sum(adata2[adata2.obs[\"pseudospace\"] == elem,:].layers[\"norm_counts\"] > 0, axis=0)\n",
    "    dataframe.index = dataframe[elem+\"_gene\"]\n",
    "    adata2.var[elem+\"_log2FC\"] = dataframe[elem+\"_logfoldchange\"]\n",
    "    adata2.var[elem+\"_pvals_adj\"] = dataframe[elem+\"_pval_adj\"]"
   ]
  },
  {
   "cell_type": "code",
   "execution_count": null,
   "metadata": {},
   "outputs": [],
   "source": [
    "changes = []\n",
    "for j in range(0, len(adata2.var)):\n",
    "    if adata2.var[\"pericentral_log2FC\"][j] > 0.5 and adata2.var[\"pericentral_pvals_adj\"][j] < 0.05:\n",
    "        changes.append(\"up_pericentral\")\n",
    "    elif adata2.var[\"periportal_log2FC\"][j] > 0.5 and adata2.var[\"periportal_pvals_adj\"][j] < 0.05:\n",
    "        changes.append(\"up_periportal\")\n",
    "    else:\n",
    "        changes.append(\"none\")\n",
    "        \n",
    "adata2.var[\"changes_zonation\"] = changes  "
   ]
  },
  {
   "cell_type": "code",
   "execution_count": null,
   "metadata": {},
   "outputs": [],
   "source": [
    "df = pd.DataFrame()\n",
    "df[\"dpt\"] = adata2.obs[\"dpt_pseudotime1\"]\n",
    "\n",
    "for elem in adata2.var_names.tolist():\n",
    "    df[elem] = np.array(adata2[:,elem].X)\n",
    "bins = [0, 0.1, 0.2, 0.3, 0.4, 0.5, 0.6, 0.7, 0.8, 0.9, 1]\n",
    "labels = [0,0.2,0.3,0.4,0.5,0.6,0.7,0.8,0.9,1]\n",
    "df['zones'] = pd.cut(df['dpt'], bins=bins, labels=labels)\n",
    "df2 = df.groupby(df[\"zones\"]).mean() "
   ]
  },
  {
   "cell_type": "code",
   "execution_count": null,
   "metadata": {},
   "outputs": [],
   "source": [
    "del df2[\"dpt\"]\n",
    "df = df2.transpose()"
   ]
  },
  {
   "cell_type": "code",
   "execution_count": null,
   "metadata": {},
   "outputs": [],
   "source": [
    "for x in df.columns:\n",
    "    adata2.var[\"zone\"+str(x)] = df[x]"
   ]
  },
  {
   "cell_type": "code",
   "execution_count": null,
   "metadata": {},
   "outputs": [],
   "source": [
    "plt.rcParams['figure.figsize']=(12,12) #rescale figures\n",
    "sc.pl.paga_path(adata2, nodes=['periportal', 'pericentral'],\n",
    "                #annotations=(\"Ploidy\",), n_avg=1,\n",
    "                #color_maps_annotations={\"Ploidy\":\"binary_r\"},\n",
    "                keys=unsup_markers, normalize_to_zero_one=True)"
   ]
  },
  {
   "cell_type": "markdown",
   "metadata": {},
   "source": [
    "## PAGA for the cell types"
   ]
  },
  {
   "cell_type": "code",
   "execution_count": null,
   "metadata": {},
   "outputs": [],
   "source": [
    "sc.tl.paga(adata, groups=\"cell_type1\")\n",
    "sc.tl.draw_graph(adata)"
   ]
  },
  {
   "cell_type": "code",
   "execution_count": null,
   "metadata": {},
   "outputs": [],
   "source": [
    "plt.rcParams['figure.figsize']=(5,5) #rescale figures\n",
    "sc.pl.paga(adata, color=\"cell_type\")"
   ]
  },
  {
   "cell_type": "code",
   "execution_count": null,
   "metadata": {},
   "outputs": [],
   "source": [
    "plt.rcParams['figure.figsize']=(5,5) #rescale figures\n",
    "sc.pl.draw_graph(adata, color=\"cell_type\")"
   ]
  },
  {
   "cell_type": "code",
   "execution_count": null,
   "metadata": {},
   "outputs": [],
   "source": []
  },
  {
   "cell_type": "code",
   "execution_count": null,
   "metadata": {},
   "outputs": [],
   "source": []
  }
 ],
 "metadata": {
  "kernelspec": {
   "display_name": "test-env",
   "language": "python",
   "name": "test-env"
  },
  "language_info": {
   "codemirror_mode": {
    "name": "ipython",
    "version": 3
   },
   "file_extension": ".py",
   "mimetype": "text/x-python",
   "name": "python",
   "nbconvert_exporter": "python",
   "pygments_lexer": "ipython3",
   "version": "3.7.6"
  }
 },
 "nbformat": 4,
 "nbformat_minor": 4
}
