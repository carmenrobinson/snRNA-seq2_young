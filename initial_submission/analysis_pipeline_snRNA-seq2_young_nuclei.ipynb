{
 "cells": [
  {
   "cell_type": "markdown",
   "metadata": {},
   "source": [
    "## Analysis of snRNA-seq data from young healthy mice"
   ]
  },
  {
   "cell_type": "markdown",
   "metadata": {},
   "source": [
    "### Libraries, figure parameters and custom functions"
   ]
  },
  {
   "cell_type": "code",
   "execution_count": 11,
   "metadata": {},
   "outputs": [],
   "source": [
    "import scanpy as sc\n",
    "import numpy as np\n",
    "import pandas as pd\n",
    "import anndata as ad\n",
    "import seaborn as sns\n",
    "import matplotlib.pyplot as plt\n",
    "from matplotlib import colors\n",
    "from matplotlib import rcParams\n",
    "from gprofiler import gprofiler\n",
    "import os\n",
    "from scipy import stats\n",
    "import custom_functions as cf"
   ]
  },
  {
   "cell_type": "markdown",
   "metadata": {},
   "source": [
    "Set parameters for plots in scanpy"
   ]
  },
  {
   "cell_type": "code",
   "execution_count": 12,
   "metadata": {},
   "outputs": [],
   "source": [
    "sc.settings.set_figure_params(dpi=80)\n",
    "\n",
    "sc.set_figure_params(scanpy=True, dpi=80, dpi_save=250,\n",
    "                     frameon=True, vector_friendly=True,\n",
    "                     color_map=\"YlGnBu\", format='pdf', transparent=False,\n",
    "                     ipython_format='png2x')"
   ]
  },
  {
   "cell_type": "markdown",
   "metadata": {},
   "source": [
    "### Data"
   ]
  },
  {
   "cell_type": "markdown",
   "metadata": {},
   "source": [
    "Load the expression matrix"
   ]
  },
  {
   "cell_type": "code",
   "execution_count": 19,
   "metadata": {},
   "outputs": [],
   "source": [
    "adata = ad.read(\"snRNAseq_mouse_hepatocytes_young_apr21_raw_with_metadata.h5ad\")"
   ]
  },
  {
   "cell_type": "markdown",
   "metadata": {},
   "source": [
    "Manually adding the raw counts of some sparsely expressed marker genes"
   ]
  },
  {
   "cell_type": "code",
   "execution_count": 20,
   "metadata": {},
   "outputs": [
    {
     "ename": "TypeError",
     "evalue": "sparse matrix length is ambiguous; use getnnz() or shape[0]",
     "output_type": "error",
     "traceback": [
      "\u001b[0;31m---------------------------------------------------------------------------\u001b[0m",
      "\u001b[0;31mTypeError\u001b[0m                                 Traceback (most recent call last)",
      "Cell \u001b[0;32mIn[20], line 1\u001b[0m\n\u001b[0;32m----> 1\u001b[0m \u001b[43madata\u001b[49m\u001b[38;5;241;43m.\u001b[39;49m\u001b[43mobs\u001b[49m\u001b[43m[\u001b[49m\u001b[38;5;124;43m\"\u001b[39;49m\u001b[38;5;124;43mKrt14\u001b[39;49m\u001b[38;5;124;43m\"\u001b[39;49m\u001b[43m]\u001b[49m \u001b[38;5;241m=\u001b[39m adata[:,\u001b[38;5;124m\"\u001b[39m\u001b[38;5;124mENSMUSG00000045545\u001b[39m\u001b[38;5;124m\"\u001b[39m]\u001b[38;5;241m.\u001b[39mX\n\u001b[1;32m      2\u001b[0m adata\u001b[38;5;241m.\u001b[39mobs[\u001b[38;5;124m\"\u001b[39m\u001b[38;5;124mKrt19\u001b[39m\u001b[38;5;124m\"\u001b[39m] \u001b[38;5;241m=\u001b[39m adata[:,\u001b[38;5;124m\"\u001b[39m\u001b[38;5;124mENSMUSG00000020911\u001b[39m\u001b[38;5;124m\"\u001b[39m]\u001b[38;5;241m.\u001b[39mX\n\u001b[1;32m      3\u001b[0m adata\u001b[38;5;241m.\u001b[39mobs[\u001b[38;5;124m\"\u001b[39m\u001b[38;5;124mKrt7\u001b[39m\u001b[38;5;124m\"\u001b[39m] \u001b[38;5;241m=\u001b[39m adata[:,\u001b[38;5;124m\"\u001b[39m\u001b[38;5;124mENSMUSG00000023039\u001b[39m\u001b[38;5;124m\"\u001b[39m]\u001b[38;5;241m.\u001b[39mX\n",
      "File \u001b[0;32m~/miniconda3/envs/singlecell/lib/python3.11/site-packages/pandas/core/frame.py:3960\u001b[0m, in \u001b[0;36mDataFrame.__setitem__\u001b[0;34m(self, key, value)\u001b[0m\n\u001b[1;32m   3957\u001b[0m     \u001b[38;5;28mself\u001b[39m\u001b[38;5;241m.\u001b[39m_setitem_array([key], value)\n\u001b[1;32m   3958\u001b[0m \u001b[38;5;28;01melse\u001b[39;00m:\n\u001b[1;32m   3959\u001b[0m     \u001b[38;5;66;03m# set column\u001b[39;00m\n\u001b[0;32m-> 3960\u001b[0m     \u001b[38;5;28;43mself\u001b[39;49m\u001b[38;5;241;43m.\u001b[39;49m\u001b[43m_set_item\u001b[49m\u001b[43m(\u001b[49m\u001b[43mkey\u001b[49m\u001b[43m,\u001b[49m\u001b[43m \u001b[49m\u001b[43mvalue\u001b[49m\u001b[43m)\u001b[49m\n",
      "File \u001b[0;32m~/miniconda3/envs/singlecell/lib/python3.11/site-packages/pandas/core/frame.py:4153\u001b[0m, in \u001b[0;36mDataFrame._set_item\u001b[0;34m(self, key, value)\u001b[0m\n\u001b[1;32m   4143\u001b[0m \u001b[38;5;28;01mdef\u001b[39;00m \u001b[38;5;21m_set_item\u001b[39m(\u001b[38;5;28mself\u001b[39m, key, value) \u001b[38;5;241m-\u001b[39m\u001b[38;5;241m>\u001b[39m \u001b[38;5;28;01mNone\u001b[39;00m:\n\u001b[1;32m   4144\u001b[0m \u001b[38;5;250m    \u001b[39m\u001b[38;5;124;03m\"\"\"\u001b[39;00m\n\u001b[1;32m   4145\u001b[0m \u001b[38;5;124;03m    Add series to DataFrame in specified column.\u001b[39;00m\n\u001b[1;32m   4146\u001b[0m \n\u001b[0;32m   (...)\u001b[0m\n\u001b[1;32m   4151\u001b[0m \u001b[38;5;124;03m    ensure homogeneity.\u001b[39;00m\n\u001b[1;32m   4152\u001b[0m \u001b[38;5;124;03m    \"\"\"\u001b[39;00m\n\u001b[0;32m-> 4153\u001b[0m     value \u001b[38;5;241m=\u001b[39m \u001b[38;5;28;43mself\u001b[39;49m\u001b[38;5;241;43m.\u001b[39;49m\u001b[43m_sanitize_column\u001b[49m\u001b[43m(\u001b[49m\u001b[43mvalue\u001b[49m\u001b[43m)\u001b[49m\n\u001b[1;32m   4155\u001b[0m     \u001b[38;5;28;01mif\u001b[39;00m (\n\u001b[1;32m   4156\u001b[0m         key \u001b[38;5;129;01min\u001b[39;00m \u001b[38;5;28mself\u001b[39m\u001b[38;5;241m.\u001b[39mcolumns\n\u001b[1;32m   4157\u001b[0m         \u001b[38;5;129;01mand\u001b[39;00m value\u001b[38;5;241m.\u001b[39mndim \u001b[38;5;241m==\u001b[39m \u001b[38;5;241m1\u001b[39m\n\u001b[1;32m   4158\u001b[0m         \u001b[38;5;129;01mand\u001b[39;00m \u001b[38;5;129;01mnot\u001b[39;00m is_extension_array_dtype(value)\n\u001b[1;32m   4159\u001b[0m     ):\n\u001b[1;32m   4160\u001b[0m         \u001b[38;5;66;03m# broadcast across multiple columns if necessary\u001b[39;00m\n\u001b[1;32m   4161\u001b[0m         \u001b[38;5;28;01mif\u001b[39;00m \u001b[38;5;129;01mnot\u001b[39;00m \u001b[38;5;28mself\u001b[39m\u001b[38;5;241m.\u001b[39mcolumns\u001b[38;5;241m.\u001b[39mis_unique \u001b[38;5;129;01mor\u001b[39;00m \u001b[38;5;28misinstance\u001b[39m(\u001b[38;5;28mself\u001b[39m\u001b[38;5;241m.\u001b[39mcolumns, MultiIndex):\n",
      "File \u001b[0;32m~/miniconda3/envs/singlecell/lib/python3.11/site-packages/pandas/core/frame.py:4880\u001b[0m, in \u001b[0;36mDataFrame._sanitize_column\u001b[0;34m(self, value)\u001b[0m\n\u001b[1;32m   4877\u001b[0m     \u001b[38;5;28;01mreturn\u001b[39;00m _reindex_for_setitem(Series(value), \u001b[38;5;28mself\u001b[39m\u001b[38;5;241m.\u001b[39mindex)\n\u001b[1;32m   4879\u001b[0m \u001b[38;5;28;01mif\u001b[39;00m is_list_like(value):\n\u001b[0;32m-> 4880\u001b[0m     \u001b[43mcom\u001b[49m\u001b[38;5;241;43m.\u001b[39;49m\u001b[43mrequire_length_match\u001b[49m\u001b[43m(\u001b[49m\u001b[43mvalue\u001b[49m\u001b[43m,\u001b[49m\u001b[43m \u001b[49m\u001b[38;5;28;43mself\u001b[39;49m\u001b[38;5;241;43m.\u001b[39;49m\u001b[43mindex\u001b[49m\u001b[43m)\u001b[49m\n\u001b[1;32m   4881\u001b[0m \u001b[38;5;28;01mreturn\u001b[39;00m sanitize_array(value, \u001b[38;5;28mself\u001b[39m\u001b[38;5;241m.\u001b[39mindex, copy\u001b[38;5;241m=\u001b[39m\u001b[38;5;28;01mTrue\u001b[39;00m, allow_2d\u001b[38;5;241m=\u001b[39m\u001b[38;5;28;01mTrue\u001b[39;00m)\n",
      "File \u001b[0;32m~/miniconda3/envs/singlecell/lib/python3.11/site-packages/pandas/core/common.py:575\u001b[0m, in \u001b[0;36mrequire_length_match\u001b[0;34m(data, index)\u001b[0m\n\u001b[1;32m    571\u001b[0m \u001b[38;5;28;01mdef\u001b[39;00m \u001b[38;5;21mrequire_length_match\u001b[39m(data, index: Index) \u001b[38;5;241m-\u001b[39m\u001b[38;5;241m>\u001b[39m \u001b[38;5;28;01mNone\u001b[39;00m:\n\u001b[1;32m    572\u001b[0m \u001b[38;5;250m    \u001b[39m\u001b[38;5;124;03m\"\"\"\u001b[39;00m\n\u001b[1;32m    573\u001b[0m \u001b[38;5;124;03m    Check the length of data matches the length of the index.\u001b[39;00m\n\u001b[1;32m    574\u001b[0m \u001b[38;5;124;03m    \"\"\"\u001b[39;00m\n\u001b[0;32m--> 575\u001b[0m     \u001b[38;5;28;01mif\u001b[39;00m \u001b[38;5;28mlen\u001b[39m(data) \u001b[38;5;241m!=\u001b[39m \u001b[38;5;28mlen\u001b[39m(index):\n\u001b[1;32m    576\u001b[0m         \u001b[38;5;28;01mraise\u001b[39;00m \u001b[38;5;167;01mValueError\u001b[39;00m(\n\u001b[1;32m    577\u001b[0m             \u001b[38;5;124m\"\u001b[39m\u001b[38;5;124mLength of values \u001b[39m\u001b[38;5;124m\"\u001b[39m\n\u001b[1;32m    578\u001b[0m             \u001b[38;5;124mf\u001b[39m\u001b[38;5;124m\"\u001b[39m\u001b[38;5;124m(\u001b[39m\u001b[38;5;132;01m{\u001b[39;00m\u001b[38;5;28mlen\u001b[39m(data)\u001b[38;5;132;01m}\u001b[39;00m\u001b[38;5;124m) \u001b[39m\u001b[38;5;124m\"\u001b[39m\n\u001b[1;32m    579\u001b[0m             \u001b[38;5;124m\"\u001b[39m\u001b[38;5;124mdoes not match length of index \u001b[39m\u001b[38;5;124m\"\u001b[39m\n\u001b[1;32m    580\u001b[0m             \u001b[38;5;124mf\u001b[39m\u001b[38;5;124m\"\u001b[39m\u001b[38;5;124m(\u001b[39m\u001b[38;5;132;01m{\u001b[39;00m\u001b[38;5;28mlen\u001b[39m(index)\u001b[38;5;132;01m}\u001b[39;00m\u001b[38;5;124m)\u001b[39m\u001b[38;5;124m\"\u001b[39m\n\u001b[1;32m    581\u001b[0m         )\n",
      "File \u001b[0;32m~/miniconda3/envs/singlecell/lib/python3.11/site-packages/scipy/sparse/_base.py:345\u001b[0m, in \u001b[0;36mspmatrix.__len__\u001b[0;34m(self)\u001b[0m\n\u001b[1;32m    344\u001b[0m \u001b[38;5;28;01mdef\u001b[39;00m \u001b[38;5;21m__len__\u001b[39m(\u001b[38;5;28mself\u001b[39m):\n\u001b[0;32m--> 345\u001b[0m     \u001b[38;5;28;01mraise\u001b[39;00m \u001b[38;5;167;01mTypeError\u001b[39;00m(\u001b[38;5;124m\"\u001b[39m\u001b[38;5;124msparse matrix length is ambiguous; use getnnz()\u001b[39m\u001b[38;5;124m\"\u001b[39m\n\u001b[1;32m    346\u001b[0m                     \u001b[38;5;124m\"\u001b[39m\u001b[38;5;124m or shape[0]\u001b[39m\u001b[38;5;124m\"\u001b[39m)\n",
      "\u001b[0;31mTypeError\u001b[0m: sparse matrix length is ambiguous; use getnnz() or shape[0]"
     ]
    }
   ],
   "source": [
    "adata.obs[\"Krt14\"] = adata[:,\"ENSMUSG00000045545\"].X\n",
    "adata.obs[\"Krt19\"] = adata[:,\"ENSMUSG00000020911\"].X\n",
    "adata.obs[\"Krt7\"] = adata[:,\"ENSMUSG00000023039\"].X\n",
    "adata.obs[\"Krt9\"] = adata[:,\"ENSMUSG00000051617\"].X\n",
    "adata.obs[\"Prom1\"] = adata[:,\"ENSMUSG00000029086\"].X\n",
    "adata.obs[\"Dlk1\"] = adata[:,\"ENSMUSG00000040856\"].X\n",
    "adata.obs[\"Erbb2\"] = adata[:,\"ENSMUSG00000062312\"].X\n",
    "adata.obs[\"Mki67\"] = adata[:,\"ENSMUSG00000031004\"].X\n",
    "adata.obs[\"Oct4\"] = adata[:,\"ENSMUSG00000024406\"].X\n",
    "adata.obs[\"Cd34\"] = adata[:,\"ENSMUSG00000016494\"].X\n",
    "adata.obs[\"Tpm2\"] = adata[:,\"ENSMUSG00000028464\"].X\n",
    "adata.obs[\"Ace2\"] = adata[:,\"ENSMUSG00000015405\"].X"
   ]
  },
  {
   "cell_type": "code",
   "execution_count": null,
   "metadata": {},
   "outputs": [],
   "source": [
    "# split ERCC counts into a different object\n",
    "ERCC = []\n",
    "for i in adata.var_names:\n",
    "    if i[0:3] != \"ENS\" and i[0:2] != \"__\":\n",
    "        ERCC.append(i)\n",
    "        \n",
    "adataERCC = adata[:,ERCC].copy()"
   ]
  },
  {
   "cell_type": "code",
   "execution_count": null,
   "metadata": {},
   "outputs": [],
   "source": [
    "# split endogenous transcript counts into a different object\n",
    "transc = []\n",
    "for i in adata.var_names:\n",
    "    if i[0:3] == \"ENS\":\n",
    "        transc.append(i)\n",
    "\n",
    "adataT = adata[:,transc].copy()"
   ]
  },
  {
   "cell_type": "markdown",
   "metadata": {},
   "source": [
    "Removing additional output from htseq-count"
   ]
  },
  {
   "cell_type": "code",
   "execution_count": null,
   "metadata": {},
   "outputs": [],
   "source": [
    "# remove the additional output from htseq-count from the matrix\n",
    "amb = []\n",
    "for i in adata.var_names:\n",
    "    if i[0:2] != \"__\":\n",
    "        amb.append(i)\n",
    "        \n",
    "adata = adata[:,amb].copy()"
   ]
  },
  {
   "cell_type": "code",
   "execution_count": null,
   "metadata": {},
   "outputs": [],
   "source": [
    "adata.obs['n_counts_raw'] = adata.X.sum(axis=1) # endogeneous transcripts + ERCCs\n",
    "adata.obs[\"n_counts_transcripts\"] = np.sum(adataT.X, axis=1) # endogenous transcripts only\n",
    "adata.obs[\"n_counts_ERCC\"] = np.sum(adataERCC.X, axis=1) # ERCCs only\n",
    "adata.obs[\"percentERCC\"] = pd.to_numeric(adata.obs[\"percentERCC\"]) # make percent ERCC column numeric"
   ]
  },
  {
   "cell_type": "markdown",
   "metadata": {},
   "source": [
    "Plotting transcript read counts, intronic read counts, exonic read counts, and ribosobal RNA read counts"
   ]
  },
  {
   "cell_type": "code",
   "execution_count": null,
   "metadata": {},
   "outputs": [],
   "source": [
    "df = pd.DataFrame()\n",
    "df[\"transcripts\"] = adata.obs[\"n_counts_transcripts\"]\n",
    "df[\"introns\"] = adata.obs[\"intron_counts\"]\n",
    "df[\"exons\"] = adata.obs[\"exon_counts\"]\n",
    "df[\"rrna\"] = adata.obs[\"rrna\"]"
   ]
  },
  {
   "cell_type": "code",
   "execution_count": null,
   "metadata": {},
   "outputs": [],
   "source": [
    "t = np.mean(df[\"transcripts\"])\n",
    "i = np.mean(df[\"introns\"])\n",
    "e = np.mean(df[\"exons\"])\n",
    "r = np.mean(df[\"rrna\"])"
   ]
  },
  {
   "cell_type": "code",
   "execution_count": null,
   "metadata": {},
   "outputs": [],
   "source": [
    "x = np.arange(4)\n",
    "variable = [t, i , e, r]\n",
    "\n",
    "fig, ax = plt.subplots()\n",
    "plt.bar(x, variable)\n",
    "plt.xticks(x, ('transcripts', 'introns', 'exons', 'rRNA'))\n",
    "ax.set_xticklabels(ax.get_xticklabels(), rotation=45, horizontalalignment='right')\n",
    "plt.show()"
   ]
  },
  {
   "cell_type": "code",
   "execution_count": null,
   "metadata": {},
   "outputs": [],
   "source": [
    "np.mean(df[\"introns\"])/np.mean(df[\"transcripts\"])"
   ]
  },
  {
   "cell_type": "code",
   "execution_count": null,
   "metadata": {},
   "outputs": [],
   "source": [
    "np.mean(df[\"exons\"])/np.mean(df[\"transcripts\"])"
   ]
  },
  {
   "cell_type": "code",
   "execution_count": null,
   "metadata": {},
   "outputs": [],
   "source": [
    "np.mean(df[\"rrna\"])/np.mean(df[\"transcripts\"])"
   ]
  },
  {
   "cell_type": "markdown",
   "metadata": {},
   "source": [
    "### Cutoff visualization"
   ]
  },
  {
   "cell_type": "code",
   "execution_count": null,
   "metadata": {},
   "outputs": [],
   "source": [
    "# visualize cutoffs for filtering cells based on their percentage of ERCC reads\n",
    "p = plt.hist(adata.obs[\"percentERCC\"], bins=100, color='c', edgecolor='k', alpha=0.65)\n",
    "plt.axvline(0.9, color='k', linestyle='dashed', linewidth=1)\n",
    "plt.axvline(0.05, color='k', linestyle='dashed', linewidth=1)"
   ]
  },
  {
   "cell_type": "code",
   "execution_count": null,
   "metadata": {},
   "outputs": [],
   "source": [
    "# remove cells that have no genes expressed in order to better visualize the cutoffs\n",
    "sc.pp.filter_cells(adata, min_genes=1)\n",
    "sc.pp.filter_cells(adata, min_counts=1)"
   ]
  },
  {
   "cell_type": "code",
   "execution_count": null,
   "metadata": {},
   "outputs": [],
   "source": [
    "# visualize lower cutoff for filtering cells based on the number of genes\n",
    "p = plt.hist(adata.obs[\"n_genes\"], bins=100, color='c', edgecolor='k', alpha=0.65)\n",
    "plt.axvline(1000, color='k', linestyle='dashed', linewidth=1)"
   ]
  },
  {
   "cell_type": "code",
   "execution_count": null,
   "metadata": {},
   "outputs": [],
   "source": [
    "adata"
   ]
  },
  {
   "cell_type": "markdown",
   "metadata": {},
   "source": [
    "### Filtering"
   ]
  },
  {
   "cell_type": "markdown",
   "metadata": {},
   "source": [
    "Keeping nuclei with 5-90% ERCC reads and a minimum of 1000 genes expressed  \n",
    "Keeping genes that are present in at least 25 cells with at least 250 overall reads across cells"
   ]
  },
  {
   "cell_type": "code",
   "execution_count": null,
   "metadata": {},
   "outputs": [],
   "source": [
    "adata_new = adata[adata.obs[\"percentERCC\"] <= 0.9,:].copy()\n",
    "adata_new = adata_new[adata_new.obs[\"percentERCC\"] > 0.05,:].copy()\n",
    "\n",
    "sc.pp.filter_cells(adata_new, min_genes=1000) \n",
    "sc.pp.filter_genes(adata_new, min_cells=25) # roughly 1% of the population\n",
    "sc.pp.filter_genes(adata_new, min_counts=250)"
   ]
  },
  {
   "cell_type": "code",
   "execution_count": null,
   "metadata": {},
   "outputs": [],
   "source": [
    "adata_new"
   ]
  },
  {
   "cell_type": "code",
   "execution_count": null,
   "metadata": {},
   "outputs": [],
   "source": [
    "## further filtering: \n",
    "adata2 = adata_new.copy()\n",
    "\n",
    "# remove cells with 2x2n and - ploidy (doublets and empty wells from FACS failure)\n",
    "adata2 = adata2[adata2.obs['Ploidy'] != '2-2n', :]\n",
    "adata2 = adata2[adata2.obs['Ploidy'] != '-', :]\n",
    "\n",
    "# remove cells with more than 7000 genes covered\n",
    "adata2 = adata2[adata2.obs['n_genes'] < 7000, :]\n",
    "\n",
    "# remove cells with less than 10,000 transcript counts\n",
    "adata2 = adata2[adata2.obs['n_counts_transcripts'] > 10000, :]\n",
    "# remove cells with more than 300,000 transcript counts\n",
    "adata2 = adata2[adata2.obs['n_counts_transcripts'] < 300000, :]"
   ]
  },
  {
   "cell_type": "code",
   "execution_count": null,
   "metadata": {},
   "outputs": [],
   "source": [
    "adata2"
   ]
  },
  {
   "cell_type": "code",
   "execution_count": null,
   "metadata": {},
   "outputs": [],
   "source": [
    "p = plt.hist(adata2.obs[\"n_counts_transcripts\"], bins=100, color='c', edgecolor='k', alpha=0.65)"
   ]
  },
  {
   "cell_type": "code",
   "execution_count": null,
   "metadata": {},
   "outputs": [],
   "source": [
    "sc.pl.violin(adata2, ['n_genes', 'n_counts_raw', 'percentERCC', \"n_counts_ERCC\", \"n_counts_transcripts\"], jitter=0.4, multi_panel=True)"
   ]
  },
  {
   "cell_type": "code",
   "execution_count": null,
   "metadata": {},
   "outputs": [],
   "source": [
    "sc.pl.violin(adata2, \"n_genes\", groupby=\"Ploidy\")"
   ]
  },
  {
   "cell_type": "code",
   "execution_count": null,
   "metadata": {},
   "outputs": [],
   "source": [
    "np.median(adata2[adata2.obs[\"Ploidy\"]==\"4n\"].obs[\"n_genes\"])/np.median(adata2[adata2.obs[\"Ploidy\"]==\"2n\"].obs[\"n_genes\"])"
   ]
  },
  {
   "cell_type": "code",
   "execution_count": null,
   "metadata": {},
   "outputs": [],
   "source": [
    "# number of genes per cell for comarison to other methods\n",
    "df = pd.DataFrame()\n",
    "df[\"n_genes\"] = adata2.obs[\"n_genes\"]\n",
    "df[\"dataset\"] = \"snRNAseq2\"\n",
    "df.to_csv(\"/home/maria/data/polyploid_hepatocytes/comparing_ds/our_data_filtered_20200513.csv\")"
   ]
  },
  {
   "cell_type": "markdown",
   "metadata": {},
   "source": [
    "### ERCC size factor calculation"
   ]
  },
  {
   "cell_type": "code",
   "execution_count": null,
   "metadata": {},
   "outputs": [],
   "source": [
    "ERCC = []\n",
    "for i in adata2.var_names:\n",
    "    if i[0:3] != \"ENS\" and i[0:2] != \"__\":\n",
    "        ERCC.append(i)"
   ]
  },
  {
   "cell_type": "code",
   "execution_count": null,
   "metadata": {},
   "outputs": [],
   "source": [
    "# separate the matrix into the 2 dilutions and calculate the ERCC size factor separately \n",
    "adataHD = adata2[adata2.obs[\"ERCC.dilution\"] == \"1 in 300.000\",:].copy()\n",
    "adataLD = adata2[adata2.obs[\"ERCC.dilution\"] == \"1 in 100.000\",:].copy()\n",
    "adataHD.obs[\"ERCC_size_factor\"] = np.sum(adataHD[:,ERCC].X, axis=1)/np.mean(np.sum(adataHD[:,ERCC].X, axis=1))\n",
    "adataLD.obs[\"ERCC_size_factor\"] = np.sum(adataLD[:,ERCC].X, axis=1)/np.mean(np.sum(adataLD[:,ERCC].X, axis=1))"
   ]
  },
  {
   "cell_type": "code",
   "execution_count": null,
   "metadata": {},
   "outputs": [],
   "source": [
    "adata2 = ad.AnnData.concatenate(adataLD, adataHD)\n",
    "new_names = adataLD.obs_names.append(adataHD.obs_names)\n",
    "adata2.obs_names= new_names"
   ]
  },
  {
   "cell_type": "markdown",
   "metadata": {},
   "source": [
    "### Finally remove ERCC reads from the matrix"
   ]
  },
  {
   "cell_type": "code",
   "execution_count": null,
   "metadata": {},
   "outputs": [],
   "source": [
    "red_trans = []\n",
    "for i in adata2.var_names:\n",
    "    if i[0:3] == \"ENS\":\n",
    "        red_trans.append(i) # endogeneous transcripts\n",
    "        \n",
    "adata2 = adata2[:,red_trans].copy()        "
   ]
  },
  {
   "cell_type": "markdown",
   "metadata": {},
   "source": [
    "Store raw counts as a layer"
   ]
  },
  {
   "cell_type": "code",
   "execution_count": null,
   "metadata": {},
   "outputs": [],
   "source": [
    "adata2.layers[\"counts\"] = adata2.X.copy()"
   ]
  },
  {
   "cell_type": "markdown",
   "metadata": {},
   "source": [
    "### Gene length and size factor normalization"
   ]
  },
  {
   "cell_type": "code",
   "execution_count": null,
   "metadata": {},
   "outputs": [],
   "source": [
    "# divide each column by transcript length (per 1kb)\n",
    "for j in range(0, len(adata2.var)):\n",
    "    adata2.X[:,j] = adata2.X[:,j]/(adata2.var[\"length\"][j]/1000) \n",
    "\n",
    "adata2.obs['n_counts_TPM'] = adata2.X.sum(axis=1)\n",
    "\n",
    "# sum the gene length-corrected counts per cell and divide by 10,000 times the ERCC size factor\n",
    "adata2.obs['RPK_factor'] = adata2.obs['n_counts_TPM']/(adata2.obs['ERCC_size_factor']*10000)\n",
    "\n",
    "# divide each row by the size factor\n",
    "for i in range(0,len(adata2)):\n",
    "     adata2.X[i,:] = adata2.X[i,:]/adata2.obs[\"RPK_factor\"][i]\n",
    "adata2.obs['n_counts_TPM_norm'] = adata2.X.sum(axis=1)"
   ]
  },
  {
   "cell_type": "code",
   "execution_count": null,
   "metadata": {},
   "outputs": [],
   "source": [
    "# plotting the normalized counts per cell\n",
    "p = plt.hist(adata2.obs[\"n_counts_TPM_norm\"], bins=100, color='c', edgecolor='k', alpha=0.65)"
   ]
  },
  {
   "cell_type": "markdown",
   "metadata": {},
   "source": [
    "Store normalized counts as layer"
   ]
  },
  {
   "cell_type": "code",
   "execution_count": null,
   "metadata": {},
   "outputs": [],
   "source": [
    "adata2.layers[\"norm_counts\"] = adata2.X.copy()"
   ]
  },
  {
   "cell_type": "code",
   "execution_count": null,
   "metadata": {},
   "outputs": [],
   "source": [
    "sc.pl.violin(adata2, ['n_genes', 'n_counts_TPM'], jitter=.4, multi_panel=True)"
   ]
  },
  {
   "cell_type": "markdown",
   "metadata": {},
   "source": [
    "Additional filtering: removing cells with high gene length-corrected counts"
   ]
  },
  {
   "cell_type": "code",
   "execution_count": null,
   "metadata": {},
   "outputs": [],
   "source": [
    "adata2 = adata2[adata2.obs[\"n_counts_TPM\"] <= 50000,:].copy()"
   ]
  },
  {
   "cell_type": "code",
   "execution_count": null,
   "metadata": {},
   "outputs": [],
   "source": [
    "# remove the technical replicates\n",
    "adata2 = adata2[adata2.obs[\"exp.\"] != \"SNI-234(R2)\",:].copy()\n",
    "adata2 = adata2[adata2.obs[\"exp.\"] != \"SNI-235(R2)\",:].copy()"
   ]
  },
  {
   "cell_type": "code",
   "execution_count": null,
   "metadata": {},
   "outputs": [],
   "source": [
    "# mean and median transcript count after filtering and normalization\n",
    "adata2.obs[\"mean_transcript_count_TPM\"] = np.mean(adata2.X, axis=1)\n",
    "adata2.var[\"mean_exp_TPM\"] = np.mean(adata2.X, axis=0)\n",
    "adata2.var[\"median_exp_TPM\"] = np.median(adata2.X, axis=0)"
   ]
  },
  {
   "cell_type": "code",
   "execution_count": null,
   "metadata": {},
   "outputs": [],
   "source": [
    "adata2"
   ]
  },
  {
   "cell_type": "markdown",
   "metadata": {},
   "source": [
    "Logarithmize"
   ]
  },
  {
   "cell_type": "code",
   "execution_count": null,
   "metadata": {},
   "outputs": [],
   "source": [
    "sc.pp.log1p(adata2)"
   ]
  },
  {
   "cell_type": "markdown",
   "metadata": {},
   "source": [
    "Store logarithmized data as adata.raw and as additional layer"
   ]
  },
  {
   "cell_type": "code",
   "execution_count": null,
   "metadata": {},
   "outputs": [],
   "source": [
    "adata2.raw = adata2\n",
    "adata2.layers[\"raw\"] = adata2.X"
   ]
  },
  {
   "cell_type": "markdown",
   "metadata": {},
   "source": [
    "Store binary expression as additional layer"
   ]
  },
  {
   "cell_type": "code",
   "execution_count": null,
   "metadata": {},
   "outputs": [],
   "source": [
    "adata3 = adata2.copy()\n",
    "adata3.X[adata3.X != 0] = 1\n",
    "adata2.layers[\"raw_bin\"] = adata3.X"
   ]
  },
  {
   "cell_type": "markdown",
   "metadata": {},
   "source": [
    "### Correcting batch effect using combat"
   ]
  },
  {
   "cell_type": "code",
   "execution_count": null,
   "metadata": {},
   "outputs": [],
   "source": [
    "sc.pp.combat(adata2, key=\"exp.\")"
   ]
  },
  {
   "cell_type": "markdown",
   "metadata": {},
   "source": [
    "### Visualisation"
   ]
  },
  {
   "cell_type": "code",
   "execution_count": null,
   "metadata": {},
   "outputs": [],
   "source": [
    "sc.pp.pca(adata2)\n",
    "sc.pp.neighbors(adata2)\n",
    "sc.tl.umap(adata2)"
   ]
  },
  {
   "cell_type": "code",
   "execution_count": null,
   "metadata": {},
   "outputs": [],
   "source": [
    "# PCA\n",
    "sc.pl.pca_scatter(adata2, color=[\"Ploidy\",\"n_genes\", \"ERCC.dilution\", \"exp.\"], wspace=0.4)"
   ]
  },
  {
   "cell_type": "code",
   "execution_count": null,
   "metadata": {},
   "outputs": [],
   "source": [
    "# t-SNE\n",
    "sc.tl.tsne(adata2, perplexity=30, n_pcs=15)\n",
    "sc.pl.tsne(adata2, color=[ \"Ploidy\", \"n_genes\", \"ERCC.dilution\", \"exp.\"], wspace=0.4)"
   ]
  },
  {
   "cell_type": "code",
   "execution_count": null,
   "metadata": {},
   "outputs": [],
   "source": [
    "adata2"
   ]
  },
  {
   "cell_type": "markdown",
   "metadata": {},
   "source": [
    "### Save adata for downstream analysis"
   ]
  },
  {
   "cell_type": "code",
   "execution_count": null,
   "metadata": {},
   "outputs": [],
   "source": [
    "adata2.write('/home/maria/data/polyploid_hepatocytes/matrices/snRNAseq_mouse_hepatocytes_young_cells_filtered_TPM_may20.h5ad')"
   ]
  },
  {
   "cell_type": "code",
   "execution_count": null,
   "metadata": {},
   "outputs": [],
   "source": [
    "adata = ad.read('/home/maria/data/polyploid_hepatocytes/matrices/snRNAseq_mouse_hepatocytes_young_cells_filtered_TPM_may20.h5ad')"
   ]
  },
  {
   "cell_type": "markdown",
   "metadata": {},
   "source": [
    "### Cell type identification"
   ]
  },
  {
   "cell_type": "code",
   "execution_count": null,
   "metadata": {},
   "outputs": [],
   "source": [
    "adata"
   ]
  },
  {
   "cell_type": "code",
   "execution_count": null,
   "metadata": {},
   "outputs": [],
   "source": [
    "annot = []\n",
    "for n in adata.obs['louvainr02']:\n",
    "    if n == '0':\n",
    "        annot.append('0')\n",
    "    elif n == '1':\n",
    "        annot.append('1')\n",
    "adata.obs['low_res_ct'] = annot\n",
    "del annot"
   ]
  },
  {
   "cell_type": "code",
   "execution_count": null,
   "metadata": {},
   "outputs": [],
   "source": [
    "sc.pl.tsne(adata, color=[\"Ploidy\",\"low_res_ct\"])"
   ]
  },
  {
   "cell_type": "markdown",
   "metadata": {},
   "source": [
    "Label 4n cells that are in the non-parenchymal cluster"
   ]
  },
  {
   "cell_type": "code",
   "execution_count": null,
   "metadata": {},
   "outputs": [],
   "source": [
    "missorted = []\n",
    "for i in range(0, len(adata)):\n",
    "    if adata.obs[\"low_res_ct\"][i] == \"0\" and adata.obs[\"Ploidy\"][i] == \"2n\":    \n",
    "        missorted.append(\"2n_hepatocytes\")\n",
    "    elif adata.obs[\"low_res_ct\"][i] == \"0\" and adata.obs[\"Ploidy\"][i] == \"4n\":    \n",
    "        missorted.append(\"4n_hepatocytes\")\n",
    "    elif adata.obs[\"low_res_ct\"][i] == \"1\" and adata.obs[\"Ploidy\"][i] == \"2n\": \n",
    "        missorted.append(\"2n_other_cluster\")\n",
    "    elif adata.obs[\"low_res_ct\"][i] == \"1\" and adata.obs[\"Ploidy\"][i] == \"4n\": \n",
    "        missorted.append(\"4n_other_cluster\")\n",
    "    else:\n",
    "        missorted.append(\"2-2n\")\n",
    "adata.obs[\"clusters\"] = missorted"
   ]
  },
  {
   "cell_type": "code",
   "execution_count": null,
   "metadata": {},
   "outputs": [],
   "source": [
    "sc.pl.tsne(adata, color=['Ploidy', 'clusters'])"
   ]
  },
  {
   "cell_type": "markdown",
   "metadata": {},
   "source": [
    "Check if missorted cells come from a specific plate"
   ]
  },
  {
   "cell_type": "code",
   "execution_count": null,
   "metadata": {},
   "outputs": [],
   "source": [
    "cf.cell_compo_table(adata, \"clusters\", \"exp.\")"
   ]
  },
  {
   "cell_type": "markdown",
   "metadata": {},
   "source": [
    "### Marker gene expression for cell type annotation"
   ]
  },
  {
   "cell_type": "code",
   "execution_count": null,
   "metadata": {},
   "outputs": [],
   "source": [
    "marker_names_all = []\n",
    "cell_type_list = []\n",
    "with open(\"../cell_type_markers_curated.csv\") as f:\n",
    "    head = f.readline()\n",
    "    for line in f:\n",
    "        line = line.split(\"\\t\")\n",
    "        marker_names_all.append(line[0])\n",
    "        cell_type_list.append(line[1])      \n",
    "cell_type_dict = {}\n",
    "for name in list(set(cell_type_list)):\n",
    "    cell_type_dict[name] = []\n",
    "for i in range(0, len(cell_type_list)):\n",
    "    cell_type_dict[cell_type_list[i]].append(marker_names_all[i])\n",
    "gene_name_dict = {}\n",
    "for i in range(0, len(adata.var)):\n",
    "    gene_name_dict[adata.var[\"gene_name\"][i]] = adata.var_names[i]\n",
    "cell_type_id_dict = {}\n",
    "for name in list(set(cell_type_list)):\n",
    "    cell_type_id_dict[name] = []\n",
    "cell_type_name_dict = {}\n",
    "for name in list(set(cell_type_list)):\n",
    "    cell_type_name_dict[name] = []\n",
    "for name in list(set(cell_type_list)):\n",
    "    item = cell_type_dict[name]\n",
    "    for elem in item:\n",
    "        if elem in gene_name_dict.keys():\n",
    "            cell_type_id_dict[name].append(gene_name_dict[elem])\n",
    "            cell_type_name_dict[name].append(elem) "
   ]
  },
  {
   "cell_type": "code",
   "execution_count": null,
   "metadata": {},
   "outputs": [],
   "source": [
    "# Endothelial cells\n",
    "endothelial_id = cell_type_id_dict[\"Endothelial cell\"]\n",
    "endothelial_name = cell_type_name_dict[\"Endothelial cell\"]\n",
    "sc.pl.tsne(adata, color=endothelial_id, title=endothelial_name, use_raw=True)"
   ]
  },
  {
   "cell_type": "code",
   "execution_count": null,
   "metadata": {},
   "outputs": [],
   "source": [
    "# Cholangiocytes\n",
    "cholangiocyte_id = cell_type_id_dict['Cholangiocyte']\n",
    "cholangiocyte_name = cell_type_name_dict['Cholangiocyte']\n",
    "sc.pl.tsne(adata, color=cholangiocyte_id, title=cholangiocyte_name, use_raw=True)"
   ]
  },
  {
   "cell_type": "code",
   "execution_count": null,
   "metadata": {},
   "outputs": [],
   "source": [
    "# Hepatoblasts\n",
    "hepatoblast_id = cell_type_id_dict['Hepatoblast']\n",
    "hepatoblast_name = cell_type_name_dict['Hepatoblast']\n",
    "sc.pl.tsne(adata, color=hepatoblast_id, title=hepatoblast_name, use_raw=True)"
   ]
  },
  {
   "cell_type": "code",
   "execution_count": null,
   "metadata": {},
   "outputs": [],
   "source": [
    "# Kupffer cells\n",
    "kupffer_id = cell_type_id_dict['Kupffer cell']\n",
    "kupffer_name = cell_type_name_dict['Kupffer cell']\n",
    "sc.pl.tsne(adata, color=kupffer_id, title=kupffer_name, use_raw=True)"
   ]
  },
  {
   "cell_type": "code",
   "execution_count": null,
   "metadata": {},
   "outputs": [],
   "source": [
    "# Dendritic cells\n",
    "dendritic_id = cell_type_id_dict['Dendritic cell']\n",
    "dendritic_name = cell_type_name_dict['Dendritic cell']\n",
    "sc.pl.tsne(adata, color=dendritic_id, title=dendritic_name, use_raw=True)"
   ]
  },
  {
   "cell_type": "code",
   "execution_count": null,
   "metadata": {},
   "outputs": [],
   "source": [
    "# Neutrophils\n",
    "neutrophil_id = cell_type_id_dict['Neutrophil']\n",
    "neutrophil_name = cell_type_name_dict['Neutrophil']\n",
    "sc.pl.tsne(adata, color=neutrophil_id, title=neutrophil_name, use_raw=True)"
   ]
  },
  {
   "cell_type": "code",
   "execution_count": null,
   "metadata": {},
   "outputs": [],
   "source": [
    "# Lymphocytes\n",
    "lymph_id = cell_type_id_dict[\"Lymphocyte\"]\n",
    "lymph_name = cell_type_name_dict[\"Lymphocyte\"]\n",
    "sc.pl.tsne(adata, color=lymph_id, title=lymph_name, use_raw=False)"
   ]
  },
  {
   "cell_type": "code",
   "execution_count": null,
   "metadata": {},
   "outputs": [],
   "source": [
    "# Hepatocytes\n",
    "hepatocyte_id = cell_type_id_dict['Hepatocyte']\n",
    "hepatocyte_name = cell_type_name_dict['Hepatocyte']\n",
    "sc.pl.tsne(adata, color=hepatocyte_id, title=hepatocyte_name, use_raw=True)"
   ]
  },
  {
   "cell_type": "code",
   "execution_count": null,
   "metadata": {},
   "outputs": [],
   "source": [
    "marker_names_all = []\n",
    "cell_type_list = []\n",
    "with open(\"../cell_type_markers_curated.csv\") as f:\n",
    "    head = f.readline()\n",
    "    for line in f:\n",
    "        line = line.split(\"\\t\")\n",
    "        marker_names_all.append(line[0])\n",
    "        cell_type_list.append(line[2][:-1])      \n",
    "cell_type_dict = {}\n",
    "for name in list(set(cell_type_list)):\n",
    "    cell_type_dict[name] = []\n",
    "for i in range(0, len(cell_type_list)):\n",
    "    cell_type_dict[cell_type_list[i]].append(marker_names_all[i])\n",
    "gene_name_dict = {}\n",
    "for i in range(0, len(adata.var)):\n",
    "    gene_name_dict[adata.var[\"gene_name\"][i]] = adata.var_names[i]\n",
    "cell_type_id_dict = {}\n",
    "for name in list(set(cell_type_list)):\n",
    "    cell_type_id_dict[name] = []\n",
    "cell_type_name_dict = {}\n",
    "for name in list(set(cell_type_list)):\n",
    "    cell_type_name_dict[name] = []\n",
    "for name in list(set(cell_type_list)):\n",
    "    item = cell_type_dict[name]\n",
    "    for elem in item:\n",
    "        if elem in gene_name_dict.keys():\n",
    "            cell_type_id_dict[name].append(gene_name_dict[elem])\n",
    "            cell_type_name_dict[name].append(elem) "
   ]
  },
  {
   "cell_type": "code",
   "execution_count": null,
   "metadata": {},
   "outputs": [],
   "source": [
    "# high resolution clustering for the non-parenchymal cells\n",
    "sc.tl.louvain(adata, resolution=1.2, key_added='louvainr02_12', restrict_to=['louvainr02', ['1']])\n",
    "\n",
    "sc.pl.pca(adata, wspace=0.4, color=[\"louvainr02_12\", \"Ploidy\",\"exp.\"])\n",
    "sc.pl.tsne(adata, wspace=0.4, color=[\"louvainr02_12\", \"Ploidy\",\"exp.\"])"
   ]
  },
  {
   "cell_type": "markdown",
   "metadata": {},
   "source": [
    "Get the top 500 DE genes per louvain cluster and check their overlap with known markers to confirm annotation"
   ]
  },
  {
   "cell_type": "code",
   "execution_count": null,
   "metadata": {},
   "outputs": [],
   "source": [
    "sc.tl.rank_genes_groups(adata, groupby=\"louvainr02_12\", n_genes=500)"
   ]
  },
  {
   "cell_type": "code",
   "execution_count": null,
   "metadata": {},
   "outputs": [],
   "source": [
    "df = sc.tl.marker_gene_overlap(adata, reference_markers=cell_type_id_dict)"
   ]
  },
  {
   "cell_type": "code",
   "execution_count": null,
   "metadata": {},
   "outputs": [],
   "source": [
    "df"
   ]
  },
  {
   "cell_type": "code",
   "execution_count": null,
   "metadata": {},
   "outputs": [],
   "source": [
    "sns.heatmap(df, cmap=sns.cubehelix_palette(69, start=.5, rot=-.75))"
   ]
  },
  {
   "cell_type": "markdown",
   "metadata": {},
   "source": [
    "How the louvain clusters are annotated:  \n",
    "- it is clear that cluster 0 are hepatocytes  \n",
    "- 1,0 has markers for both, endothelial cells and lymphocytes but the overlap with endothelial cells is higher  \n",
    "- 1,1 has the highest overlap with lymphocyte markers  \n",
    "- 1,2 also has the highest overlap with lymphocyte markers\n",
    "- 1,3 are clearly endothelial cells  \n",
    "- 1,4 are Kupffer and dendritic cells (both macrophages)\n",
    "- 1,5 has a lot of hepatocyte markers but only half as many as the hepatocyte cluster and also markers for other cell types, suggesting this cluster might not be as finally differentiated as true hepatocytes, so they are labelled hepatobiliary cells\n",
    "- 1,6 has lymphocyte and hepatocyte markers but is split from the hepatocytes even at low resolution, so they're labelled lymphoytes"
   ]
  },
  {
   "cell_type": "code",
   "execution_count": null,
   "metadata": {},
   "outputs": [],
   "source": [
    "annot = []\n",
    "for i in range(0, len(adata)):\n",
    "    if adata.obs[\"louvainr02_12\"][i] in [\"0\"] and adata.obs[\"Ploidy\"][i] == \"2n\":\n",
    "        annot.append(\"2n Hepatocytes\")\n",
    "    elif adata.obs[\"louvainr02_12\"][i] in [\"0\"] and adata.obs[\"Ploidy\"][i] == \"4n\":\n",
    "        annot.append(\"4n Hepatocytes\")   \n",
    "    elif adata.obs[\"louvainr02_12\"][i] in [\"1,5\"]:\n",
    "        annot.append(\"Hepatobiliary cells\")\n",
    "    elif adata.obs[\"louvainr02_12\"][i] == \"1,2\":\n",
    "        annot.append(\"Lymphocytes\")\n",
    "    elif adata.obs[\"louvainr02_12\"][i] == \"1,1\":\n",
    "        annot.append(\"Lymphocytes\")\n",
    "    elif adata.obs[\"louvainr02_12\"][i] == \"1,6\":\n",
    "        annot.append(\"Lymphocytes\")  \n",
    "    elif adata.obs[\"louvainr02_12\"][i] == \"1,0\":\n",
    "        annot.append(\"Endothelial cells\")\n",
    "    elif adata.obs[\"louvainr02_12\"][i] == \"1,3\":\n",
    "        annot.append(\"Endothelial cells\")   \n",
    "    elif adata.obs[\"louvainr02_12\"][i] == \"1,4\":\n",
    "        annot.append(\"Kupffer cells and dendritic cells\")\n",
    "    elif adata.obs[\"louvainr02_12\"][i] == \"1,6\":\n",
    "        annot.append(\"Lymphocytes\")        \n",
    "adata.obs[\"cell_type\"] = annot"
   ]
  },
  {
   "cell_type": "code",
   "execution_count": null,
   "metadata": {},
   "outputs": [],
   "source": [
    "sc.pl.tsne(adata, color=\"cell_type\")"
   ]
  },
  {
   "cell_type": "code",
   "execution_count": null,
   "metadata": {},
   "outputs": [],
   "source": [
    "sc.pl.stacked_violin(adata, gene_symbols=\"gene_name\", groupby=\"cell_type\", swap_axes=True, var_names=cell_type_name_dict, save=\"_markers_cell_type_20200515.pdf\")"
   ]
  },
  {
   "cell_type": "markdown",
   "metadata": {},
   "source": [
    "Combine the hepatocytes and change the order"
   ]
  },
  {
   "cell_type": "code",
   "execution_count": null,
   "metadata": {},
   "outputs": [],
   "source": [
    "annot = []\n",
    "for elem in adata.obs[\"cell_type\"]:\n",
    "    if elem in [\"2n Hepatocytes\", \"4n Hepatocytes\"]:\n",
    "        annot.append(\"Hepatocytes\")\n",
    "    else:\n",
    "        annot.append(elem)\n",
    "adata.obs[\"cell_type1\"] = annot  "
   ]
  },
  {
   "cell_type": "code",
   "execution_count": null,
   "metadata": {},
   "outputs": [],
   "source": [
    "annot = []\n",
    "for elem in adata.obs[\"cell_type1\"]:\n",
    "    if elem == \"Hepatocytes\":\n",
    "        annot.append(\"01 Hepatocytes\")\n",
    "    elif elem == \"Hepatobiliary cells\":\n",
    "        annot.append(\"02 Hepatobiliary cells\")\n",
    "    elif elem == \"Endothelial cells\":\n",
    "        annot.append(\"03 Endothelial cells\")\n",
    "    elif elem == \"Kupffer cells and dendritic cells\":\n",
    "        annot.append(\"04 Kupffer cells and dendritic cells\")\n",
    "    elif elem == \"Lymphocytes\":\n",
    "        annot.append(\"05 Lymphocytes\")\n",
    "adata.obs[\"cell_type2\"] = annot       "
   ]
  },
  {
   "cell_type": "markdown",
   "metadata": {},
   "source": [
    "Color the clusters nicely"
   ]
  },
  {
   "cell_type": "code",
   "execution_count": null,
   "metadata": {},
   "outputs": [],
   "source": [
    "adata.uns[\"low_res_ct_colors\"] = [\"#686868\", \"#a9a9a9\"]"
   ]
  },
  {
   "cell_type": "code",
   "execution_count": null,
   "metadata": {},
   "outputs": [],
   "source": [
    "adata.uns[\"cell_type_colors\"] = [\"#1f77b4\", \"#ff7f0e\", '#bcc2f6', '#251024', '#0b8686', \"#ab0dd0\"]"
   ]
  },
  {
   "cell_type": "code",
   "execution_count": null,
   "metadata": {},
   "outputs": [],
   "source": [
    "sc.pl.tsne(adata, color=\"cell_type\")"
   ]
  },
  {
   "cell_type": "code",
   "execution_count": null,
   "metadata": {},
   "outputs": [],
   "source": [
    "adata.uns[\"cell_type2_colors\"] = [\"#9b0f2b\", \"#251024\", \"#bcc2f6\", \"#006c84\", \"#9d18af\"]"
   ]
  },
  {
   "cell_type": "code",
   "execution_count": null,
   "metadata": {},
   "outputs": [],
   "source": [
    "sc.pl.tsne(adata, color=[\"Ploidy\", \"low_res_ct\", \"cell_type2\"])"
   ]
  },
  {
   "cell_type": "code",
   "execution_count": null,
   "metadata": {},
   "outputs": [],
   "source": [
    "adata.uns[\"louvainr02_12_colors\"] = [\"#686868\", \"#b5bd61\", \"#660066\", \"#d62728\", \"#00ccff\", \"#0b8686\", \n",
    "                                    \"#e377c2\", \"#FFCC00\"]"
   ]
  },
  {
   "cell_type": "code",
   "execution_count": null,
   "metadata": {},
   "outputs": [],
   "source": [
    "sc.pl.tsne(adata, color=[\"Ploidy\", \"low_res_ct\", \"louvainr02_12\", \"cell_type2\"])"
   ]
  },
  {
   "cell_type": "markdown",
   "metadata": {},
   "source": [
    "Save the annoatated adata"
   ]
  },
  {
   "cell_type": "code",
   "execution_count": null,
   "metadata": {},
   "outputs": [],
   "source": [
    "adata.write('/home/maria/data/polyploid_hepatocytes/matrices/snRNAseq_mouse_hepatocytes_young_cells_filtered_TPM_may20_annotated.h5ad')"
   ]
  },
  {
   "cell_type": "code",
   "execution_count": null,
   "metadata": {},
   "outputs": [],
   "source": [
    "adata = ad.read('/home/maria/data/polyploid_hepatocytes/matrices/snRNAseq_mouse_hepatocytes_young_cells_filtered_TPM_may20_annotated.h5ad')"
   ]
  },
  {
   "cell_type": "code",
   "execution_count": null,
   "metadata": {},
   "outputs": [],
   "source": [
    "# plotting the markers nicely\n",
    "\n",
    "tiny_marker_dict = {\"Hepatocytes\":[\"Cyp27a1\",\"Ppara\"],\n",
    "                    \"Hepatobiliary cells\":[\"Sspn\",\"Rplp2\"],\n",
    "                    \"Endothelial cells\":[\"Dnase1l3\",\"Egfl7\"],\n",
    "                    \"Kupffer and dentritic cells\":[\"Clec4f\",\"Cd5l\"],\n",
    "                    \"Lymphocytes\":[\"Bcl2\",\"Lck\"]}\n",
    "\n",
    "small_marker_dict = {\"Hepatocytes\":[\"Cyp27a1\",\"Ppara\",\"Pck1\"],\n",
    "                    \"Hepatobiliary cells\":[\"Lgr5\",\"Id3\",\"Fgg\"],\n",
    "                    \"Endothelial cells\":[\"Dnase1l3\",\"Ptprb\",\"Stab2\"],\n",
    "                    \"Kupffer and dentritic cells\":[\"Clec4f\",\"Slc40a1\",\"Cd5l\"],\n",
    "                    \"Lymphocytes\":[\"Bcl2\",\"Syk\",\"Lck\"]}\n",
    "\n",
    "bigger_marker_dict = {\"Hepatocytes\":[\"Cyp27a1\",\"Ppara\",\"Pck1\",\"Cyp2d26\",\"Cps1\",\n",
    "                                    \"Ces3a\",\"Cyp3a25\",\"Neat1\",\"Abcc2\"],\n",
    "                    \"Hepatobiliary cells\":[\"Lgr5\",\"Id3\",\"Hnf1b\",\"Glul\",\"Gas1\",\n",
    "                                          \"Filip1l\",\"Sspn\",\"Trf\",\"Rplp2\"],\n",
    "                    \"Endothelial cells\":[\"Dnase1l3\",\"Ptprb\",\"Stab2\",\"Egfl7\",\"Ehd3\",\n",
    "                                        \"Clec4g\",\"Fcgr2b\",\"Calcrl\",\"Plekhg1\"],\n",
    "                    \"Kupffer and dentritic cells\":[\"Clec4f\",\"Slc40a1\",\"Cd5l\",\"Ctsb\",\"H2-Aa\",\n",
    "                                                  \"Dmpk\",\"Slc9a9\",\"Zeb2\",\"Slc8a1\"],\n",
    "                    \"Lymphocytes\":[\"Bcl2\",\"Syk\",\"Lck\",\"Edem1\",\"Bcl11b\",\n",
    "                                  \"Usp14\",\"Lix1\",\"Nras\",\"Cdc7\"]}\n",
    "\n",
    "sc.pl.stacked_violin(adata, gene_symbols=\"gene_name\", groupby=\"cell_type2\", var_names=tiny_marker_dict, \n",
    "                     standard_scale=\"var\")"
   ]
  },
  {
   "cell_type": "code",
   "execution_count": null,
   "metadata": {},
   "outputs": [],
   "source": [
    "markers = [item for sublist in bigger_marker_dict.values() for item in sublist]"
   ]
  },
  {
   "cell_type": "code",
   "execution_count": null,
   "metadata": {},
   "outputs": [],
   "source": [
    "sc.pl.tsne(adata, color=markers, gene_symbols=\"gene_name\")"
   ]
  },
  {
   "cell_type": "markdown",
   "metadata": {},
   "source": [
    "#### For the heatmap in R"
   ]
  },
  {
   "cell_type": "markdown",
   "metadata": {},
   "source": [
    "For better visualisation, remove rRNA genes"
   ]
  },
  {
   "cell_type": "code",
   "execution_count": null,
   "metadata": {},
   "outputs": [],
   "source": [
    "adatar = ad.read(\"adata_rRNA.h5ad\")\n",
    "rrna = []\n",
    "for elem in adata.var_names.tolist():\n",
    "    if elem in adatar.var_names.tolist():\n",
    "        rrna.append(\"yes\")\n",
    "    else:\n",
    "        rrna.append(\"no\")\n",
    "adata.var[\"rrna\"] = rrna"
   ]
  },
  {
   "cell_type": "code",
   "execution_count": null,
   "metadata": {},
   "outputs": [],
   "source": [
    "adatam = adata[:,adata.var[\"rrna\"] == \"no\"]"
   ]
  },
  {
   "cell_type": "markdown",
   "metadata": {},
   "source": [
    "Subsample cells"
   ]
  },
  {
   "cell_type": "code",
   "execution_count": null,
   "metadata": {},
   "outputs": [],
   "source": [
    "adata1 = adatam[adatam.obs[\"cell_type1\"] == \"Hepatocytes\",:].copy()\n",
    "sc.pp.subsample(adata1, n_obs=40, random_state=1)\n",
    "adata2 = adatam[adatam.obs[\"cell_type1\"] == \"Hepatobiliary cells\",:].copy()\n",
    "sc.pp.subsample(adata2, n_obs=40, random_state=1)\n",
    "adata3 = adatam[adatam.obs[\"cell_type1\"] == \"Endothelial cells\",:].copy()\n",
    "sc.pp.subsample(adata3, n_obs=40, random_state=1)\n",
    "adata4 = adatam[adatam.obs[\"cell_type1\"] == \"Kupffer cells and dendritic cells\",:].copy()\n",
    "sc.pp.subsample(adata4, n_obs=40, random_state=1)\n",
    "adata5 = adatam[adatam.obs[\"cell_type1\"] == \"Lymphocytes\",:].copy()\n",
    "sc.pp.subsample(adata5, n_obs=40, random_state=1)"
   ]
  },
  {
   "cell_type": "code",
   "execution_count": null,
   "metadata": {},
   "outputs": [],
   "source": [
    "adataS = adata1.concatenate(adata2, adata3, adata4, adata5)"
   ]
  },
  {
   "cell_type": "code",
   "execution_count": null,
   "metadata": {},
   "outputs": [],
   "source": [
    "sc.tl.rank_genes_groups(adataS, groupby=\"cell_type2\", n_genes=20, layer=\"raw\", use_raw=False)"
   ]
  },
  {
   "cell_type": "code",
   "execution_count": null,
   "metadata": {},
   "outputs": [],
   "source": [
    "unsup_markers = []\n",
    "for elem in list(adataS.uns[\"rank_genes_groups\"][\"names\"]['01 Hepatocytes'])[0:12]:\n",
    "    unsup_markers.append(elem)\n",
    "for elem in list(adataS.uns[\"rank_genes_groups\"][\"names\"]['02 Hepatobiliary cells'])[0:12]:\n",
    "    unsup_markers.append(elem)\n",
    "for elem in list(adataS.uns[\"rank_genes_groups\"][\"names\"]['03 Endothelial cells'])[0:12]:\n",
    "    unsup_markers.append(elem)\n",
    "for elem in list(adataS.uns[\"rank_genes_groups\"][\"names\"]['04 Kupffer cells and dendritic cells'])[0:12]:\n",
    "    unsup_markers.append(elem)\n",
    "for elem in list(adataS.uns[\"rank_genes_groups\"][\"names\"]['05 Lymphocytes'])[0:12]:\n",
    "    unsup_markers.append(elem)    "
   ]
  },
  {
   "cell_type": "code",
   "execution_count": null,
   "metadata": {},
   "outputs": [],
   "source": [
    "sc.pl.heatmap(adataS, groupby=\"cell_type2\", var_names=unsup_markers, standard_scale=\"var\")"
   ]
  },
  {
   "cell_type": "markdown",
   "metadata": {},
   "source": [
    "To have ploidy as additional annotation, we do the heatmap in R"
   ]
  },
  {
   "cell_type": "code",
   "execution_count": null,
   "metadata": {},
   "outputs": [],
   "source": [
    "adatax = adataS[:,unsup_markers]"
   ]
  },
  {
   "cell_type": "code",
   "execution_count": null,
   "metadata": {},
   "outputs": [],
   "source": [
    "np.savetxt(\"/home/maria/data/polyploid_hepatocytes/cell_type_markers_mat_new.txt\", adatax.layers[\"raw\"], delimiter=\"\\t\", fmt='%.8f')\n",
    "adatax.write_csvs(\"/home/maria/data/polyploid_hepatocytes/metadata/cnvs/cell_type_markers_new/\")"
   ]
  },
  {
   "cell_type": "code",
   "execution_count": null,
   "metadata": {},
   "outputs": [],
   "source": [
    "sc.pl.matrixplot(adata, gene_symbols=\"gene_name\", groupby=\"cell_type2\", \n",
    "                 var_names=bigger_marker_dict, use_raw=False, standard_scale=\"var\")   "
   ]
  },
  {
   "cell_type": "code",
   "execution_count": null,
   "metadata": {},
   "outputs": [],
   "source": [
    "sc.pl.correlation_matrix(adata, groupby=\"cell_type\", save=\"_cell_types_20200529.pdf\")"
   ]
  },
  {
   "cell_type": "markdown",
   "metadata": {},
   "source": [
    "### Cell cycle analysis"
   ]
  },
  {
   "cell_type": "code",
   "execution_count": null,
   "metadata": {},
   "outputs": [],
   "source": [
    "import rpy2.rinterface\n",
    "import logging\n",
    "\n",
    "from rpy2.robjects import pandas2ri\n",
    "import anndata2ri\n",
    "%load_ext rpy2.ipython\n",
    "anndata2ri.activate()"
   ]
  },
  {
   "cell_type": "code",
   "execution_count": null,
   "metadata": {},
   "outputs": [],
   "source": [
    "data_mat = adata.X.T\n",
    "gnames = adata.var_names.tolist()\n",
    "cnames = adata.obs_names.tolist()"
   ]
  },
  {
   "cell_type": "code",
   "execution_count": null,
   "metadata": {},
   "outputs": [],
   "source": [
    "%%R -i data_mat -i gnames -i cnames -o phases -o scores\n",
    "\n",
    "library(scran)\n",
    "# cell cycle analysis using cyclone\n",
    "# should be easy because it's implemented in scran\n",
    "mm.pairs <- readRDS(system.file(\"exdata\", \"mouse_cycle_markers.rds\", package=\"scran\"))\n",
    "\n",
    "rownames(data_mat) <- gnames\n",
    "colnames(data_mat) <- cnames\n",
    "\n",
    "score_list <- cyclone(data_mat, mm.pairs, gene.names=rownames(data_mat), iter=1000, min.iter=100, min.pairs=50,  BPPARAM=bpparam(), verbose=FALSE)\n",
    "\n",
    "phases <- score_list$phases\n",
    "scores <- score_list$scores"
   ]
  },
  {
   "cell_type": "code",
   "execution_count": null,
   "metadata": {},
   "outputs": [],
   "source": [
    "adata.obs[\"cyclone_phases\"] = phases\n",
    "adata.obs[\"score_G1\"] = scores[\"G1\"].tolist()\n",
    "adata.obs[\"score_S\"] = scores[\"S\"].tolist()\n",
    "adata.obs[\"score_G2M\"] = scores[\"G2M\"].tolist()"
   ]
  },
  {
   "cell_type": "code",
   "execution_count": null,
   "metadata": {},
   "outputs": [],
   "source": [
    "adata.uns[\"cyclone_phases_colors\"] = ['#505050', '#bc086b', '#0af9ea']"
   ]
  },
  {
   "cell_type": "code",
   "execution_count": null,
   "metadata": {},
   "outputs": [],
   "source": [
    "sc.pl.tsne(adata, color=[\"cyclone_phases\",\"Ploidy\", \"score_S\", \"score_G1\", \"score_G2M\"])"
   ]
  },
  {
   "cell_type": "code",
   "execution_count": null,
   "metadata": {},
   "outputs": [],
   "source": [
    "sc.pl.tsne(adata, color=[\"cyclone_phases\",\"Ploidy\", \"score_G1\"], wspace=0.3, save=\"_Figure2_B_20200515.pdf\")"
   ]
  },
  {
   "cell_type": "code",
   "execution_count": null,
   "metadata": {},
   "outputs": [],
   "source": [
    "cf.cell_compo_table(adata,\"clusters\", \"cyclone_phases\")"
   ]
  },
  {
   "cell_type": "code",
   "execution_count": null,
   "metadata": {},
   "outputs": [],
   "source": [
    "cf.cell_compo_table(adata,\"cell_type\", \"cyclone_phases\")"
   ]
  },
  {
   "cell_type": "code",
   "execution_count": null,
   "metadata": {},
   "outputs": [],
   "source": [
    "# Data\n",
    "df = cf.cell_compo_table(adata,\"cyclone_phases\", \"clusters\")\n",
    "r = np.arange(5)\n",
    " \n",
    "# From raw value to percentage\n",
    "totals = [i+j+k for i,j,k in zip(df['G1'], df['G2M'], df['S'])]\n",
    "\n",
    "G1 = [i / j * 100 for i,j in zip(df['G1'], totals)]\n",
    "G2M = [i / j * 100 for i,j in zip(df['G2M'], totals)]\n",
    "S = [i / j * 100 for i,j in zip(df['S'], totals)]\n",
    "\n",
    "# plot\n",
    "barWidth = 0.85\n",
    "names = ('2n_hep', '2n_other', \"4n_hep\", \"4n_other\")\n",
    "\n",
    "# Create bars\n",
    "plt.bar(r, G1, width=barWidth, label=\"G1\", color=(\"#505050\"))\n",
    "plt.bar(r, G2M, bottom=G1, width=barWidth, label=\"G2M\", color=(\"#bc086b\"))\n",
    "plt.bar(r, S, bottom=[i+j for i,j in zip(G1, G2M)], width=barWidth, label=\"S\", color=(\"#0af9ea\"))\n",
    "\n",
    "\n",
    "    \n",
    "# Custom x axis\n",
    "plt.xticks(r, names)\n",
    "#plt.xlabel(\"group\")\n",
    "plt.xticks(rotation=90)\n",
    "plt.legend(loc='upper left', bbox_to_anchor=(1,1), ncol=1)\n",
    "\n",
    "# Show graphic\n",
    "#plt.show()\n",
    "plt.savefig(\"barplot_cell_cycle_20200518.pdf\")"
   ]
  },
  {
   "cell_type": "markdown",
   "metadata": {},
   "source": [
    "### Differential expression between cell types"
   ]
  },
  {
   "cell_type": "code",
   "execution_count": null,
   "metadata": {},
   "outputs": [],
   "source": [
    "sc.tl.rank_genes_groups(adata, groupby=\"cell_type1\", n_genes=19258, method=\"t-test\")"
   ]
  },
  {
   "cell_type": "code",
   "execution_count": null,
   "metadata": {},
   "outputs": [],
   "source": [
    "dict_genes = adata.uns[\"rank_genes_groups\"].copy()"
   ]
  },
  {
   "cell_type": "code",
   "execution_count": null,
   "metadata": {},
   "outputs": [],
   "source": [
    "df = {}\n",
    "for idx, elem in enumerate(list(dict_genes[\"names\"].dtype.names)):\n",
    "    print(idx, elem)\n",
    "    df[elem+\"_gene\"] = []\n",
    "    df[elem+\"_logfoldchange\"] = []\n",
    "    df[elem+\"_pval_adj\"] = []\n",
    "    for j in range(0, len(adata.var)):\n",
    "        df[elem+\"_gene\"].append(dict_genes[\"names\"][j][idx])\n",
    "        df[elem+\"_logfoldchange\"].append(dict_genes[\"logfoldchanges\"][j][idx])\n",
    "        df[elem+\"_pval_adj\"].append(dict_genes[\"pvals_adj\"][j][idx])\n",
    "\n",
    "dataframe = pd.DataFrame(df)        \n",
    "for idx, elem in enumerate(list(dict_genes[\"names\"].dtype.names)):\n",
    "    adata.var[elem+\"_mean\"] = np.mean(adata[adata.obs[\"cell_type1\"] == elem,:].layers[\"norm_counts\"], axis=0)\n",
    "    adata.var[elem+\"_n_cells\"] = np.sum(adata[adata.obs[\"cell_type1\"] == elem,:].layers[\"norm_counts\"] > 0, axis=0)\n",
    "    dataframe.index = dataframe[elem+\"_gene\"]\n",
    "    adata.var[elem+\"_log2FC\"] = dataframe[elem+\"_logfoldchange\"]\n",
    "    adata.var[elem+\"_pvals_adj\"] = dataframe[elem+\"_pval_adj\"]"
   ]
  },
  {
   "cell_type": "code",
   "execution_count": null,
   "metadata": {},
   "outputs": [],
   "source": [
    "adata.var"
   ]
  },
  {
   "cell_type": "markdown",
   "metadata": {},
   "source": [
    "### Differential expression between 2n and 4n hepatocytes"
   ]
  },
  {
   "cell_type": "code",
   "execution_count": null,
   "metadata": {},
   "outputs": [],
   "source": [
    "adata1 = adata[adata.obs[\"cell_type1\"] == \"Hepatocytes\",:].copy()"
   ]
  },
  {
   "cell_type": "code",
   "execution_count": null,
   "metadata": {},
   "outputs": [],
   "source": [
    "sc.tl.rank_genes_groups(adata1, groupby=\"cell_type\", n_genes=19258, method=\"t-test\")"
   ]
  },
  {
   "cell_type": "code",
   "execution_count": null,
   "metadata": {},
   "outputs": [],
   "source": [
    "dict_genes = adata1.uns[\"rank_genes_groups\"].copy()"
   ]
  },
  {
   "cell_type": "code",
   "execution_count": null,
   "metadata": {},
   "outputs": [],
   "source": [
    "df = {}\n",
    "for idx, elem in enumerate(list(dict_genes[\"names\"].dtype.names)):\n",
    "    print(idx, elem)\n",
    "    df[elem+\"_gene\"] = []\n",
    "    df[elem+\"_logfoldchange\"] = []\n",
    "    df[elem+\"_pval_adj\"] = []\n",
    "    for j in range(0, len(adata.var)):\n",
    "        df[elem+\"_gene\"].append(dict_genes[\"names\"][j][idx])\n",
    "        df[elem+\"_logfoldchange\"].append(dict_genes[\"logfoldchanges\"][j][idx])\n",
    "        df[elem+\"_pval_adj\"].append(dict_genes[\"pvals_adj\"][j][idx])\n",
    "\n",
    "dataframe = pd.DataFrame(df)        \n",
    "for idx, elem in enumerate(list(dict_genes[\"names\"].dtype.names)):\n",
    "    adata.var[elem+\"_mean\"] = np.mean(adata[adata.obs[\"cell_type\"] == elem,:].layers[\"norm_counts\"], axis=0)\n",
    "    #adata.var[elem+\"_sum\"] = np.sum(adata[adata.obs[\"cell_type\"] == elem,:].layers[\"norm_counts\"], axis=0)\n",
    "    adata.var[elem+\"_n_cells\"] = np.sum(adata[adata.obs[\"cell_type\"] == elem,:].layers[\"norm_counts\"] > 0, axis=0)\n",
    "    dataframe.index = dataframe[elem+\"_gene\"]\n",
    "    adata.var[elem+\"_log2FC\"] = dataframe[elem+\"_logfoldchange\"]\n",
    "    adata.var[elem+\"_pvals_adj\"] = dataframe[elem+\"_pval_adj\"]"
   ]
  },
  {
   "cell_type": "code",
   "execution_count": null,
   "metadata": {},
   "outputs": [],
   "source": [
    "adata.var"
   ]
  },
  {
   "cell_type": "code",
   "execution_count": null,
   "metadata": {},
   "outputs": [],
   "source": [
    "changes = []\n",
    "for j in range(0, len(adata.var)):\n",
    "    if adata.var[\"2n Hepatocytes_log2FC\"][j] > 0.5 and adata.var[\"2n Hepatocytes_pvals_adj\"][j] < 0.05:\n",
    "        changes.append(\"up_2n\")\n",
    "    elif adata.var[\"4n Hepatocytes_log2FC\"][j] > 0.5 and adata.var[\"4n Hepatocytes_pvals_adj\"][j] < 0.05:\n",
    "        changes.append(\"up_4n\")\n",
    "    else:\n",
    "        changes.append(\"none\")\n",
    "        \n",
    "adata.var[\"changes_hep\"] = changes        "
   ]
  },
  {
   "cell_type": "code",
   "execution_count": null,
   "metadata": {},
   "outputs": [],
   "source": [
    "adata.var.to_csv(\"gene_expression_cell_types_and_ploidy_20200522_filter25.csv\")"
   ]
  },
  {
   "cell_type": "markdown",
   "metadata": {},
   "source": [
    "#### Write DE genes per cell type to file"
   ]
  },
  {
   "cell_type": "code",
   "execution_count": null,
   "metadata": {},
   "outputs": [],
   "source": [
    "DE_dict = {}\n",
    "for elem in list(set(adata.obs[\"cell_type\"])): # to get the hepatocytes together, re-run with \"cell_type1\"\n",
    "    DE_dict[elem+\"_up\"] = 0\n",
    "    DE_dict[elem+\"_down\"] = 0\n",
    "    outfile_up = open(\"differential_expression/up_\"+elem, \"w\")\n",
    "    outfile_down = open(\"differential_expression/down_\"+elem, \"w\")\n",
    "    for j in range(0,len(adata.var)):\n",
    "        if adata.var[elem+\"_log2FC\"][j] > 0.5 and adata.var[elem+\"_pvals_adj\"][j] < 0.05:\n",
    "            DE_dict[elem+\"_up\"] += 1\n",
    "            outfile_up.write(adata.var_names[j])\n",
    "            outfile_up.write(\"\\n\")\n",
    "        elif adata.var[elem+\"_log2FC\"][j] < -0.5 and adata.var[elem+\"_pvals_adj\"][j] < 0.05:\n",
    "            DE_dict[elem+\"_down\"] += 1\n",
    "            outfile_down.write(adata.var_names[j])\n",
    "            outfile_down.write(\"\\n\")\n",
    "    outfile_up.close()\n",
    "    outfile_down.close()"
   ]
  },
  {
   "cell_type": "markdown",
   "metadata": {},
   "source": [
    "### Plotting DE genes between 2n and 4n hepatocytes"
   ]
  },
  {
   "cell_type": "code",
   "execution_count": null,
   "metadata": {},
   "outputs": [],
   "source": [
    "cols = []\n",
    "for elem in adata.var[\"changes_hep\"]:\n",
    "    if elem == \"up_2n\":\n",
    "        cols.append(\"#1f77b4\")\n",
    "    elif elem == \"up_4n\":\n",
    "        cols.append(\"#ff7f0e\")\n",
    "    else:\n",
    "        cols.append(\"0.75\")"
   ]
  },
  {
   "cell_type": "code",
   "execution_count": null,
   "metadata": {},
   "outputs": [],
   "source": [
    "fig = plt.scatter(y=-np.log10(adata.var[\"2n Hepatocytes_pvals_adj\"]), x=adata.var[\"2n Hepatocytes_log2FC\"],\n",
    "                  c=cols,alpha=0.5)\n",
    "#plt.savefig(\"volcano_DE_4n_2n_20200515.pdf\")"
   ]
  },
  {
   "cell_type": "markdown",
   "metadata": {},
   "source": [
    "Get the number of genes per ploidy condition"
   ]
  },
  {
   "cell_type": "code",
   "execution_count": null,
   "metadata": {},
   "outputs": [],
   "source": [
    "genes2n = pd.DataFrame()\n",
    "genes4n = pd.DataFrame()\n",
    "adata2n = adata[adata.obs[\"cell_type\"] == \"2n Hepatocytes\"].copy()\n",
    "adata4n = adata[adata.obs[\"cell_type\"] == \"4n Hepatocytes\"].copy()\n",
    "\n",
    "genes2n[\"n_genes_2n\"] = adata2n.obs[\"n_genes\"]\n",
    "genes4n[\"n_genes_4n\"] = adata4n.obs[\"n_genes\"]"
   ]
  },
  {
   "cell_type": "markdown",
   "metadata": {},
   "source": [
    "Small dataframe with means and number of cells in which a gene is expressed"
   ]
  },
  {
   "cell_type": "code",
   "execution_count": null,
   "metadata": {},
   "outputs": [],
   "source": [
    "df = pd.DataFrame()\n",
    "df[\"mean_2n\"] = adata.var[\"2n Hepatocytes_mean\"]\n",
    "df[\"mean_4n\"] = adata.var[\"4n Hepatocytes_mean\"]\n",
    "df[\"cells_2n\"] = adata.var[\"2n Hepatocytes_n_cells\"]\n",
    "df[\"cells_4n\"] = adata.var[\"4n Hepatocytes_n_cells\"]\n",
    "df[\"changes\"] = adata.var[\"changes_hep\"]\n",
    "df.index = adata.var.index"
   ]
  },
  {
   "cell_type": "markdown",
   "metadata": {},
   "source": [
    "Removing genes with low or high mean for visualisation purposes"
   ]
  },
  {
   "cell_type": "code",
   "execution_count": null,
   "metadata": {},
   "outputs": [],
   "source": [
    "df1 = df[df[\"mean_2n\"] > 0.1]\n",
    "df1 = df1[df1[\"mean_2n\"] < 100]\n",
    "df2 = df1[df1[\"mean_4n\"] > 0.1]\n",
    "df2 = df2[df2[\"mean_2n\"] < 100]"
   ]
  },
  {
   "cell_type": "code",
   "execution_count": null,
   "metadata": {},
   "outputs": [],
   "source": [
    "up2n = df[df[\"changes\"] == \"up_2n\"]"
   ]
  },
  {
   "cell_type": "code",
   "execution_count": null,
   "metadata": {},
   "outputs": [],
   "source": [
    "up4n = df[df[\"changes\"] == \"up_4n\"]"
   ]
  },
  {
   "cell_type": "markdown",
   "metadata": {},
   "source": [
    "#### Plotting mean 4n vs mean 2n, highlighting DE genes and including number of cells in which DE genes are expressed"
   ]
  },
  {
   "cell_type": "code",
   "execution_count": null,
   "metadata": {},
   "outputs": [],
   "source": [
    "from scipy.stats import gaussian_kde\n",
    "\n",
    "# colors for scatter plot\n",
    "cols = []\n",
    "for elem in df2[\"changes\"]:\n",
    "    if elem == \"up_2n\":\n",
    "        cols.append(\"#1f77b4\")\n",
    "    elif elem == \"up_4n\":\n",
    "        cols.append(\"#ff7f0e\")\n",
    "    else:\n",
    "        cols.append(\"0.85\")\n",
    "\n",
    "# definitions for the axes\n",
    "left, width = 0.1, 0.65\n",
    "bottom, height = 0.1, 0.65\n",
    "spacing = 0.02\n",
    "\n",
    "\n",
    "rect_scatter = [left, bottom, width, height]\n",
    "rect_histx = [left, bottom + height + spacing, width, 0.2]\n",
    "rect_histy = [left + width + spacing, bottom, 0.22, height]\n",
    "\n",
    "\n",
    "# start with a rectangular Figure\n",
    "plt.figure(figsize=(8, 8))\n",
    "\n",
    "ax_scatter = plt.axes(rect_scatter)\n",
    "#plt.xscale(\"log\")\n",
    "#plt.yscale(\"log\")\n",
    "#ident = [0.0, 1000]\n",
    "#plt.plot(ident,ident, color=\"k\")\n",
    "ax_scatter.tick_params(direction='in', top=True, right=True)\n",
    "ax_histx = plt.axes(rect_histx)\n",
    "ax_histx.tick_params(direction='in', labelbottom=False)\n",
    "ax_x = plt.axvline(up2n[\"cells_2n\"].mean(), color='k', linestyle='dashed', linewidth=1.5)\n",
    "ax_histy = plt.axes(rect_histy)\n",
    "ax_histy.tick_params(direction='in', labelleft=False)\n",
    "ax_y = plt.axhline(up4n[\"cells_4n\"].mean(), color='k', linestyle='dashed', linewidth=1.5)\n",
    "\n",
    "\n",
    "# the scatter plot:\n",
    "ax_scatter.scatter(x=df2[\"cells_2n\"], y=df2[\"cells_4n\"], c=cols, alpha=0.5)\n",
    "\n",
    "# now determine nice limits by hand:\n",
    "binwidth = 10\n",
    "lim = np.ceil(np.abs([df2[\"cells_2n\"], df2[\"cells_4n\"]]).max() / binwidth) * binwidth\n",
    "ax_scatter.set_xlim((0, lim))\n",
    "ax_scatter.set_ylim((0, lim))\n",
    "\n",
    "bins = np.arange(0, lim + binwidth, binwidth)\n",
    "dist_space = np.linspace(0, lim, 1000)\n",
    "\n",
    "# using gaussian_kde to get a density plot instead of histogram\n",
    "density2n = gaussian_kde(up2n[\"cells_2n\"])\n",
    "density4n = gaussian_kde(up4n[\"cells_4n\"], bw_method=.1)\n",
    "\n",
    "\n",
    "ax_histx.plot(dist_space, density2n(dist_space), c=\"#1f77b4\")\n",
    "ax_x\n",
    "ax_histy.plot(density4n(dist_space), dist_space, c=\"#ff7f0e\")\n",
    "ax_y\n",
    "\n",
    "\n",
    "#ax_histx.hist(up2n[\"cells_2n\"], bins=bins, histtype=\"stepfilled\", density=True)\n",
    "#ax_histy.hist(up4n[\"cells_4n\"], bins=bins, orientation='horizontal', histtype=\"stepfilled\", density=True)\n",
    "\n",
    "ax_histx.set_xlim(ax_scatter.get_xlim())\n",
    "ax_histy.set_ylim(ax_scatter.get_ylim())\n",
    "ax_histy.set_xlim(ax_histx.get_ylim())\n",
    "ax_histy.set_xticks(ticks=[0.000,0.002,0.004,0.006])\n",
    "ax_histy.set_xticklabels(labels=[0.000,None,None,0.006])\n",
    "\n",
    "\n",
    "#plt.savefig(\"scatter_density_Figure3_D_ncells_for_DE_genes_removed_nonDE_in_scatter_20200529.pdf\", bbox_inches = \"tight\")"
   ]
  },
  {
   "cell_type": "code",
   "execution_count": null,
   "metadata": {},
   "outputs": [],
   "source": [
    "adata1[adata1.obs[\"Ploidy\"] == \"2n\"]"
   ]
  },
  {
   "cell_type": "code",
   "execution_count": null,
   "metadata": {},
   "outputs": [],
   "source": [
    "adata1[adata1.obs[\"Ploidy\"] == \"4n\"]"
   ]
  },
  {
   "cell_type": "markdown",
   "metadata": {},
   "source": [
    "How many 2n nuclei express the genes that are upregulated in 4n?"
   ]
  },
  {
   "cell_type": "code",
   "execution_count": null,
   "metadata": {},
   "outputs": [],
   "source": [
    "np.mean(up4n[\"cells_2n\"])/320"
   ]
  },
  {
   "cell_type": "markdown",
   "metadata": {},
   "source": [
    "How many 4n nuclei express the genes that are upregulated in 2n?"
   ]
  },
  {
   "cell_type": "code",
   "execution_count": null,
   "metadata": {},
   "outputs": [],
   "source": [
    "np.mean(up2n[\"cells_4n\"])/741"
   ]
  },
  {
   "cell_type": "markdown",
   "metadata": {},
   "source": [
    "### Gene set enrichment of up-regulated genes per cell type"
   ]
  },
  {
   "cell_type": "code",
   "execution_count": null,
   "metadata": {},
   "outputs": [],
   "source": [
    "from gprofiler import gprofiler"
   ]
  },
  {
   "cell_type": "markdown",
   "metadata": {},
   "source": [
    "Here is one example:"
   ]
  },
  {
   "cell_type": "code",
   "execution_count": null,
   "metadata": {},
   "outputs": [],
   "source": [
    "plt.rcParams['figure.figsize']=(10,8) #rescale figures\n",
    "genes = []\n",
    "with open(\"differential_expression/up_4n Hepatocytes\") as f:\n",
    "    head = f.readline()\n",
    "    for line in f:\n",
    "        genes.append(line[:-1])\n",
    "    \n",
    "#Interpretation of differentially expressed genes in paneth cells - g:profiler\n",
    "gp = gprofiler(genes, organism='mmusculus')\n",
    "gp = gp[gp[\"domain\"] == \"BP\"]\n",
    "\n",
    "gp_enrichment = gp.sort_values('p.value').iloc[:,[2,3,5,6,11]]\n",
    "gp_enrichment['name']= gp_enrichment['term.name'].copy()\n",
    "gp_enrichment['p_value']= gp_enrichment['p.value'].copy()\n",
    "gp_enrichment['intersection_size']= gp_enrichment['overlap.size'].copy()\n",
    "del gp_enrichment['term.name'], gp_enrichment['overlap.size'], gp_enrichment['p.value']\n",
    "cf.plot_enrich(gp_enrichment)#, save='GO_4n_vs_2n_true_DE_20200515.pdf')"
   ]
  },
  {
   "cell_type": "markdown",
   "metadata": {},
   "source": [
    "### Coefficient of variation"
   ]
  },
  {
   "cell_type": "markdown",
   "metadata": {},
   "source": [
    "Change figure parameters back to normal"
   ]
  },
  {
   "cell_type": "code",
   "execution_count": null,
   "metadata": {},
   "outputs": [],
   "source": [
    "sc.settings.set_figure_params(dpi=80)\n",
    "\n",
    "sc.set_figure_params(scanpy=True, dpi=80, dpi_save=250,\n",
    "                     frameon=True, vector_friendly=True,\n",
    "                     color_map=\"YlGnBu\", format='pdf', transparent=False,\n",
    "                     ipython_format='png2x')"
   ]
  },
  {
   "cell_type": "code",
   "execution_count": null,
   "metadata": {},
   "outputs": [],
   "source": [
    "adata1 = adata.copy()"
   ]
  },
  {
   "cell_type": "code",
   "execution_count": null,
   "metadata": {},
   "outputs": [],
   "source": [
    "adata1.var[\"mean_norm_counts\"] = np.mean(adata1.layers[\"raw\"], axis=0)\n",
    "adata1.var[\"mean_norm_counts_log\"] = np.mean(adata1.X, axis=0)"
   ]
  },
  {
   "cell_type": "code",
   "execution_count": null,
   "metadata": {},
   "outputs": [],
   "source": [
    "# remove genes with low mean expression\n",
    "adata1 = adata1[:,adata1.var[\"mean_norm_counts\"] > 0.25].copy()"
   ]
  },
  {
   "cell_type": "code",
   "execution_count": null,
   "metadata": {},
   "outputs": [],
   "source": [
    "df = pd.DataFrame()\n",
    "df2 = pd.DataFrame()\n",
    "for elem in ['Hepatocytes', 'Kupffer cells and dendritic cells', 'Endothelial cells',\n",
    "             'Hepatobiliary cells', 'Lymphocytes']:\n",
    "    adata1.var[\"mean_\"+elem] = np.mean(adata1[adata1.obs[\"cell_type1\"] == elem,:].layers[\"norm_counts\"], axis=0)\n",
    "    adata1.var[\"CV_\"+elem] = np.sqrt(np.exp(np.std(adata1[adata1.obs[\"cell_type1\"] == elem,:].X, axis=0)**2)-1)\n",
    "    df[\"CV_\"+elem] = np.sqrt(np.exp(np.std(adata1[adata1.obs[\"cell_type1\"] == elem,:].X, axis=0)**2)-1)\n",
    "    df2[\"mean_\"+elem] = np.mean(adata1[adata1.obs[\"cell_type1\"] == elem,:].layers[\"norm_counts\"], axis=0)"
   ]
  },
  {
   "cell_type": "code",
   "execution_count": null,
   "metadata": {},
   "outputs": [],
   "source": [
    "p = df.boxplot()\n",
    "plt.xticks(rotation=90)\n",
    "plt.yscale(\"log\")\n",
    "plt.savefig(\"boxplot_Figure3_E_variability_all.pdf\")"
   ]
  },
  {
   "cell_type": "code",
   "execution_count": null,
   "metadata": {},
   "outputs": [],
   "source": [
    "df = pd.DataFrame()\n",
    "df2 = pd.DataFrame()\n",
    "for elem in ['2n Hepatocytes', '4n Hepatocytes']:\n",
    "    adata1.var[\"mean_\"+elem] = np.mean(adata1[adata1.obs[\"cell_type\"] == elem,:].layers[\"norm_counts\"], axis=0)\n",
    "    adata1.var[\"CV_\"+elem] = np.sqrt(np.exp(np.std(adata1[adata1.obs[\"cell_type\"] == elem,:].X, axis=0)**2)-1)\n",
    "    df[\"CV_\"+elem] = np.sqrt(np.exp(np.std(adata1[adata1.obs[\"cell_type\"] == elem,:].X, axis=0)**2)-1)\n",
    "    df2[\"mean_\"+elem] = np.mean(adata1[adata1.obs[\"cell_type\"] == elem,:].layers[\"norm_counts\"], axis=0)"
   ]
  },
  {
   "cell_type": "code",
   "execution_count": null,
   "metadata": {},
   "outputs": [],
   "source": [
    "q = df.boxplot()\n",
    "plt.xticks(rotation=90)\n",
    "q.set_ylim(p.get_ylim())\n",
    "plt.yscale(\"log\")\n",
    "plt.savefig(\"boxplot_Figure3_E_variability_hep.pdf\")"
   ]
  },
  {
   "cell_type": "code",
   "execution_count": null,
   "metadata": {},
   "outputs": [],
   "source": [
    "stats.mannwhitneyu(df[\"CV_2n Hepatocytes\"].dropna(), df[\"CV_4n Hepatocytes\"].dropna())"
   ]
  },
  {
   "cell_type": "code",
   "execution_count": null,
   "metadata": {},
   "outputs": [],
   "source": [
    "np.median(df[\"CV_2n Hepatocytes\"])/np.median(df[\"CV_4n Hepatocytes\"])"
   ]
  },
  {
   "cell_type": "markdown",
   "metadata": {},
   "source": [
    "### Highly variable genes per cell type"
   ]
  },
  {
   "cell_type": "code",
   "execution_count": null,
   "metadata": {},
   "outputs": [],
   "source": [
    "for elem in list(set(adata1.obs[\"cell_type\"])):\n",
    "    outfile=open(\"differential_variability/high_CV_\"+elem+\".txt\",\"w\")\n",
    "    for idx, value in enumerate(adata1.var[\"CV_\"+elem].tolist()):\n",
    "        if value > 1.5:\n",
    "            outfile.write(adata1.var_names.tolist()[idx])\n",
    "            outfile.write(\"\\n\")\n",
    "    outfile.close()"
   ]
  },
  {
   "cell_type": "markdown",
   "metadata": {},
   "source": [
    "### Stem cell markers"
   ]
  },
  {
   "cell_type": "code",
   "execution_count": null,
   "metadata": {},
   "outputs": [],
   "source": [
    "adata1 = adata[adata.obs[\"cell_type1\"] == \"Hepatocytes\"]"
   ]
  },
  {
   "cell_type": "code",
   "execution_count": null,
   "metadata": {},
   "outputs": [],
   "source": [
    "HSC_name = []\n",
    "HSC_id = []\n",
    "index = 0\n",
    "for n in adata1.var[\"gene_name\"]:\n",
    "    if n in [\"Afp\",\"Epcam\",\"Icam1\",\"Itga6\",\"Lgr5\",\"Notch2\",\"Prom1\",\"Sox9\",\"Tbx3\",\"Tert\", \"Axin2\"] :\n",
    "        HSC_name.append(n)\n",
    "        HSC_id.append(adata1.var_names[index])\n",
    "    index += 1\n",
    "sc.pl.heatmap(adata1,groupby=\"clusters\", var_names=HSC_id, use_raw=False, show_gene_labels=True,\n",
    "              standard_scale=\"obs\",swap_axes=True)"
   ]
  },
  {
   "cell_type": "code",
   "execution_count": null,
   "metadata": {},
   "outputs": [],
   "source": [
    "annot = []\n",
    "for elem in adata.obs[\"cell_type1\"]:\n",
    "    if elem in [\"Hepatocytes\", \"Hepatobiliary cells\"]:\n",
    "        annot.append(\"hep-like\")\n",
    "    else:\n",
    "        annot.append(\"non-parenchymal\")\n",
    "adata.obs[\"rough_annot\"] = annot       "
   ]
  },
  {
   "cell_type": "code",
   "execution_count": null,
   "metadata": {},
   "outputs": [],
   "source": [
    "adata2 = adata[adata.obs[\"rough_annot\"] == \"hep-like\"].copy()"
   ]
  },
  {
   "cell_type": "code",
   "execution_count": null,
   "metadata": {},
   "outputs": [],
   "source": [
    "sc.pl.heatmap(adata2 ,groupby=\"cell_type\", var_names=HSC_id, use_raw=False, show_gene_labels=True,\n",
    "              standard_scale=\"obs\",swap_axes=True)"
   ]
  },
  {
   "cell_type": "markdown",
   "metadata": {},
   "source": [
    "#### Stem cell marker coexpression in hepatocytes"
   ]
  },
  {
   "cell_type": "code",
   "execution_count": null,
   "metadata": {},
   "outputs": [],
   "source": [
    "adata3 = adata1[:,HSC_id].copy()"
   ]
  },
  {
   "cell_type": "code",
   "execution_count": null,
   "metadata": {},
   "outputs": [],
   "source": [
    "sc.pp.filter_cells(adata3, min_counts=1)"
   ]
  },
  {
   "cell_type": "code",
   "execution_count": null,
   "metadata": {},
   "outputs": [],
   "source": [
    "adata3.X = adata3.layers[\"raw_bin\"]"
   ]
  },
  {
   "cell_type": "code",
   "execution_count": null,
   "metadata": {},
   "outputs": [],
   "source": [
    "sc.pl.clustermap(adata3, use_raw=False, obs_keys=\"Ploidy\", cmap=sns.cubehelix_palette(20), figsize=(15,15), \n",
    "                 method=\"average\", metric=\"jaccard\", standard_scale=0)"
   ]
  },
  {
   "cell_type": "code",
   "execution_count": null,
   "metadata": {},
   "outputs": [],
   "source": [
    "adata4 = adata3[adata3.obs[\"Ploidy\"] == \"2n\",:].copy()\n",
    "adata5 = adata3[adata3.obs[\"Ploidy\"] == \"4n\",:].copy()"
   ]
  },
  {
   "cell_type": "code",
   "execution_count": null,
   "metadata": {},
   "outputs": [],
   "source": [
    "from scipy.cluster.hierarchy import linkage\n",
    "df = pd.DataFrame(adata3.layers[\"raw_bin\"].T) # genes are rows, cells are columns now\n",
    "df.index = adata3.var[\"gene_name\"] # add gene names as row names\n",
    "df.columns = adata3.obs.index # add cell names as column names\n",
    "\n",
    "lut = dict(zip(adata3.obs[\"Ploidy\"], \"b\"))\n",
    "col_colors = adata3.obs[\"Ploidy\"].map(lut)\n",
    "\n",
    "gene_link = linkage(df, metric=\"jaccard\")\n",
    "cell_link = linkage(df.transpose(), metric=\"jaccard\")\n",
    "\n",
    "gene_link.shape\n",
    "\n",
    "g = sns.clustermap(df, col_colors=col_colors, col_linkage=cell_link, row_linkage=gene_link, cmap=sns.cubehelix_palette(20), standard_scale=1, figsize=(15,15))\n",
    "#g.savefig(\"heatmap_Figure4_B_20200515.pdf\")"
   ]
  },
  {
   "cell_type": "code",
   "execution_count": null,
   "metadata": {},
   "outputs": [],
   "source": [
    "df = pd.DataFrame(adata4.layers[\"raw_bin\"].T) # genes are rows, cells are columns now\n",
    "df.index = adata4.var[\"gene_name\"] # add gene names as row names\n",
    "df.columns = adata4.obs.index # add cell names as column names\n",
    "\n",
    "lut = dict(zip(adata3.obs[\"Ploidy\"], \"b\"))\n",
    "col_colors = adata3.obs[\"Ploidy\"].map(lut)\n",
    "\n",
    "gene_link = linkage(df, metric=\"jaccard\")\n",
    "cell_link = linkage(df.transpose(), metric=\"jaccard\")\n",
    "\n",
    "gene_link.shape\n",
    "\n",
    "g = sns.clustermap(df, col_colors=col_colors, col_linkage=cell_link, row_linkage=gene_link, cmap=sns.cubehelix_palette(20), standard_scale=1, figsize=(15,15))\n",
    "#g.savefig(\"heatmap_Figure4_B_2n_20200515pdf\")"
   ]
  },
  {
   "cell_type": "code",
   "execution_count": null,
   "metadata": {},
   "outputs": [],
   "source": [
    "df = pd.DataFrame(adata5.layers[\"raw_bin\"].T) # genes are rows, cells are columns now\n",
    "df.index = adata5.var[\"gene_name\"] # add gene names as row names\n",
    "df.columns = adata5.obs.index # add cell names as column names\n",
    "\n",
    "lut = dict(zip(adata3.obs[\"Ploidy\"], \"b\"))\n",
    "col_colors = adata3.obs[\"Ploidy\"].map(lut)\n",
    "\n",
    "gene_link = linkage(df, metric=\"jaccard\")\n",
    "cell_link = linkage(df.transpose(), metric=\"jaccard\")\n",
    "\n",
    "gene_link.shape\n",
    "\n",
    "g = sns.clustermap(df, col_colors=col_colors, col_linkage=cell_link, row_linkage=gene_link, cmap=sns.cubehelix_palette(20), standard_scale=1, figsize=(15,15))\n",
    "#g.savefig(\"heatmap_Figure4_B_4n_20200515.pdf\")"
   ]
  },
  {
   "cell_type": "code",
   "execution_count": null,
   "metadata": {},
   "outputs": [],
   "source": [
    "def seriation(Z,N,cur_index):\n",
    "    '''\n",
    "        input:\n",
    "            - Z is a hierarchical tree (dendrogram)\n",
    "            - N is the number of points given to the clustering process\n",
    "            - cur_index is the position in the tree for the recursive traversal\n",
    "        output:\n",
    "            - order implied by the hierarchical tree Z\n",
    "            \n",
    "        seriation computes the order implied by a hierarchical tree (dendrogram)\n",
    "    '''\n",
    "    if cur_index < N:\n",
    "        return [cur_index]\n",
    "    else:\n",
    "        left = int(Z[cur_index-N,0])\n",
    "        right = int(Z[cur_index-N,1])\n",
    "        return (seriation(Z,N,left) + seriation(Z,N,right))\n",
    "    \n",
    "def compute_serial_matrix(dist_mat,method=\"ward\"):\n",
    "    '''\n",
    "        input:\n",
    "            - dist_mat is a distance matrix\n",
    "            - method = [\"ward\",\"single\",\"average\",\"complete\"]\n",
    "        output:\n",
    "            - seriated_dist is the input dist_mat,\n",
    "              but with re-ordered rows and columns\n",
    "              according to the seriation, i.e. the\n",
    "              order implied by the hierarchical tree\n",
    "            - res_order is the order implied by\n",
    "              the hierarhical tree\n",
    "            - res_linkage is the hierarhical tree (dendrogram)\n",
    "        \n",
    "        compute_serial_matrix transforms a distance matrix into \n",
    "        a sorted distance matrix according to the order implied \n",
    "        by the hierarchical tree (dendrogram)\n",
    "    '''\n",
    "    N = len(dist_mat)\n",
    "    flat_dist_mat = squareform(dist_mat)\n",
    "    res_linkage = linkage(flat_dist_mat, method=method)\n",
    "    res_order = seriation(res_linkage, N, N + N-2)\n",
    "    seriated_dist = np.zeros((N,N))\n",
    "    a,b = np.triu_indices(N,k=1)\n",
    "    seriated_dist[a,b] = dist_mat[ [res_order[i] for i in a], [res_order[j] for j in b]]\n",
    "    seriated_dist[b,a] = seriated_dist[a,b]\n",
    "    \n",
    "    return seriated_dist, res_order, res_linkage\n",
    "\n"
   ]
  },
  {
   "cell_type": "code",
   "execution_count": null,
   "metadata": {},
   "outputs": [],
   "source": [
    "df = pd.DataFrame(adata3.layers[\"raw_bin\"].T)\n",
    "df.index = adata3.var[\"gene_name\"]\n",
    "df.columns = adata3.obs.index"
   ]
  },
  {
   "cell_type": "code",
   "execution_count": null,
   "metadata": {},
   "outputs": [],
   "source": [
    "from scipy.spatial.distance import pdist, squareform"
   ]
  },
  {
   "cell_type": "code",
   "execution_count": null,
   "metadata": {},
   "outputs": [],
   "source": [
    "x = pdist(df, metric=\"jaccard\")\n",
    "x2 = squareform(x)"
   ]
  },
  {
   "cell_type": "code",
   "execution_count": null,
   "metadata": {},
   "outputs": [],
   "source": [
    "ordered_dist_mat, res_order, res_linkage = compute_serial_matrix(x2,\"ward\")"
   ]
  },
  {
   "cell_type": "code",
   "execution_count": null,
   "metadata": {},
   "outputs": [],
   "source": [
    "df = pd.DataFrame(ordered_dist_mat)\n",
    "df.index = adata3.var[\"gene_name\"][res_order]\n",
    "df.columns = adata3.var[\"gene_name\"][res_order]\n",
    "mask = np.triu(np.ones_like(df, dtype=np.bool))\n",
    "sns.heatmap(df, cmap=\"RdBu\")#, mask=mask)\n",
    "#plt.savefig(\"heatmap_jaccard_distance_stem_cell_markers_2n_20200519.pdf\")"
   ]
  },
  {
   "cell_type": "markdown",
   "metadata": {},
   "source": [
    "### Pseudospacial ordering based on zonation markers"
   ]
  },
  {
   "cell_type": "code",
   "execution_count": null,
   "metadata": {},
   "outputs": [],
   "source": [
    "adata1 = adata[adata.obs[\"cell_type1\"] == \"Hepatocytes\"]"
   ]
  },
  {
   "cell_type": "code",
   "execution_count": null,
   "metadata": {},
   "outputs": [],
   "source": [
    "sc.pl.violin(adata1, \"n_genes\", groupby=\"Ploidy\")"
   ]
  },
  {
   "cell_type": "code",
   "execution_count": null,
   "metadata": {},
   "outputs": [],
   "source": [
    "np.median(adata1[adata1.obs[\"Ploidy\"] == \"4n\"].obs[\"n_genes\"])/np.median(adata1[adata1.obs[\"Ploidy\"] == \"2n\"].obs[\"n_genes\"])"
   ]
  },
  {
   "cell_type": "code",
   "execution_count": null,
   "metadata": {},
   "outputs": [],
   "source": [
    "sc.pl.scatter(adata1, x='n_counts_TPM', y='n_genes', color='Ploidy')"
   ]
  },
  {
   "cell_type": "code",
   "execution_count": null,
   "metadata": {},
   "outputs": [],
   "source": [
    "sc.tl.tsne(adata1, perplexity=15, n_pcs=15)\n",
    "sc.pl.tsne(adata1, color=\"Ploidy\")"
   ]
  },
  {
   "cell_type": "code",
   "execution_count": null,
   "metadata": {},
   "outputs": [],
   "source": [
    "df = pd.read_csv('../../../zonation_markers.txt', sep='\\t')\n",
    "zonation_markers = []\n",
    "for marker in df.MouseGeneID.tolist():\n",
    "    if ';' in marker:\n",
    "        zonation_markers += marker.split(';')\n",
    "    else:\n",
    "        zonation_markers.append(marker)"
   ]
  },
  {
   "cell_type": "code",
   "execution_count": null,
   "metadata": {},
   "outputs": [],
   "source": [
    "df = pd.read_csv('../../../zonation_markers_new.txt', sep='\\n')\n",
    "zonation_markers1 = []\n",
    "for marker in df.MouseGeneID.tolist():\n",
    "    if ';' in marker:\n",
    "        zonation_markers1 += marker.split(';')\n",
    "    else:\n",
    "        zonation_markers1.append(marker)"
   ]
  },
  {
   "cell_type": "code",
   "execution_count": null,
   "metadata": {},
   "outputs": [],
   "source": [
    "zonation_markers_all = zonation_markers+zonation_markers1"
   ]
  },
  {
   "cell_type": "code",
   "execution_count": null,
   "metadata": {},
   "outputs": [],
   "source": [
    "zonation_markers2 = []\n",
    "for idx,gene in enumerate(list(adata1.var['gene_name'])):\n",
    "    if gene in zonation_markers_all:\n",
    "        zonation_markers2.append(list(adata1.var_names)[idx])"
   ]
  },
  {
   "cell_type": "code",
   "execution_count": null,
   "metadata": {},
   "outputs": [],
   "source": [
    "adata2 = adata1[:,zonation_markers2].copy()\n",
    "adata2"
   ]
  },
  {
   "cell_type": "code",
   "execution_count": null,
   "metadata": {},
   "outputs": [],
   "source": [
    "sc.pp.pca(adata2)\n",
    "sc.pp.neighbors(adata2)\n",
    "sc.tl.umap(adata2)\n",
    "sc.tl.diffmap(adata2)"
   ]
  },
  {
   "cell_type": "code",
   "execution_count": null,
   "metadata": {},
   "outputs": [],
   "source": [
    "sc.pl.umap(adata2, color='Ploidy')\n",
    "sc.pl.diffmap(adata2, color=['Ploidy',\"cell_type\", \"n_genes\"])"
   ]
  },
  {
   "cell_type": "code",
   "execution_count": null,
   "metadata": {},
   "outputs": [],
   "source": [
    "sc.tl.louvain(adata2, key_added=\"louvainr1\", resolution=1)\n",
    "sc.tl.louvain(adata2, key_added=\"louvainr05\", resolution=0.5)"
   ]
  },
  {
   "cell_type": "code",
   "execution_count": null,
   "metadata": {},
   "outputs": [],
   "source": [
    "adata2.uns[\"louvainr05_colors\"] = ['#4f38b7', '#74489d', '#2498e2']"
   ]
  },
  {
   "cell_type": "code",
   "execution_count": null,
   "metadata": {},
   "outputs": [],
   "source": [
    "sc.pl.diffmap(adata2, color=[\"louvainr05\", 'Ploidy', \"n_counts_transcripts\", \"n_genes\"])"
   ]
  },
  {
   "cell_type": "code",
   "execution_count": null,
   "metadata": {},
   "outputs": [],
   "source": [
    "annot = []\n",
    "for elem in adata2.obs[\"louvainr05\"]:\n",
    "    if elem in [\"0\",\"1\"]:\n",
    "        annot.append(\"periportal\")\n",
    "    else:\n",
    "        annot.append(\"pericentral\")\n",
    "adata2.obs[\"pseudospace\"] = annot   "
   ]
  },
  {
   "cell_type": "code",
   "execution_count": null,
   "metadata": {},
   "outputs": [],
   "source": [
    "sc.pl.diffmap(adata2, color=[\"ENSMUSG00000017950\",\"ENSMUSG00000025479\",\"ENSMUSG00000029368\"], \n",
    "              title=[\"Hnf4a\",\"Cyp2e1\", \"Alb\"])"
   ]
  },
  {
   "cell_type": "code",
   "execution_count": null,
   "metadata": {},
   "outputs": [],
   "source": [
    "sc.pl.diffmap(adata2, color=[\"louvainr05\", 'Ploidy'])"
   ]
  },
  {
   "cell_type": "code",
   "execution_count": null,
   "metadata": {},
   "outputs": [],
   "source": [
    "cf.cell_compo_table(adata2, \"louvainr05\",\"Ploidy\")"
   ]
  },
  {
   "cell_type": "code",
   "execution_count": null,
   "metadata": {},
   "outputs": [],
   "source": [
    "# Data\n",
    "df = cf.cell_compo_table(adata2,\"Ploidy\", \"pseudospace\")\n",
    "r = np.arange(3)\n",
    " \n",
    "# From raw value to percentage\n",
    "totals = [i+j for i,j in zip(df['2n'], df['4n'])]\n",
    "hep2n = [i / j * 100 for i,j in zip(df['2n'], totals)]\n",
    "hep4n = [i / j * 100 for i,j in zip(df['4n'], totals)]\n",
    "\n",
    "# plot\n",
    "barWidth = 0.85\n",
    "names = ('pericentral', 'periportal')\n",
    "\n",
    "# Create bars\n",
    "plt.bar(r, hep2n, width=barWidth, label=\"2n\")\n",
    "plt.bar(r, hep4n, bottom=hep2n, width=barWidth, label=\"4n\")\n",
    "\n",
    "    \n",
    "# Custom x axis\n",
    "plt.xticks(r, names)\n",
    "#plt.xlabel(\"group\")\n",
    "plt.xticks(rotation=90)\n",
    "plt.legend(loc='upper left', bbox_to_anchor=(1,1), ncol=1)\n",
    "\n",
    "#plt.show()\n",
    "#plt.savefig(\"barplot_Figure5_D_20200515.pdf\")"
   ]
  },
  {
   "cell_type": "code",
   "execution_count": null,
   "metadata": {},
   "outputs": [],
   "source": [
    "adata2.uns[\"pseudospace_colors\"] = ['#6e0451', '#2498e2']"
   ]
  },
  {
   "cell_type": "code",
   "execution_count": null,
   "metadata": {},
   "outputs": [],
   "source": [
    "adata2.uns['iroot'] = 561\n",
    "sc.tl.dpt(adata2)\n",
    "sc.tl.paga(adata2, groups=\"pseudospace\")"
   ]
  },
  {
   "cell_type": "code",
   "execution_count": null,
   "metadata": {},
   "outputs": [],
   "source": [
    "sc.tl.rank_genes_groups(adata2, groupby=\"pseudospace\")"
   ]
  },
  {
   "cell_type": "code",
   "execution_count": null,
   "metadata": {},
   "outputs": [],
   "source": [
    "unsup_markers = []\n",
    "for elem in list(adata2.uns[\"rank_genes_groups\"][\"names\"]['pericentral'])[0:30]:\n",
    "    unsup_markers.append(elem)\n",
    "for elem in list(adata2.uns[\"rank_genes_groups\"][\"names\"]['periportal'])[0:30]:\n",
    "    unsup_markers.append(elem)"
   ]
  },
  {
   "cell_type": "markdown",
   "metadata": {},
   "source": [
    "Zonation marker genes from Halpern et al, 2017"
   ]
  },
  {
   "cell_type": "code",
   "execution_count": null,
   "metadata": {},
   "outputs": [],
   "source": [
    "bahar_genes = []\n",
    "for gene in [\"Glul\",\"Cyp2e1\",\"Cyp2f2\",\"Asl\",\"Ass1\",\"Alb\",\"Cyp1a2\",\"Rnase4\",\"Igfbp1\",\"Gsta3\",\"Ugt1a1\",\n",
    "            \"Cyp27a1\",\"Glud1\",\"Cyp8b1\",\"Hamp\",\"Igfbp2\",\"Mup3\",\"Pck1\",\"Cps1\",\"Arg1\",\"Apoa1\",\"G6pc\",\n",
    "            \"Uox\",\"Igf1\",\"Pigr\",\"Acly\",\"Axin2\",\"Gstm\",\"Psmd4\",\"C2\",\"Sdhd\"]:\n",
    "    if gene in adata2.var[\"gene_name\"].tolist():\n",
    "        bahar_genes.append(gene)\n",
    "sc.pl.diffmap(adata2, color=bahar_genes, gene_symbols=\"gene_name\")"
   ]
  },
  {
   "cell_type": "code",
   "execution_count": null,
   "metadata": {},
   "outputs": [],
   "source": [
    "for gene in bahar_genes:\n",
    "    df = pd.DataFrame()\n",
    "    df[\"dpt\"] = adata2.obs[\"dpt_pseudotime\"]\n",
    "    df[\"expression\"] = np.array(adata2[:,adata2.var[\"gene_name\"]==gene].X)\n",
    "    bins = [0, 0.1, 0.2, 0.3, 0.4, 0.5, 0.6, 0.7, 0.8, 0.9, 1]\n",
    "    labels = [0,0.2,0.3,0.4,0.5,0.6,0.7,0.8,0.9,1]\n",
    "    df['zones'] = pd.cut(df['dpt'], bins=bins, labels=labels)\n",
    "    df2 = df.groupby(df[\"zones\"]).mean()     \n",
    "    \n",
    "    plt.figure()\n",
    "    plt.plot(df2.index.tolist(), df2[\"expression\"])\n",
    "    plt.ylabel('mean_expression')\n",
    "    plt.title(gene)\n",
    "    plt.xlabel('pseudospace_bins')\n",
    "    plt.savefig(\"zonation_\"+gene+\".pdf\", bbox_inches=\"tight\")"
   ]
  },
  {
   "cell_type": "markdown",
   "metadata": {},
   "source": [
    "### PAGA path"
   ]
  },
  {
   "cell_type": "code",
   "execution_count": null,
   "metadata": {},
   "outputs": [],
   "source": [
    "plt.rcParams['figure.figsize']=(12,12) #rescale figures\n",
    "sc.pl.paga_path(adata2, nodes=['pericentral', 'periportal'], keys=unsup_markers, normalize_to_zero_one=True)"
   ]
  },
  {
   "cell_type": "markdown",
   "metadata": {},
   "source": [
    "#### PAGA for cell types"
   ]
  },
  {
   "cell_type": "code",
   "execution_count": null,
   "metadata": {},
   "outputs": [],
   "source": [
    "sc.tl.paga(adata, groups=\"cell_type\")\n",
    "sc.tl.draw_graph(adata)"
   ]
  },
  {
   "cell_type": "code",
   "execution_count": null,
   "metadata": {},
   "outputs": [],
   "source": [
    "plt.rcParams['figure.figsize']=(5,5) #rescale figures\n",
    "sc.pl.paga(adata, color=\"cell_type\")"
   ]
  },
  {
   "cell_type": "code",
   "execution_count": null,
   "metadata": {},
   "outputs": [],
   "source": [
    "plt.rcParams['figure.figsize']=(5,5) #rescale figures\n",
    "sc.pl.draw_graph(adata, color=\"cell_type\")"
   ]
  },
  {
   "cell_type": "code",
   "execution_count": null,
   "metadata": {},
   "outputs": [],
   "source": []
  }
 ],
 "metadata": {
  "kernelspec": {
   "display_name": "Python 3 (ipykernel)",
   "language": "python",
   "name": "python3"
  },
  "language_info": {
   "codemirror_mode": {
    "name": "ipython",
    "version": 3
   },
   "file_extension": ".py",
   "mimetype": "text/x-python",
   "name": "python",
   "nbconvert_exporter": "python",
   "pygments_lexer": "ipython3",
   "version": "3.11.3"
  }
 },
 "nbformat": 4,
 "nbformat_minor": 4
}
